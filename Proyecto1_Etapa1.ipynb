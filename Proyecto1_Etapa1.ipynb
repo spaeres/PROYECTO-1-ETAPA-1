{
 "cells": [
  {
   "cell_type": "markdown",
   "metadata": {
    "id": "ObqoiJVTyPar"
   },
   "source": [
    "# PROYECTO1-ETAPA1\n",
    "\n",
    "**INTEGRANTES**\n",
    "- Juan Sebastian Sanchez Delgado - 202013577\n",
    "- Miguel Angel Cardenas - 202010998\n",
    "- Santiago Paeres Gonzalez - 201425176"
   ]
  },
  {
   "cell_type": "markdown",
   "metadata": {
    "id": "8b5-Rgp1ynwk"
   },
   "source": [
    "## 1. Entendimiento y preparacion de los datos\n"
   ]
  },
  {
   "cell_type": "code",
   "execution_count": 4,
   "metadata": {
    "id": "elqXMaxmyCm1",
    "ExecuteTime": {
     "end_time": "2023-10-15T08:02:18.307517Z",
     "start_time": "2023-10-15T08:02:15.763643Z"
    }
   },
   "outputs": [],
   "source": [
    "import numpy as np\n",
    "import pandas as pd\n",
    "\n",
    "import nltk\n",
    "from nltk.corpus import stopwords\n",
    "from nltk.tokenize import word_tokenize\n",
    "\n",
    "from sklearn.ensemble import RandomForestClassifier, GradientBoostingClassifier\n",
    "from sklearn.feature_extraction.text import CountVectorizer, TfidfVectorizer\n",
    "from sklearn.metrics import (\n",
    "    ConfusionMatrixDisplay, RocCurveDisplay,\n",
    "    roc_auc_score, precision_score, recall_score, f1_score\n",
    ")\n",
    "from sklearn.model_selection import train_test_split, RandomizedSearchCV\n",
    "from sklearn.pipeline import Pipeline"
   ]
  },
  {
   "cell_type": "code",
   "execution_count": 5,
   "metadata": {
    "id": "qp6v4bT80h5P",
    "ExecuteTime": {
     "end_time": "2023-10-15T08:02:18.312486Z",
     "start_time": "2023-10-15T08:02:18.310018Z"
    }
   },
   "outputs": [],
   "source": [
    "import warnings\n",
    "warnings.filterwarnings(\"ignore\")"
   ]
  },
  {
   "cell_type": "code",
   "execution_count": 6,
   "metadata": {
    "colab": {
     "base_uri": "https://localhost:8080/"
    },
    "id": "4HXd-yb50nt3",
    "outputId": "3270ed29-dcbf-43e4-91d3-36f2cf01d0cd",
    "ExecuteTime": {
     "end_time": "2023-10-15T08:02:18.580567Z",
     "start_time": "2023-10-15T08:02:18.314163Z"
    }
   },
   "outputs": [
    {
     "name": "stderr",
     "output_type": "stream",
     "text": [
      "[nltk_data] Downloading package punkt to\n",
      "[nltk_data]     /Users/santiagopaeres/nltk_data...\n",
      "[nltk_data]   Package punkt is already up-to-date!\n",
      "[nltk_data] Downloading package stopwords to\n",
      "[nltk_data]     /Users/santiagopaeres/nltk_data...\n",
      "[nltk_data]   Package stopwords is already up-to-date!\n"
     ]
    }
   ],
   "source": [
    "# Descargando stopwords\n",
    "nltk.download(\"punkt\")\n",
    "nltk.download(\"stopwords\")\n",
    "stop_words = stopwords.words(\"spanish\")"
   ]
  },
  {
   "cell_type": "code",
   "execution_count": 7,
   "metadata": {
    "id": "FWr4o45k1PDc",
    "ExecuteTime": {
     "end_time": "2023-10-15T08:02:18.643557Z",
     "start_time": "2023-10-15T08:02:18.580050Z"
    }
   },
   "outputs": [],
   "source": [
    "df_ods = pd.read_csv(\"./cat_345.csv\", sep=';', encoding = 'utf8')"
   ]
  },
  {
   "cell_type": "code",
   "execution_count": 8,
   "metadata": {
    "colab": {
     "base_uri": "https://localhost:8080/"
    },
    "id": "L3fXJzsI5pJ_",
    "outputId": "6365d7e6-52e3-45e3-b1c3-8d048c5822fd",
    "ExecuteTime": {
     "end_time": "2023-10-15T08:02:19.421492Z",
     "start_time": "2023-10-15T08:02:19.398375Z"
    }
   },
   "outputs": [
    {
     "data": {
      "text/plain": "(3000, 2)"
     },
     "execution_count": 8,
     "metadata": {},
     "output_type": "execute_result"
    }
   ],
   "source": [
    "df_ods.shape"
   ]
  },
  {
   "cell_type": "code",
   "execution_count": 9,
   "metadata": {
    "colab": {
     "base_uri": "https://localhost:8080/"
    },
    "id": "WqysF8ERFDrh",
    "outputId": "aa3e7052-85f6-49a9-fa49-aaf6be37c918",
    "ExecuteTime": {
     "end_time": "2023-10-15T08:02:20.224919Z",
     "start_time": "2023-10-15T08:02:20.199626Z"
    }
   },
   "outputs": [
    {
     "data": {
      "text/plain": "Textos_espanol    object\nsdg                int64\ndtype: object"
     },
     "execution_count": 9,
     "metadata": {},
     "output_type": "execute_result"
    }
   ],
   "source": [
    "df_ods.dtypes"
   ]
  },
  {
   "cell_type": "code",
   "execution_count": 10,
   "metadata": {
    "colab": {
     "base_uri": "https://localhost:8080/",
     "height": 206
    },
    "id": "u1r4W_z96VdK",
    "outputId": "6b83e625-233b-4144-e4ad-3329340a1530",
    "ExecuteTime": {
     "end_time": "2023-10-15T08:02:21.244675Z",
     "start_time": "2023-10-15T08:02:21.217929Z"
    }
   },
   "outputs": [
    {
     "data": {
      "text/plain": "                                         Textos_espanol  sdg\n160   El enfoque en este marco es que la base de med...    3\n2612  Algunas de estas últimas organizaciones atiend...    5\n2900  A continuación, discutimos brevemente algunas ...    5\n826   Todas las funciones necesarias en torno a la s...    3\n2201  Por lo general, estos programas pretenden desa...    5",
      "text/html": "<div>\n<style scoped>\n    .dataframe tbody tr th:only-of-type {\n        vertical-align: middle;\n    }\n\n    .dataframe tbody tr th {\n        vertical-align: top;\n    }\n\n    .dataframe thead th {\n        text-align: right;\n    }\n</style>\n<table border=\"1\" class=\"dataframe\">\n  <thead>\n    <tr style=\"text-align: right;\">\n      <th></th>\n      <th>Textos_espanol</th>\n      <th>sdg</th>\n    </tr>\n  </thead>\n  <tbody>\n    <tr>\n      <th>160</th>\n      <td>El enfoque en este marco es que la base de med...</td>\n      <td>3</td>\n    </tr>\n    <tr>\n      <th>2612</th>\n      <td>Algunas de estas últimas organizaciones atiend...</td>\n      <td>5</td>\n    </tr>\n    <tr>\n      <th>2900</th>\n      <td>A continuación, discutimos brevemente algunas ...</td>\n      <td>5</td>\n    </tr>\n    <tr>\n      <th>826</th>\n      <td>Todas las funciones necesarias en torno a la s...</td>\n      <td>3</td>\n    </tr>\n    <tr>\n      <th>2201</th>\n      <td>Por lo general, estos programas pretenden desa...</td>\n      <td>5</td>\n    </tr>\n  </tbody>\n</table>\n</div>"
     },
     "execution_count": 10,
     "metadata": {},
     "output_type": "execute_result"
    }
   ],
   "source": [
    "df_ods.sample(5)"
   ]
  },
  {
   "cell_type": "markdown",
   "metadata": {
    "id": "Ro4BqScgzX7S"
   },
   "source": [
    "### 1.1 Completitud"
   ]
  },
  {
   "cell_type": "code",
   "execution_count": 11,
   "metadata": {
    "colab": {
     "base_uri": "https://localhost:8080/"
    },
    "id": "sY72_CZF7k2S",
    "outputId": "2f700c2d-a860-4464-f269-3c964616a7c8",
    "ExecuteTime": {
     "end_time": "2023-10-15T08:02:22.340135Z",
     "start_time": "2023-10-15T08:02:22.312834Z"
    }
   },
   "outputs": [
    {
     "data": {
      "text/plain": "Textos_espanol    0.0\nsdg               0.0\ndtype: float64"
     },
     "execution_count": 11,
     "metadata": {},
     "output_type": "execute_result"
    }
   ],
   "source": [
    "# Se muestra la proporcion de registros con valores nulos con respecto a la totalidad de registros\n",
    "df_ods.isnull().sum() / df_ods.shape[0]"
   ]
  },
  {
   "cell_type": "code",
   "execution_count": 12,
   "metadata": {
    "colab": {
     "base_uri": "https://localhost:8080/"
    },
    "id": "nlREVvgq8SxJ",
    "outputId": "10c1b98f-0cb7-4df0-f499-4619e0308e02",
    "ExecuteTime": {
     "end_time": "2023-10-15T08:02:22.858562Z",
     "start_time": "2023-10-15T08:02:22.830368Z"
    }
   },
   "outputs": [
    {
     "data": {
      "text/plain": "Textos_espanol    0.0\nsdg               0.0\ndtype: float64"
     },
     "execution_count": 12,
     "metadata": {},
     "output_type": "execute_result"
    }
   ],
   "source": [
    "# Cálculo de porcentaje de valores nulos por columna\n",
    "((df_ods.isnull().sum()/df_ods.shape[0])).sort_values(ascending=False)"
   ]
  },
  {
   "cell_type": "markdown",
   "metadata": {
    "id": "TSWDC9ZezfEi"
   },
   "source": [
    "### 1.2 Unicidad"
   ]
  },
  {
   "cell_type": "code",
   "execution_count": 13,
   "metadata": {
    "colab": {
     "base_uri": "https://localhost:8080/"
    },
    "id": "gVBtywpK897B",
    "outputId": "3bd88b43-3438-4e2d-e0da-a7ec124b0d91",
    "ExecuteTime": {
     "end_time": "2023-10-15T08:02:23.935688Z",
     "start_time": "2023-10-15T08:02:23.914457Z"
    }
   },
   "outputs": [
    {
     "data": {
      "text/plain": "0"
     },
     "execution_count": 13,
     "metadata": {},
     "output_type": "execute_result"
    }
   ],
   "source": [
    "# Se revisa el numero de filas duplicadas\n",
    "df_ods.duplicated(keep = False).sum()"
   ]
  },
  {
   "cell_type": "markdown",
   "metadata": {
    "id": "8eNt1aNIzkFp"
   },
   "source": [
    "### 1.3 Consistencia"
   ]
  },
  {
   "cell_type": "code",
   "execution_count": 14,
   "metadata": {
    "id": "ZeCQhcqf-oz8",
    "ExecuteTime": {
     "end_time": "2023-10-15T08:02:25.105784Z",
     "start_time": "2023-10-15T08:02:25.078241Z"
    }
   },
   "outputs": [],
   "source": [
    "df_ods[\"Textos_espanol\"] = df_ods[\"Textos_espanol\"].astype(str)"
   ]
  },
  {
   "cell_type": "markdown",
   "metadata": {
    "id": "QyvxHZwJzncw"
   },
   "source": [
    "### 1.4 Validez"
   ]
  },
  {
   "cell_type": "code",
   "execution_count": 15,
   "metadata": {
    "colab": {
     "base_uri": "https://localhost:8080/"
    },
    "id": "xlnqsB6d9h3H",
    "outputId": "0828ee36-2f7b-41f1-fa50-fdd2fc6e63b9",
    "ExecuteTime": {
     "end_time": "2023-10-15T08:02:26.253087Z",
     "start_time": "2023-10-15T08:02:26.228466Z"
    }
   },
   "outputs": [
    {
     "data": {
      "text/plain": "sdg\n3    1000\n4    1000\n5    1000\nName: count, dtype: int64"
     },
     "execution_count": 15,
     "metadata": {},
     "output_type": "execute_result"
    }
   ],
   "source": [
    "df_ods['sdg'].value_counts()"
   ]
  },
  {
   "cell_type": "code",
   "execution_count": 16,
   "metadata": {
    "colab": {
     "base_uri": "https://localhost:8080/"
    },
    "id": "q5EIKs2v_IIn",
    "outputId": "ef0feb5f-0473-43af-fe80-2413ef6598c7",
    "ExecuteTime": {
     "end_time": "2023-10-15T08:02:26.904333Z",
     "start_time": "2023-10-15T08:02:26.753856Z"
    }
   },
   "outputs": [
    {
     "data": {
      "text/plain": "Textos_espanol\nPor ejemplo, el nÃºmero de consultas externas de especialistas es de 319 por cada mil derechohabientes en el SP, en comparaciÃ³n con 338 y 620 por cada mil derechohabientes en el IMSS y el ISSSTE, respectivamente. Si bien algunas de estas diferencias pueden reflejar una necesidad desigual (como la poblaciÃ³n ligeramente mayor del ISSSTE), otras no pueden justificarse de esta manera. El nÃºmero de recetas que no pudieron ser surtidas en su totalidad por un farmacÃ©utico debido a la falta de existencias es de 33% dentro del SP en comparaciÃ³n con 14% dentro del IMSS segÃºn los datos de la encuesta (aunque las propias cifras de los institutos de la SS sugieren tasas mÃ¡s altas de recetas surtidas). Ambas cifras se encuentran entre las mÃ¡s altas de la OCDE. El gasto de bolsillo no se ha reducido significativamente en la última década, a pesar de los esfuerzos para lograr la cobertura sanitaria universal a través de la reforma del SP.                                                                                                                                                                                                                                                                                                                                                                                                                                        1\nPonencia presentada en el Taller FAO-FIDA-OIT sobre \"Lagunas, tendencias e investigación actual en las dimensiones de género del empleo agrícola y rural: Differentiated Pathways out of Poverty'Roma, 31 de marzo - 2 de abril de 2009. D. Sahn (1997), \"Gender and Education Impacts on Employment and Earnings inWest Africa: Evidence from Guinea\", Economic Development and Cultural Change, pp. Evidence from Cote-d'Ivoire\", Oxford Bulletin of Economics and Statistics, pp.                                                                                                                                                                                                                                                                                                                                                                                                                                                                                                                                                                                                                                                                                                                                                                                                                                                                                                                                    1\nDe hecho, la educación, medida por años de escolaridad, se correlaciona positivamente con la intensidad de capital en la manufactura (Qu y Cai, 2011). Dado que la mayor parte de la fuerza laboral en China está compuesta por graduados de secundaria y preparatoria, existe un amplio margen para invertir en educación y capacitación para impulsar la productividad laboral. La productividad laboral sería un 23% más alta si los graduados de la escuela secundaria básica tuvieran educación secundaria superior y se duplicaría si los graduados de la escuela secundaria superior tuvieran formación universitaria. Sin embargo, el logro de la educación superior por sí solo puede no ser suficiente. Para adaptarse a la estructura cambiante de la industria, se necesita un amplio conjunto de habilidades y amplios conocimientos generales, que faciliten la adquisición de nuevas habilidades.                                                                                                                                                                                                                                                                                                                                                                                                                                                                                                        1\nEsto se estableció en la Declaración de los Derechos Humanos de las Naciones Unidas de 1948 (artículo 26) y se repitió en la Convención de las Naciones Unidas sobre los Derechos del Niño de 1989 (artículo 28). El informe de la Comisión de Respeto y Comprensión de la Commonwealth, presidida por Amartya Sen, ha llamado más la atención sobre este asunto (Sen, 2007). La educación básica también es ampliamente aceptada en la literatura internacional y el discurso político como esencial para el desarrollo y la reducción de la pobreza (ver, por ejemplo, Lee, 2004, Cohen et al.,                                                                                                                                                                                                                                                                                                                                                                                                                                                                                                                                                                                                                                                                                                                                                                                                                       1\nLa prueba de habilidades básicas en línea para TIC cubre las habilidades básicas que los docentes necesitan para cumplir con su rol profesional más amplio en las escuelas en lugar del conocimiento de la materia requerido para enseñar. La prueba requiere que demuestren la capacidad de realizar cambios en las diapositivas en el software de presentación usando un navegador web, usar el correo electrónico y varias funciones dentro del correo electrónico, usar un editor de texto y correo electrónico, actualizar una hoja de cálculo y descargar recursos de Internet y regístrese para recibir un boletín. Todos los docentes en formación deben aprobar esta prueba en línea de competencia en TIC antes de que se les pueda otorgar el estatus de docente calificado. El “Plan de estudios nacional de formación inicial de profesores en el uso de las TIC en la enseñanza de asignaturas”, que se introdujo en los institutos de formación de profesores en 1998 en Inglaterra, constaba de más de cien declaraciones de competencia en TIC y se extendía a 17 páginas impresas, pero se encontró que era demasiado burocrático y difícil de evaluar en la práctica, de ahí el paso a una formulación más sucinta de las competencias en TIC que se requiere que posean los docentes en formación (informe de país24 dedicado a Inglaterra, última actualización y revisión en octubre de 2007).    1\n                                                                                                                                                                                                                                                                                                                                                                                                                                                                                                                                                                                                                                                                                                                                                                                                                                                                                                                                                                                                                                                                                                                                                                                                                                                                                                                                                                                                                       ..\nLa segunda sección se centra en las variaciones dentro de los países y a lo largo del tiempo, y explora cómo los cambios en la proporción de alumnos por docente, el tamaño de la clase, la remuneración de los docentes y la autonomía escolar para seleccionar docentes se relacionan con las tendencias de desempeño en todos los países y economías participantes de PISA. La última sección se centra en las variaciones dentro de los países y explora cómo las calificaciones y la experiencia de los docentes, la rotación de docentes y el apoyo al aprendizaje profesional de los docentes se relacionan con los resultados a nivel escolar. El uso de dichos datos por parte de la OCDE es sin perjuicio del estado de los Altos del Golán, Jerusalén Este y los asentamientos israelíes en Cisjordania según los términos del derecho internacional.                                                                                                                                                                                                                                                                                                                                                                                                                                                                                                                                                        1\nOtros proveedores incluyen universidades, que brindan cursos a maestros que buscan avanzar en su carrera, organismos del gobierno central como el Instituto de Ciencias de la Educación (IES) y organizaciones no gubernamentales (ONG). También es clave para seguir profesionalizando la función docente y potenciar el prestigio y el atractivo de la profesión. En la encuesta TALIS 2013, solo el 35 % de los docentes de Rumanía afirmaron sentir que su profesión es valorada por la sociedad (OCDE, 2014c).                                                                                                                                                                                                                                                                                                                                                                                                                                                                                                                                                                                                                                                                                                                                                                                                                                                                                                     1\nLos modelos de crecimiento miden la mejora observando \"cómo\" un centro ha mejorado el rendimiento de los alumnos independientemente del nivel de logro (Figlio y Loeb, 2011). Dentro de cada modelo, los profesores están motivados para centrar su atención en diferentes grupos de alumnos. En los modelos de estatus, los estudiantes de bajo rendimiento reciben mayor atención para llevarlos a niveles de competencia, en los modelos de crecimiento, los profesores son recompensados por mejorar los resultados de los estudiantes para cualquier nivel de estudiante. Por lo tanto, en los sistemas de modelos de crecimiento es menos probable que los profesores excluyan a los alumnos de bajo rendimiento, ya que se mide cualquier mejora en los resultados.                                                                                                                                                                                                                                                                                                                                                                                                                                                                                                                                                                                                                                              1\nSe han adoptado medidas para garantizar que todos los alumnos finalicen la escuela secundaria inferior con las habilidades básicas adecuadas, brindar una educación inclusiva y significativa para todos y alentar a los gobiernos y escuelas locales a establecer sus propios objetivos en consonancia con los objetivos nacionales. Dentro de este marco, el Ministerio de Educación de Noruega está buscando enfoques más específicos para fortalecer la calidad de la educación secundaria inferior. Estos se centran en la necesidad de adaptar la enseñanza y el aprendizaje a la motivación de los estudiantes en edades específicas de la adolescencia, de garantizar entornos escolares adecuados que satisfagan sus necesidades y de apoyar transiciones efectivas de un nivel al siguiente.                                                                                                                                                                                                                                                                                                                                                                                                                                                                                                                                                                                                                  1\nEsto ha sido reconocido por los comitÃ©s en la atenciÃ³n prestada a la salud reproductiva de la mujer, el aborto, la anticoncepciÃ³n, el matrimonio precoz y el embarazo en la adolescencia. AsÃ, se reconoce que el control sobre su propia reproducciÃ³n es fundamental para que las mujeres puedan participar en igualdad de condiciones en la sociedad. AsÃ, las Directrices para la presentaciÃ³n de informes sobre el artÃculo 6, el derecho a la vida, exigen a los Estados que proporcionen informaciÃ³n sobre las tasas de natalidad y las muertes de mujeres relacionadas con el embarazo y el parto, asÃ como sobre las medidas adoptadas para ayudar a las mujeres a evitar embarazos no deseados y garantizar que no tengan que someterse a abortos clandestinos que pongan en peligro su vida (PIDCP 2012).                                                                                                                                                                                                                                                                                                                                                                                                                                                                                                                                                                                               1\nName: count, Length: 3000, dtype: int64"
     },
     "execution_count": 16,
     "metadata": {},
     "output_type": "execute_result"
    }
   ],
   "source": [
    "df_ods['Textos_espanol'].value_counts()"
   ]
  },
  {
   "cell_type": "code",
   "execution_count": 17,
   "metadata": {
    "colab": {
     "base_uri": "https://localhost:8080/",
     "height": 677
    },
    "id": "cD-hFooO9kPZ",
    "outputId": "cc650019-9702-451f-e66c-55539f491663",
    "ExecuteTime": {
     "end_time": "2023-10-15T08:02:27.429556Z",
     "start_time": "2023-10-15T08:02:27.398209Z"
    }
   },
   "outputs": [
    {
     "data": {
      "text/plain": "                                         Textos_espanol  sdg\n2332  Sin embargo, dÃ©cadas despuÃ©s de la caÃda de ...    5\n2657  La brecha de género en las actividades empresa...    5\n2228  En todos los países, las fuerzas armadas estat...    5\n1223  La competencia en el uso de las TIC en el aula...    4\n2941  Para un análisis completo y profundo de las de...    5\n697   Un sistema de atención primaria funcional en e...    3\n86    Los ahorros solo fueron estadísticamente signi...    3\n1257  Los resultados de particular interés se relaci...    4\n2887  Estudios recientes de empresas emergentes de a...    5\n500   Los costes de la esquizofrenia fueron de aprox...    3\n285   Las altas tasas de suicidio indican una crisis...    3\n2709  No obstante, también se incluyen variables esp...    5\n1074  Salvo que se indique lo contrario, las compara...    4\n2474  Sin embargo, la mayoría de las agencias de igu...    5\n21    Hay datos que indican que la ubicación conjunt...    3\n2789  A pesar de la existencia de legislaciones para...    5\n1094  En otras palabras, los estudiantes estaban apr...    4\n1427  Mejorar la eficacia de las formas directas de ...    4\n945   Los hombres que padecen CVD tienen 1,17 [0,04,...    3\n13    El desarrollo de una política de recertificaci...    3",
      "text/html": "<div>\n<style scoped>\n    .dataframe tbody tr th:only-of-type {\n        vertical-align: middle;\n    }\n\n    .dataframe tbody tr th {\n        vertical-align: top;\n    }\n\n    .dataframe thead th {\n        text-align: right;\n    }\n</style>\n<table border=\"1\" class=\"dataframe\">\n  <thead>\n    <tr style=\"text-align: right;\">\n      <th></th>\n      <th>Textos_espanol</th>\n      <th>sdg</th>\n    </tr>\n  </thead>\n  <tbody>\n    <tr>\n      <th>2332</th>\n      <td>Sin embargo, dÃ©cadas despuÃ©s de la caÃda de ...</td>\n      <td>5</td>\n    </tr>\n    <tr>\n      <th>2657</th>\n      <td>La brecha de género en las actividades empresa...</td>\n      <td>5</td>\n    </tr>\n    <tr>\n      <th>2228</th>\n      <td>En todos los países, las fuerzas armadas estat...</td>\n      <td>5</td>\n    </tr>\n    <tr>\n      <th>1223</th>\n      <td>La competencia en el uso de las TIC en el aula...</td>\n      <td>4</td>\n    </tr>\n    <tr>\n      <th>2941</th>\n      <td>Para un análisis completo y profundo de las de...</td>\n      <td>5</td>\n    </tr>\n    <tr>\n      <th>697</th>\n      <td>Un sistema de atención primaria funcional en e...</td>\n      <td>3</td>\n    </tr>\n    <tr>\n      <th>86</th>\n      <td>Los ahorros solo fueron estadísticamente signi...</td>\n      <td>3</td>\n    </tr>\n    <tr>\n      <th>1257</th>\n      <td>Los resultados de particular interés se relaci...</td>\n      <td>4</td>\n    </tr>\n    <tr>\n      <th>2887</th>\n      <td>Estudios recientes de empresas emergentes de a...</td>\n      <td>5</td>\n    </tr>\n    <tr>\n      <th>500</th>\n      <td>Los costes de la esquizofrenia fueron de aprox...</td>\n      <td>3</td>\n    </tr>\n    <tr>\n      <th>285</th>\n      <td>Las altas tasas de suicidio indican una crisis...</td>\n      <td>3</td>\n    </tr>\n    <tr>\n      <th>2709</th>\n      <td>No obstante, también se incluyen variables esp...</td>\n      <td>5</td>\n    </tr>\n    <tr>\n      <th>1074</th>\n      <td>Salvo que se indique lo contrario, las compara...</td>\n      <td>4</td>\n    </tr>\n    <tr>\n      <th>2474</th>\n      <td>Sin embargo, la mayoría de las agencias de igu...</td>\n      <td>5</td>\n    </tr>\n    <tr>\n      <th>21</th>\n      <td>Hay datos que indican que la ubicación conjunt...</td>\n      <td>3</td>\n    </tr>\n    <tr>\n      <th>2789</th>\n      <td>A pesar de la existencia de legislaciones para...</td>\n      <td>5</td>\n    </tr>\n    <tr>\n      <th>1094</th>\n      <td>En otras palabras, los estudiantes estaban apr...</td>\n      <td>4</td>\n    </tr>\n    <tr>\n      <th>1427</th>\n      <td>Mejorar la eficacia de las formas directas de ...</td>\n      <td>4</td>\n    </tr>\n    <tr>\n      <th>945</th>\n      <td>Los hombres que padecen CVD tienen 1,17 [0,04,...</td>\n      <td>3</td>\n    </tr>\n    <tr>\n      <th>13</th>\n      <td>El desarrollo de una política de recertificaci...</td>\n      <td>3</td>\n    </tr>\n  </tbody>\n</table>\n</div>"
     },
     "execution_count": 17,
     "metadata": {},
     "output_type": "execute_result"
    }
   ],
   "source": [
    "df_ods.sample(20)"
   ]
  },
  {
   "cell_type": "code",
   "execution_count": 18,
   "metadata": {
    "colab": {
     "base_uri": "https://localhost:8080/",
     "height": 424
    },
    "id": "3v6Zn69E_zED",
    "outputId": "fe3de3e1-1ac6-4430-f7e4-39a71007bb7d",
    "ExecuteTime": {
     "end_time": "2023-10-15T08:02:28.256587Z",
     "start_time": "2023-10-15T08:02:28.219072Z"
    }
   },
   "outputs": [
    {
     "data": {
      "text/plain": "                                         Textos_espanol  sdg\n0     Por ejemplo, el nÃºmero de consultas externas ...    3\n10    Dos encuestados seÃ±alaron que no existe un or...    3\n26    También promueve mejoras en la prevención, el ...    3\n30    La falta de programas completos de acreditació...    3\n46    Dado el aumento de enfermedades crónicas como ...    3\n...                                                 ...  ...\n2984  Las actividades empresariales siguen viéndose ...    5\n2990  La Agenda Nacional de Jordania 2006-15 estable...    5\n2991  En la mayoría de los países de la CAO, los fun...    5\n2996  Por el contrario, el porcentaje de hogares en ...    5\n2999  Esto ha sido reconocido por los comitÃ©s en la...    5\n\n[254 rows x 2 columns]",
      "text/html": "<div>\n<style scoped>\n    .dataframe tbody tr th:only-of-type {\n        vertical-align: middle;\n    }\n\n    .dataframe tbody tr th {\n        vertical-align: top;\n    }\n\n    .dataframe thead th {\n        text-align: right;\n    }\n</style>\n<table border=\"1\" class=\"dataframe\">\n  <thead>\n    <tr style=\"text-align: right;\">\n      <th></th>\n      <th>Textos_espanol</th>\n      <th>sdg</th>\n    </tr>\n  </thead>\n  <tbody>\n    <tr>\n      <th>0</th>\n      <td>Por ejemplo, el nÃºmero de consultas externas ...</td>\n      <td>3</td>\n    </tr>\n    <tr>\n      <th>10</th>\n      <td>Dos encuestados seÃ±alaron que no existe un or...</td>\n      <td>3</td>\n    </tr>\n    <tr>\n      <th>26</th>\n      <td>También promueve mejoras en la prevención, el ...</td>\n      <td>3</td>\n    </tr>\n    <tr>\n      <th>30</th>\n      <td>La falta de programas completos de acreditació...</td>\n      <td>3</td>\n    </tr>\n    <tr>\n      <th>46</th>\n      <td>Dado el aumento de enfermedades crónicas como ...</td>\n      <td>3</td>\n    </tr>\n    <tr>\n      <th>...</th>\n      <td>...</td>\n      <td>...</td>\n    </tr>\n    <tr>\n      <th>2984</th>\n      <td>Las actividades empresariales siguen viéndose ...</td>\n      <td>5</td>\n    </tr>\n    <tr>\n      <th>2990</th>\n      <td>La Agenda Nacional de Jordania 2006-15 estable...</td>\n      <td>5</td>\n    </tr>\n    <tr>\n      <th>2991</th>\n      <td>En la mayoría de los países de la CAO, los fun...</td>\n      <td>5</td>\n    </tr>\n    <tr>\n      <th>2996</th>\n      <td>Por el contrario, el porcentaje de hogares en ...</td>\n      <td>5</td>\n    </tr>\n    <tr>\n      <th>2999</th>\n      <td>Esto ha sido reconocido por los comitÃ©s en la...</td>\n      <td>5</td>\n    </tr>\n  </tbody>\n</table>\n<p>254 rows × 2 columns</p>\n</div>"
     },
     "execution_count": 18,
     "metadata": {},
     "output_type": "execute_result"
    }
   ],
   "source": [
    "df_ods[df_ods['Textos_espanol'].str.contains('Ã')]"
   ]
  },
  {
   "cell_type": "code",
   "execution_count": 19,
   "metadata": {
    "id": "gBxOPmTXGqv2",
    "ExecuteTime": {
     "end_time": "2023-10-15T08:02:29.070363Z",
     "start_time": "2023-10-15T08:02:29.034337Z"
    }
   },
   "outputs": [],
   "source": [
    "# Remplaza lo caracteres erroneos con su equivalencia pero en UTF-8\n",
    "df_ods['Textos_espanol'] = df_ods['Textos_espanol'].str.replace('Ã¡', 'á')\n",
    "df_ods['Textos_espanol'] = df_ods['Textos_espanol'].str.replace('Ã©', 'é')\n",
    "df_ods['Textos_espanol'] = df_ods['Textos_espanol'].str.replace('Ã³', 'ó')\n",
    "df_ods['Textos_espanol'] = df_ods['Textos_espanol'].str.replace('Ãº', 'ú')\n",
    "df_ods['Textos_espanol'] = df_ods['Textos_espanol'].str.replace('Ã±', 'ñ')\n",
    "df_ods['Textos_espanol'] = df_ods['Textos_espanol'].str.replace('Ã', 'í')"
   ]
  },
  {
   "cell_type": "code",
   "execution_count": 20,
   "metadata": {
    "colab": {
     "base_uri": "https://localhost:8080/",
     "height": 53
    },
    "id": "Wi_Eg6Z-JnQ_",
    "outputId": "a9eab142-6ba8-4dfb-a13b-fc61ce955d14",
    "ExecuteTime": {
     "end_time": "2023-10-15T08:02:29.725994Z",
     "start_time": "2023-10-15T08:02:29.701343Z"
    }
   },
   "outputs": [
    {
     "data": {
      "text/plain": "Empty DataFrame\nColumns: [Textos_espanol, sdg]\nIndex: []",
      "text/html": "<div>\n<style scoped>\n    .dataframe tbody tr th:only-of-type {\n        vertical-align: middle;\n    }\n\n    .dataframe tbody tr th {\n        vertical-align: top;\n    }\n\n    .dataframe thead th {\n        text-align: right;\n    }\n</style>\n<table border=\"1\" class=\"dataframe\">\n  <thead>\n    <tr style=\"text-align: right;\">\n      <th></th>\n      <th>Textos_espanol</th>\n      <th>sdg</th>\n    </tr>\n  </thead>\n  <tbody>\n  </tbody>\n</table>\n</div>"
     },
     "execution_count": 20,
     "metadata": {},
     "output_type": "execute_result"
    }
   ],
   "source": [
    "df_ods[df_ods['Textos_espanol'].str.contains('Ã')]"
   ]
  },
  {
   "cell_type": "code",
   "execution_count": 21,
   "metadata": {
    "colab": {
     "base_uri": "https://localhost:8080/",
     "height": 363
    },
    "id": "qfK4mZVIJnaa",
    "outputId": "036d2a49-0adf-44f5-fa83-4b818d7a7806",
    "ExecuteTime": {
     "end_time": "2023-10-15T08:02:30.381514Z",
     "start_time": "2023-10-15T08:02:30.246891Z"
    }
   },
   "outputs": [
    {
     "data": {
      "text/plain": "                                         Textos_espanol  sdg\n578   Estos pueden basarse en la edad, el sexo o el ...    3\n2002  La Convención abarca el derecho de la mujer a ...    5\n2005  También es importante la sensibilización y edu...    5\n2859  Obliga a los partidos políticos a garantizar l...    5\n2666  Esto requiere crear espacios seguros y confian...    5\n1594  Los Resultados de Prosperidad incluyen medidas...    4\n2155  El informe del Secretario General, A/64/93, pr...    5\n1931  Además, la reciente estrategia Educar para una...    4\n911   En muchos aspectos, la \"calidad\" está en el co...    3\n1291  Las recompensas se distribuyen entre los maest...    4",
      "text/html": "<div>\n<style scoped>\n    .dataframe tbody tr th:only-of-type {\n        vertical-align: middle;\n    }\n\n    .dataframe tbody tr th {\n        vertical-align: top;\n    }\n\n    .dataframe thead th {\n        text-align: right;\n    }\n</style>\n<table border=\"1\" class=\"dataframe\">\n  <thead>\n    <tr style=\"text-align: right;\">\n      <th></th>\n      <th>Textos_espanol</th>\n      <th>sdg</th>\n    </tr>\n  </thead>\n  <tbody>\n    <tr>\n      <th>578</th>\n      <td>Estos pueden basarse en la edad, el sexo o el ...</td>\n      <td>3</td>\n    </tr>\n    <tr>\n      <th>2002</th>\n      <td>La Convención abarca el derecho de la mujer a ...</td>\n      <td>5</td>\n    </tr>\n    <tr>\n      <th>2005</th>\n      <td>También es importante la sensibilización y edu...</td>\n      <td>5</td>\n    </tr>\n    <tr>\n      <th>2859</th>\n      <td>Obliga a los partidos políticos a garantizar l...</td>\n      <td>5</td>\n    </tr>\n    <tr>\n      <th>2666</th>\n      <td>Esto requiere crear espacios seguros y confian...</td>\n      <td>5</td>\n    </tr>\n    <tr>\n      <th>1594</th>\n      <td>Los Resultados de Prosperidad incluyen medidas...</td>\n      <td>4</td>\n    </tr>\n    <tr>\n      <th>2155</th>\n      <td>El informe del Secretario General, A/64/93, pr...</td>\n      <td>5</td>\n    </tr>\n    <tr>\n      <th>1931</th>\n      <td>Además, la reciente estrategia Educar para una...</td>\n      <td>4</td>\n    </tr>\n    <tr>\n      <th>911</th>\n      <td>En muchos aspectos, la \"calidad\" está en el co...</td>\n      <td>3</td>\n    </tr>\n    <tr>\n      <th>1291</th>\n      <td>Las recompensas se distribuyen entre los maest...</td>\n      <td>4</td>\n    </tr>\n  </tbody>\n</table>\n</div>"
     },
     "execution_count": 21,
     "metadata": {},
     "output_type": "execute_result"
    }
   ],
   "source": [
    "df_ods.sample(10)"
   ]
  },
  {
   "cell_type": "markdown",
   "metadata": {
    "id": "VV7A-iRhzuFe"
   },
   "source": [
    "### 1.5 Transformacion"
   ]
  },
  {
   "cell_type": "code",
   "execution_count": 22,
   "metadata": {
    "id": "QBC2sNaj0o6-",
    "ExecuteTime": {
     "end_time": "2023-10-15T08:02:31.582633Z",
     "start_time": "2023-10-15T08:02:31.544999Z"
    }
   },
   "outputs": [],
   "source": [
    "# Se dividen los datos para entrenamiento y prueba\n",
    "X_train, X_test, y_train, y_test = train_test_split(df_ods[\"Textos_espanol\"], df_ods[\"sdg\"], test_size=0.3, stratify=df_ods[\"sdg\"], random_state=1)"
   ]
  },
  {
   "cell_type": "code",
   "execution_count": 23,
   "metadata": {
    "colab": {
     "base_uri": "https://localhost:8080/"
    },
    "id": "voSRAhWn17NG",
    "outputId": "1ca4c9aa-50ec-4742-d8e1-285027db9a4e",
    "ExecuteTime": {
     "end_time": "2023-10-15T08:02:32.203341Z",
     "start_time": "2023-10-15T08:02:32.179014Z"
    }
   },
   "outputs": [
    {
     "data": {
      "text/plain": "((2100,), (900,))"
     },
     "execution_count": 23,
     "metadata": {},
     "output_type": "execute_result"
    }
   ],
   "source": [
    "X_train.shape, X_test.shape"
   ]
  },
  {
   "cell_type": "code",
   "execution_count": 24,
   "metadata": {
    "colab": {
     "base_uri": "https://localhost:8080/"
    },
    "id": "V4u-znhD18E0",
    "outputId": "3a32174b-7d5b-4aec-b154-966178c47c56",
    "ExecuteTime": {
     "end_time": "2023-10-15T08:02:32.699225Z",
     "start_time": "2023-10-15T08:02:32.669752Z"
    }
   },
   "outputs": [
    {
     "data": {
      "text/plain": "sdg\n4    0.333333\n3    0.333333\n5    0.333333\nName: proportion, dtype: float64"
     },
     "execution_count": 24,
     "metadata": {},
     "output_type": "execute_result"
    }
   ],
   "source": [
    "pd.Series(y_train).value_counts(normalize=True)"
   ]
  },
  {
   "cell_type": "code",
   "execution_count": 25,
   "metadata": {
    "colab": {
     "base_uri": "https://localhost:8080/"
    },
    "id": "P13mqnXP1-Rj",
    "outputId": "0c9916ff-f596-4557-a981-c13dfac0cbaf",
    "ExecuteTime": {
     "end_time": "2023-10-15T08:02:33.200946Z",
     "start_time": "2023-10-15T08:02:33.146364Z"
    }
   },
   "outputs": [
    {
     "data": {
      "text/plain": "sdg\n3    0.333333\n4    0.333333\n5    0.333333\nName: proportion, dtype: float64"
     },
     "execution_count": 25,
     "metadata": {},
     "output_type": "execute_result"
    }
   ],
   "source": [
    "pd.Series(y_test).value_counts(normalize=True)"
   ]
  },
  {
   "cell_type": "code",
   "execution_count": 26,
   "metadata": {
    "id": "vFfbSRXa4HWw",
    "ExecuteTime": {
     "end_time": "2023-10-15T08:02:33.802196Z",
     "start_time": "2023-10-15T08:02:33.730914Z"
    }
   },
   "outputs": [],
   "source": [
    "bow = CountVectorizer(tokenizer=word_tokenize, stop_words=stop_words, lowercase=True)"
   ]
  },
  {
   "cell_type": "code",
   "execution_count": 27,
   "metadata": {
    "id": "H0fJddNd4LRg",
    "ExecuteTime": {
     "end_time": "2023-10-15T08:02:36.193011Z",
     "start_time": "2023-10-15T08:02:34.527595Z"
    }
   },
   "outputs": [],
   "source": [
    "X_bow = bow.fit_transform(X_train)"
   ]
  },
  {
   "cell_type": "code",
   "execution_count": 28,
   "metadata": {
    "colab": {
     "base_uri": "https://localhost:8080/"
    },
    "id": "3QBPF-Rs4LUe",
    "outputId": "82f0ee10-4aaf-49d8-ce9b-bd654ae3ffdc",
    "ExecuteTime": {
     "end_time": "2023-10-15T08:02:36.197685Z",
     "start_time": "2023-10-15T08:02:36.193252Z"
    }
   },
   "outputs": [
    {
     "name": "stdout",
     "output_type": "stream",
     "text": [
      "Vocabulary size: 15134\n"
     ]
    }
   ],
   "source": [
    "print(\"Vocabulary size:\", len(bow.vocabulary_))"
   ]
  },
  {
   "cell_type": "code",
   "execution_count": 29,
   "metadata": {
    "id": "8xHCRTEM4LXG",
    "ExecuteTime": {
     "end_time": "2023-10-15T08:02:37.004177Z",
     "start_time": "2023-10-15T08:02:36.977634Z"
    }
   },
   "outputs": [],
   "source": [
    "tfidf = TfidfVectorizer(tokenizer=word_tokenize, stop_words=stop_words, lowercase=True)"
   ]
  },
  {
   "cell_type": "code",
   "execution_count": 30,
   "metadata": {
    "id": "Sw1Jjg2w5OWf",
    "ExecuteTime": {
     "end_time": "2023-10-15T08:02:39.319078Z",
     "start_time": "2023-10-15T08:02:37.654139Z"
    }
   },
   "outputs": [],
   "source": [
    "X_tfidf = tfidf.fit_transform(X_train)"
   ]
  },
  {
   "cell_type": "code",
   "execution_count": 31,
   "metadata": {
    "colab": {
     "base_uri": "https://localhost:8080/"
    },
    "id": "I_X4xeTK5OYs",
    "outputId": "a64086b0-560a-4d87-f168-cbed56d48d2d",
    "ExecuteTime": {
     "end_time": "2023-10-15T08:02:39.324212Z",
     "start_time": "2023-10-15T08:02:39.321083Z"
    }
   },
   "outputs": [
    {
     "name": "stdout",
     "output_type": "stream",
     "text": [
      "Vocabulary size: 15134\n"
     ]
    }
   ],
   "source": [
    "print(\"Vocabulary size:\", len(tfidf.vocabulary_))"
   ]
  },
  {
   "cell_type": "markdown",
   "metadata": {
    "id": "MAxntBpyytvF"
   },
   "source": [
    "## 2. Modelado y evaluacion"
   ]
  },
  {
   "cell_type": "markdown",
   "metadata": {
    "id": "NDyZBuqDRg81"
   },
   "source": [
    "### 2.1 Entrenando Modelo con BoW y Random Forest classifier (Juan Sebastian Sanchez Delgado)"
   ]
  },
  {
   "cell_type": "code",
   "execution_count": 32,
   "metadata": {
    "id": "rWLJ7JxnzM07",
    "ExecuteTime": {
     "end_time": "2023-10-15T08:02:40.768096Z",
     "start_time": "2023-10-15T08:02:40.743669Z"
    }
   },
   "outputs": [],
   "source": [
    "bow_model = RandomForestClassifier(random_state=2)"
   ]
  },
  {
   "cell_type": "code",
   "execution_count": 33,
   "metadata": {
    "colab": {
     "base_uri": "https://localhost:8080/",
     "height": 75
    },
    "id": "zL-qOKBp5laL",
    "outputId": "864cb117-e3e0-47a4-aa08-59822f0b0126",
    "ExecuteTime": {
     "end_time": "2023-10-15T08:02:42.134878Z",
     "start_time": "2023-10-15T08:02:41.246395Z"
    }
   },
   "outputs": [
    {
     "data": {
      "text/plain": "RandomForestClassifier(random_state=2)"
     },
     "execution_count": 33,
     "metadata": {},
     "output_type": "execute_result"
    }
   ],
   "source": [
    "bow_model.fit(X_bow, y_train)"
   ]
  },
  {
   "cell_type": "code",
   "execution_count": 34,
   "metadata": {
    "colab": {
     "base_uri": "https://localhost:8080/",
     "height": 556
    },
    "id": "CGELXhhz5wIY",
    "outputId": "e46d7132-8813-4b07-a2ab-b0d2eba3d539",
    "ExecuteTime": {
     "end_time": "2023-10-15T08:02:43.298206Z",
     "start_time": "2023-10-15T08:02:42.134491Z"
    }
   },
   "outputs": [
    {
     "data": {
      "text/plain": "<Axes: >"
     },
     "execution_count": 34,
     "metadata": {},
     "output_type": "execute_result"
    },
    {
     "data": {
      "text/plain": "<Figure size 1500x800 with 1 Axes>",
      "image/png": "[encoded data removed]"
     },
     "metadata": {},
     "output_type": "display_data"
    }
   ],
   "source": [
    "# Se muestra la importancia de algunas palabras para determinar que tan relevante es para tomar una decision para el modelo\n",
    "pd.Series(bow_model.feature_importances_, index=bow.vocabulary_).sort_values().tail(20).plot.barh(figsize=(15, 8))"
   ]
  },
  {
   "cell_type": "code",
   "execution_count": 35,
   "metadata": {
    "colab": {
     "base_uri": "https://localhost:8080/"
    },
    "id": "L2-Fnvi66l-r",
    "outputId": "21b049ba-b617-4b35-e315-d35baf7736d4",
    "ExecuteTime": {
     "end_time": "2023-10-15T08:02:43.315163Z",
     "start_time": "2023-10-15T08:02:43.296870Z"
    }
   },
   "outputs": [
    {
     "name": "stdout",
     "output_type": "stream",
     "text": [
      "Numero de arboles de decision: 100\n",
      "Profundidad de los arboles (mean): 97.14\n"
     ]
    }
   ],
   "source": [
    "bow_estimators = bow_model.estimators_\n",
    "print(\"Numero de arboles de decision:\", len(bow_estimators))\n",
    "print(\"Profundidad de los arboles (mean):\", np.mean([tree.get_depth() for tree in bow_estimators]))"
   ]
  },
  {
   "cell_type": "code",
   "execution_count": 36,
   "metadata": {
    "id": "CjGea2Y46sqQ",
    "ExecuteTime": {
     "end_time": "2023-10-15T08:02:44.175133Z",
     "start_time": "2023-10-15T08:02:43.300435Z"
    }
   },
   "outputs": [],
   "source": [
    "y_train_bow_predict = bow_model.predict(X_bow)\n",
    "y_test_bow_predict = bow_model.predict(bow.transform(X_test))"
   ]
  },
  {
   "cell_type": "code",
   "execution_count": 37,
   "metadata": {
    "colab": {
     "base_uri": "https://localhost:8080/",
     "height": 473
    },
    "id": "Aa0CI6s_7Dp1",
    "outputId": "082cd932-5b6a-4e41-e1f8-6a501917236d",
    "ExecuteTime": {
     "end_time": "2023-10-15T08:02:44.401295Z",
     "start_time": "2023-10-15T08:02:44.178496Z"
    }
   },
   "outputs": [
    {
     "data": {
      "text/plain": "<sklearn.metrics._plot.confusion_matrix.ConfusionMatrixDisplay at 0x7fc34b0f5fd0>"
     },
     "execution_count": 37,
     "metadata": {},
     "output_type": "execute_result"
    },
    {
     "data": {
      "text/plain": "<Figure size 640x480 with 2 Axes>",
      "image/png": "[encoded data removed]"
     },
     "metadata": {},
     "output_type": "display_data"
    }
   ],
   "source": [
    "ConfusionMatrixDisplay.from_predictions(y_train, y_train_bow_predict)"
   ]
  },
  {
   "cell_type": "code",
   "execution_count": 38,
   "metadata": {
    "colab": {
     "base_uri": "https://localhost:8080/",
     "height": 467
    },
    "id": "YoyIVh7s7Qbu",
    "outputId": "5c3b3777-aefb-474f-9d06-3594ea546737",
    "ExecuteTime": {
     "end_time": "2023-10-15T08:02:44.788218Z",
     "start_time": "2023-10-15T08:02:44.578777Z"
    }
   },
   "outputs": [
    {
     "data": {
      "text/plain": "<sklearn.metrics._plot.confusion_matrix.ConfusionMatrixDisplay at 0x7fc345f6a730>"
     },
     "execution_count": 38,
     "metadata": {},
     "output_type": "execute_result"
    },
    {
     "data": {
      "text/plain": "<Figure size 640x480 with 2 Axes>",
      "image/png": "[encoded data removed]"
     },
     "metadata": {},
     "output_type": "display_data"
    }
   ],
   "source": [
    "ConfusionMatrixDisplay.from_predictions(y_test, y_test_bow_predict)"
   ]
  },
  {
   "cell_type": "code",
   "execution_count": 39,
   "metadata": {
    "colab": {
     "base_uri": "https://localhost:8080/"
    },
    "id": "RLlg0KN_7ZiK",
    "outputId": "a4e9847e-b03e-4da6-91f0-14e8f16bc37f",
    "ExecuteTime": {
     "end_time": "2023-10-15T08:02:45.307206Z",
     "start_time": "2023-10-15T08:02:45.283281Z"
    }
   },
   "outputs": [
    {
     "name": "stdout",
     "output_type": "stream",
     "text": [
      "Precision: 1.0\n",
      "Recall: 1.0\n",
      "F1: 1.0\n"
     ]
    }
   ],
   "source": [
    "print(\"Precision:\", precision_score(y_train, y_train_bow_predict, average='micro'))\n",
    "print(\"Recall:\", recall_score(y_train, y_train_bow_predict, average='micro'))\n",
    "print(\"F1:\", f1_score(y_train, y_train_bow_predict, average='micro'))"
   ]
  },
  {
   "cell_type": "code",
   "execution_count": 40,
   "metadata": {
    "colab": {
     "base_uri": "https://localhost:8080/"
    },
    "id": "kHRi-7cd7kSJ",
    "outputId": "e3212d0a-91f6-44c5-ab07-4a831c484eda",
    "ExecuteTime": {
     "end_time": "2023-10-15T08:02:46.138503Z",
     "start_time": "2023-10-15T08:02:46.113238Z"
    }
   },
   "outputs": [
    {
     "name": "stdout",
     "output_type": "stream",
     "text": [
      "Precision: 0.9766666666666667\n",
      "Recall: 0.9766666666666667\n",
      "F1: 0.9766666666666667\n"
     ]
    }
   ],
   "source": [
    "print(\"Precision:\", precision_score(y_test, y_test_bow_predict, average='micro' ))\n",
    "print(\"Recall:\", recall_score(y_test, y_test_bow_predict, average='micro'))\n",
    "print(\"F1:\", f1_score(y_test, y_test_bow_predict, average='micro'))"
   ]
  },
  {
   "cell_type": "markdown",
   "metadata": {
    "id": "6C9Jt1DD0JfD"
   },
   "source": [
    "### 2.2 Entrenando modelo con TF-IDF (Santiago Paeres Gonzalez)"
   ]
  },
  {
   "cell_type": "code",
   "execution_count": 41,
   "metadata": {
    "collapsed": false,
    "ExecuteTime": {
     "end_time": "2023-10-15T08:02:47.670085Z",
     "start_time": "2023-10-15T08:02:47.644594Z"
    }
   },
   "outputs": [],
   "source": [
    "tfidf_model = RandomForestClassifier(random_state=2)"
   ]
  },
  {
   "cell_type": "code",
   "execution_count": 42,
   "metadata": {
    "collapsed": false,
    "ExecuteTime": {
     "end_time": "2023-10-15T08:02:49.973104Z",
     "start_time": "2023-10-15T08:02:49.043250Z"
    }
   },
   "outputs": [
    {
     "data": {
      "text/plain": "RandomForestClassifier(random_state=2)"
     },
     "execution_count": 42,
     "metadata": {},
     "output_type": "execute_result"
    }
   ],
   "source": [
    "tfidf_model.fit(X_tfidf, y_train)"
   ]
  },
  {
   "cell_type": "code",
   "execution_count": 43,
   "metadata": {
    "collapsed": false,
    "ExecuteTime": {
     "end_time": "2023-10-15T08:02:50.407686Z",
     "start_time": "2023-10-15T08:02:50.051393Z"
    }
   },
   "outputs": [
    {
     "data": {
      "text/plain": "<Axes: >"
     },
     "execution_count": 43,
     "metadata": {},
     "output_type": "execute_result"
    },
    {
     "data": {
      "text/plain": "<Figure size 1500x1000 with 1 Axes>",
      "image/png": "[encoded data removed]"
     },
     "metadata": {},
     "output_type": "display_data"
    }
   ],
   "source": [
    "pd.Series(tfidf_model.feature_importances_, index=tfidf.vocabulary_).sort_values().tail(20).plot.barh(figsize=(15, 10))"
   ]
  },
  {
   "cell_type": "code",
   "execution_count": 44,
   "metadata": {
    "collapsed": false,
    "ExecuteTime": {
     "end_time": "2023-10-15T08:02:50.877486Z",
     "start_time": "2023-10-15T08:02:50.852721Z"
    }
   },
   "outputs": [
    {
     "name": "stdout",
     "output_type": "stream",
     "text": [
      "Number of trees: 100\n",
      "Trees depth (mean): 94.37\n"
     ]
    }
   ],
   "source": [
    "tfidf_estimators = tfidf_model.estimators_\n",
    "print(\"Number of trees:\", len(tfidf_estimators))\n",
    "print(\"Trees depth (mean):\", np.mean([tree.get_depth() for tree in tfidf_estimators]))"
   ]
  },
  {
   "cell_type": "code",
   "execution_count": 45,
   "metadata": {
    "collapsed": false,
    "ExecuteTime": {
     "end_time": "2023-10-15T08:03:02.288070Z",
     "start_time": "2023-10-15T08:03:01.431459Z"
    }
   },
   "outputs": [],
   "source": [
    "y_train_tfidf_predict = tfidf_model.predict(X_tfidf)\n",
    "y_test_tfidf_predict = tfidf_model.predict(tfidf.transform(X_test))"
   ]
  },
  {
   "cell_type": "code",
   "execution_count": 46,
   "metadata": {
    "collapsed": false,
    "ExecuteTime": {
     "end_time": "2023-10-15T08:03:03.082899Z",
     "start_time": "2023-10-15T08:03:02.798724Z"
    }
   },
   "outputs": [
    {
     "data": {
      "text/plain": "<sklearn.metrics._plot.confusion_matrix.ConfusionMatrixDisplay at 0x7fc32d8b4250>"
     },
     "execution_count": 46,
     "metadata": {},
     "output_type": "execute_result"
    },
    {
     "data": {
      "text/plain": "<Figure size 640x480 with 2 Axes>",
      "image/png": "[encoded data removed]"
     },
     "metadata": {},
     "output_type": "display_data"
    }
   ],
   "source": [
    "ConfusionMatrixDisplay.from_predictions(y_train, y_train_tfidf_predict)"
   ]
  },
  {
   "cell_type": "code",
   "execution_count": 47,
   "metadata": {
    "collapsed": false,
    "ExecuteTime": {
     "end_time": "2023-10-15T08:03:04.517165Z",
     "start_time": "2023-10-15T08:03:04.316585Z"
    }
   },
   "outputs": [
    {
     "data": {
      "text/plain": "<sklearn.metrics._plot.confusion_matrix.ConfusionMatrixDisplay at 0x7fc32d8b4070>"
     },
     "execution_count": 47,
     "metadata": {},
     "output_type": "execute_result"
    },
    {
     "data": {
      "text/plain": "<Figure size 640x480 with 2 Axes>",
      "image/png": "[encoded data removed]"
     },
     "metadata": {},
     "output_type": "display_data"
    }
   ],
   "source": [
    "ConfusionMatrixDisplay.from_predictions(y_test, y_test_tfidf_predict)"
   ]
  },
  {
   "cell_type": "code",
   "execution_count": 72,
   "metadata": {
    "collapsed": false,
    "ExecuteTime": {
     "end_time": "2023-10-15T08:10:04.197742Z",
     "start_time": "2023-10-15T08:10:04.085660Z"
    }
   },
   "outputs": [
    {
     "name": "stdout",
     "output_type": "stream",
     "text": [
      "Precision: 1.0\n",
      "Recall: 1.0\n",
      "F1: 1.0\n"
     ]
    }
   ],
   "source": [
    "print(\"Precision:\", precision_score(y_train, y_train_tfidf_predict, average='micro'))\n",
    "print(\"Recall:\", recall_score(y_train, y_train_tfidf_predict, average='micro'))\n",
    "print(\"F1:\", f1_score(y_train, y_train_tfidf_predict, average='micro'))"
   ]
  },
  {
   "cell_type": "code",
   "execution_count": 73,
   "metadata": {
    "collapsed": false,
    "ExecuteTime": {
     "end_time": "2023-10-15T08:10:04.698074Z",
     "start_time": "2023-10-15T08:10:04.613065Z"
    }
   },
   "outputs": [
    {
     "name": "stdout",
     "output_type": "stream",
     "text": [
      "Precision: 0.98\n",
      "Recall: 0.98\n",
      "F1: 0.98\n"
     ]
    }
   ],
   "source": [
    "print(\"Precision:\", precision_score(y_test, y_test_tfidf_predict, average='micro'))\n",
    "print(\"Recall:\", recall_score(y_test, y_test_tfidf_predict, average='micro'))\n",
    "print(\"F1:\", f1_score(y_test, y_test_tfidf_predict, average='micro'))"
   ]
  },
  {
   "cell_type": "markdown",
   "metadata": {
    "collapsed": false,
    "ExecuteTime": {
     "end_time": "2023-10-15T07:13:55.653123Z",
     "start_time": "2023-10-15T07:13:55.342510Z"
    }
   },
   "source": [
    "### Seleccionando un posible mejor modelo"
   ]
  },
  {
   "cell_type": "code",
   "execution_count": 74,
   "metadata": {
    "collapsed": false,
    "ExecuteTime": {
     "end_time": "2023-10-15T08:22:06.261290Z",
     "start_time": "2023-10-15T08:22:06.222645Z"
    }
   },
   "outputs": [],
   "source": [
    "pipeline = Pipeline(steps = [\n",
    "    (\"vectorizer\", CountVectorizer(tokenizer=word_tokenize, stop_words=stop_words, lowercase=True)),\n",
    "    (\"classifier\", RandomForestClassifier(random_state=4))\n",
    "])"
   ]
  },
  {
   "cell_type": "code",
   "execution_count": 75,
   "metadata": {
    "collapsed": false,
    "ExecuteTime": {
     "end_time": "2023-10-15T08:22:07.020701Z",
     "start_time": "2023-10-15T08:22:06.980277Z"
    }
   },
   "outputs": [],
   "source": [
    "param_grid = {\n",
    "    \"vectorizer\": [TfidfVectorizer(max_df=0.5,tokenizer=word_tokenize, stop_words=stop_words)],\n",
    "    \"vectorizer__lowercase\": [True, False],\n",
    "    \"classifier__n_estimators\": [30, 50],\n",
    "    \"classifier__max_depth\": [25, 50]\n",
    "}"
   ]
  },
  {
   "cell_type": "code",
   "execution_count": 76,
   "metadata": {
    "collapsed": false,
    "ExecuteTime": {
     "end_time": "2023-10-15T08:22:08.079399Z",
     "start_time": "2023-10-15T08:22:08.052407Z"
    }
   },
   "outputs": [],
   "source": [
    "search = RandomizedSearchCV(pipeline, param_grid, n_iter=15, scoring=[\"precision\", \"recall\", \"f1\"], refit=\"f1\", cv=30, return_train_score=True, verbose=1, random_state=5)"
   ]
  },
  {
   "cell_type": "code",
   "execution_count": 77,
   "metadata": {
    "collapsed": false,
    "ExecuteTime": {
     "end_time": "2023-10-15T08:33:37.398120Z",
     "start_time": "2023-10-15T08:22:09.235856Z"
    }
   },
   "outputs": [
    {
     "name": "stdout",
     "output_type": "stream",
     "text": [
      "Fitting 30 folds for each of 8 candidates, totalling 240 fits\n"
     ]
    },
    {
     "data": {
      "text/plain": "RandomizedSearchCV(cv=30,\n                   estimator=Pipeline(steps=[('vectorizer',\n                                              CountVectorizer(stop_words=['de',\n                                                                          'la',\n                                                                          'que',\n                                                                          'el',\n                                                                          'en',\n                                                                          'y',\n                                                                          'a',\n                                                                          'los',\n                                                                          'del',\n                                                                          'se',\n                                                                          'las',\n                                                                          'por',\n                                                                          'un',\n                                                                          'para',\n                                                                          'con',\n                                                                          'no',\n                                                                          'una',\n                                                                          'su',\n                                                                          'al',\n                                                                          'lo',\n                                                                          'como',\n                                                                          'más',\n                                                                          'pero',\n                                                                          'sus',\n                                                                          'le',\n                                                                          'ya',\n                                                                          'o',\n                                                                          'este',\n                                                                          'sí',\n                                                                          'porque', ...],\n                                                              tokenizer=<function word_tokenize at 0x7fc348d26700>)),\n                                             ('classifier',\n                                              RandomForestClassi...\n                                                                                   'la',\n                                                                                   'que',\n                                                                                   'el',\n                                                                                   'en',\n                                                                                   'y',\n                                                                                   'a',\n                                                                                   'los',\n                                                                                   'del',\n                                                                                   'se',\n                                                                                   'las',\n                                                                                   'por',\n                                                                                   'un',\n                                                                                   'para',\n                                                                                   'con',\n                                                                                   'no',\n                                                                                   'una',\n                                                                                   'su',\n                                                                                   'al',\n                                                                                   'lo',\n                                                                                   'como',\n                                                                                   'más',\n                                                                                   'pero',\n                                                                                   'sus',\n                                                                                   'le',\n                                                                                   'ya',\n                                                                                   'o',\n                                                                                   'este',\n                                                                                   'sí',\n                                                                                   'porque', ...],\n                                                                       tokenizer=<function word_tokenize at 0x7fc348d26700>)],\n                                        'vectorizer__lowercase': [True, False]},\n                   random_state=5, refit='f1', return_train_score=True,\n                   scoring=['precision', 'recall', 'f1'], verbose=1)"
     },
     "execution_count": 77,
     "metadata": {},
     "output_type": "execute_result"
    }
   ],
   "source": [
    "search.fit(X_train, y_train)"
   ]
  },
  {
   "cell_type": "code",
   "execution_count": 78,
   "metadata": {
    "collapsed": false,
    "ExecuteTime": {
     "end_time": "2023-10-15T08:49:58.932355Z",
     "start_time": "2023-10-15T08:49:58.927160Z"
    }
   },
   "outputs": [
    {
     "data": {
      "text/plain": "{'vectorizer__lowercase': True,\n 'vectorizer': TfidfVectorizer(max_df=0.5,\n                 stop_words=['de', 'la', 'que', 'el', 'en', 'y', 'a', 'los',\n                             'del', 'se', 'las', 'por', 'un', 'para', 'con',\n                             'no', 'una', 'su', 'al', 'lo', 'como', 'más',\n                             'pero', 'sus', 'le', 'ya', 'o', 'este', 'sí',\n                             'porque', ...],\n                 tokenizer=<function word_tokenize at 0x7fc348d26700>),\n 'classifier__n_estimators': 30,\n 'classifier__max_depth': 25}"
     },
     "execution_count": 78,
     "metadata": {},
     "output_type": "execute_result"
    }
   ],
   "source": [
    "search.best_params_"
   ]
  },
  {
   "cell_type": "code",
   "execution_count": 81,
   "metadata": {
    "collapsed": false,
    "ExecuteTime": {
     "end_time": "2023-10-15T08:50:09.458799Z",
     "start_time": "2023-10-15T08:50:09.408040Z"
    }
   },
   "outputs": [
    {
     "data": {
      "text/plain": "Pipeline(steps=[('vectorizer',\n                 TfidfVectorizer(max_df=0.5,\n                                 stop_words=['de', 'la', 'que', 'el', 'en', 'y',\n                                             'a', 'los', 'del', 'se', 'las',\n                                             'por', 'un', 'para', 'con', 'no',\n                                             'una', 'su', 'al', 'lo', 'como',\n                                             'más', 'pero', 'sus', 'le', 'ya',\n                                             'o', 'este', 'sí', 'porque', ...],\n                                 tokenizer=<function word_tokenize at 0x7fc348d26700>)),\n                ('classifier',\n                 RandomForestClassifier(max_depth=25, n_estimators=30,\n                                        random_state=4))])"
     },
     "execution_count": 81,
     "metadata": {},
     "output_type": "execute_result"
    }
   ],
   "source": [
    "search.best_estimator_"
   ]
  },
  {
   "cell_type": "code",
   "execution_count": 82,
   "metadata": {
    "collapsed": false,
    "ExecuteTime": {
     "end_time": "2023-10-15T08:50:12.434668Z",
     "start_time": "2023-10-15T08:50:10.495611Z"
    }
   },
   "outputs": [],
   "source": [
    "y_train_search_predict = search.best_estimator_.predict(X_train)\n",
    "y_test_search_predict = search.best_estimator_.predict(X_test)"
   ]
  },
  {
   "cell_type": "code",
   "execution_count": 83,
   "metadata": {
    "collapsed": false,
    "ExecuteTime": {
     "end_time": "2023-10-15T08:50:13.221992Z",
     "start_time": "2023-10-15T08:50:13.178476Z"
    }
   },
   "outputs": [
    {
     "name": "stdout",
     "output_type": "stream",
     "text": [
      "Precision: 0.9966666666666667\n",
      "Recall: 0.9966666666666667\n",
      "F1: 0.9966666666666667\n"
     ]
    }
   ],
   "source": [
    "print(\"Precision:\", precision_score(y_train, y_train_search_predict, average='micro'))\n",
    "print(\"Recall:\", recall_score(y_train, y_train_search_predict, average='micro'))\n",
    "print(\"F1:\", f1_score(y_train, y_train_search_predict, average='micro'))"
   ]
  },
  {
   "cell_type": "code",
   "execution_count": 84,
   "metadata": {
    "collapsed": false,
    "ExecuteTime": {
     "end_time": "2023-10-15T08:50:14.256790Z",
     "start_time": "2023-10-15T08:50:14.232155Z"
    }
   },
   "outputs": [
    {
     "name": "stdout",
     "output_type": "stream",
     "text": [
      "Precision: 0.9533333333333334\n",
      "Recall: 0.9533333333333334\n",
      "F1: 0.9533333333333334\n"
     ]
    }
   ],
   "source": [
    "print(\"Precision:\", precision_score(y_test, y_test_search_predict, average='micro'))\n",
    "print(\"Recall:\", recall_score(y_test, y_test_search_predict, average='micro'))\n",
    "print(\"F1:\", f1_score(y_test, y_test_search_predict, average='micro'))"
   ]
  },
  {
   "cell_type": "markdown",
   "metadata": {
    "id": "Fjw9wN28RyBs",
    "ExecuteTime": {
     "end_time": "2023-10-15T07:01:42.730861Z",
     "start_time": "2023-10-15T07:01:42.643442Z"
    }
   },
   "source": [
    "### 2.3 Entrenando modelo con Gradient Boosting (Miguel Angel Cardenas) "
   ]
  },
  {
   "cell_type": "code",
   "execution_count": 85,
   "metadata": {
    "ExecuteTime": {
     "end_time": "2023-10-15T08:50:56.303454Z",
     "start_time": "2023-10-15T08:50:56.222890Z"
    }
   },
   "outputs": [],
   "source": [
    "gb_classifier = GradientBoostingClassifier(n_estimators=100, learning_rate=0.1, random_state=42)"
   ]
  },
  {
   "cell_type": "code",
   "execution_count": 86,
   "metadata": {
    "ExecuteTime": {
     "end_time": "2023-10-15T08:51:01.425796Z",
     "start_time": "2023-10-15T08:50:56.898080Z"
    }
   },
   "outputs": [
    {
     "data": {
      "text/plain": "GradientBoostingClassifier(random_state=42)"
     },
     "execution_count": 86,
     "metadata": {},
     "output_type": "execute_result"
    }
   ],
   "source": [
    "gb_classifier.fit(X_bow, y_train)"
   ]
  },
  {
   "cell_type": "code",
   "execution_count": 87,
   "metadata": {
    "ExecuteTime": {
     "end_time": "2023-10-15T08:51:01.815995Z",
     "start_time": "2023-10-15T08:51:01.426388Z"
    }
   },
   "outputs": [
    {
     "data": {
      "text/plain": "<Axes: >"
     },
     "execution_count": 87,
     "metadata": {},
     "output_type": "execute_result"
    },
    {
     "data": {
      "text/plain": "<Figure size 1500x800 with 1 Axes>",
      "image/png": "[encoded data removed]"
     },
     "metadata": {},
     "output_type": "display_data"
    }
   ],
   "source": [
    "pd.Series(gb_classifier.feature_importances_, index=bow.vocabulary_).sort_values().tail(20).plot.barh(figsize=(15, 8))"
   ]
  },
  {
   "cell_type": "code",
   "execution_count": 88,
   "metadata": {
    "ExecuteTime": {
     "end_time": "2023-10-15T08:51:01.831958Z",
     "start_time": "2023-10-15T08:51:01.813634Z"
    }
   },
   "outputs": [
    {
     "name": "stdout",
     "output_type": "stream",
     "text": [
      "Número de árboles de decisión: 100\n",
      "Profundidad de los árboles (media): 3.0\n"
     ]
    }
   ],
   "source": [
    "gb_estimators = gb_classifier.estimators_\n",
    "\n",
    "# Imprime el número de árboles\n",
    "print(\"Número de árboles de decisión:\", len(gb_estimators))\n",
    "\n",
    "# Calcula la profundidad promedio de los árboles\n",
    "depths = [tree[0].tree_.max_depth for tree in gb_estimators]\n",
    "print(\"Profundidad de los árboles (media):\", np.mean(depths))"
   ]
  },
  {
   "cell_type": "code",
   "execution_count": 89,
   "metadata": {
    "ExecuteTime": {
     "end_time": "2023-10-15T08:51:02.528538Z",
     "start_time": "2023-10-15T08:51:01.820083Z"
    }
   },
   "outputs": [],
   "source": [
    "y_train_gb_predict = gb_classifier.predict(X_bow)\n",
    "\n",
    "# Realiza predicciones en el conjunto de prueba\n",
    "y_test_gb_predict = gb_classifier.predict(bow.transform(X_test))"
   ]
  },
  {
   "cell_type": "code",
   "execution_count": 90,
   "metadata": {
    "ExecuteTime": {
     "end_time": "2023-10-15T08:51:02.752541Z",
     "start_time": "2023-10-15T08:51:02.529263Z"
    }
   },
   "outputs": [
    {
     "data": {
      "text/plain": "<sklearn.metrics._plot.confusion_matrix.ConfusionMatrixDisplay at 0x7fc331df0910>"
     },
     "execution_count": 90,
     "metadata": {},
     "output_type": "execute_result"
    },
    {
     "data": {
      "text/plain": "<Figure size 640x480 with 2 Axes>",
      "image/png": "[encoded data removed]"
     },
     "metadata": {},
     "output_type": "display_data"
    }
   ],
   "source": [
    "ConfusionMatrixDisplay.from_predictions(y_train, y_train_gb_predict)"
   ]
  },
  {
   "cell_type": "code",
   "execution_count": 91,
   "metadata": {
    "ExecuteTime": {
     "end_time": "2023-10-15T08:51:02.945788Z",
     "start_time": "2023-10-15T08:51:02.752180Z"
    }
   },
   "outputs": [
    {
     "data": {
      "text/plain": "<sklearn.metrics._plot.confusion_matrix.ConfusionMatrixDisplay at 0x7fc333deca60>"
     },
     "execution_count": 91,
     "metadata": {},
     "output_type": "execute_result"
    },
    {
     "data": {
      "text/plain": "<Figure size 640x480 with 2 Axes>",
      "image/png": "[encoded data removed]"
     },
     "metadata": {},
     "output_type": "display_data"
    }
   ],
   "source": [
    "ConfusionMatrixDisplay.from_predictions(y_test, y_test_gb_predict)"
   ]
  },
  {
   "cell_type": "code",
   "execution_count": 92,
   "metadata": {
    "ExecuteTime": {
     "end_time": "2023-10-15T08:51:02.951847Z",
     "start_time": "2023-10-15T08:51:02.942435Z"
    }
   },
   "outputs": [
    {
     "name": "stdout",
     "output_type": "stream",
     "text": [
      "Precision: 1.0\n",
      "Recall: 1.0\n",
      "F1: 1.0\n"
     ]
    }
   ],
   "source": [
    "print(\"Precision:\", precision_score(y_train, y_train_gb_predict, average='micro'))\n",
    "print(\"Recall:\", recall_score(y_train, y_train_gb_predict, average='micro'))\n",
    "print(\"F1:\", f1_score(y_train, y_train_gb_predict, average='micro'))"
   ]
  },
  {
   "cell_type": "code",
   "execution_count": 93,
   "metadata": {
    "ExecuteTime": {
     "end_time": "2023-10-15T08:51:03.131548Z",
     "start_time": "2023-10-15T08:51:03.094679Z"
    }
   },
   "outputs": [
    {
     "name": "stdout",
     "output_type": "stream",
     "text": [
      "Precision: 0.9577777777777777\n",
      "Recall: 0.9577777777777777\n",
      "F1: 0.9577777777777777\n"
     ]
    }
   ],
   "source": [
    "print(\"Precision:\", precision_score(y_test, y_test_gb_predict, average='micro' ))\n",
    "print(\"Recall:\", recall_score(y_test, y_test_gb_predict, average='micro'))\n",
    "print(\"F1:\", f1_score(y_test, y_test_gb_predict, average='micro'))"
   ]
  },
  {
   "cell_type": "markdown",
   "metadata": {
    "id": "Ta6GsY_7zPFX",
    "ExecuteTime": {
     "start_time": "2023-10-15T06:08:07.201091Z"
    }
   },
   "source": [
    "## 3. Resultados"
   ]
  },
  {
   "cell_type": "markdown",
   "source": [
    "### 3.1 Escogiendo el Modelo mas adecuado"
   ],
   "metadata": {
    "collapsed": false
   }
  },
  {
   "cell_type": "markdown",
   "source": [
    "Aunque en un escenario ideal se podría encontrar el modelo de clasificación óptimo probando diferentes combinaciones de hiperparámetros, tanto como para los vectorizadores como para el Random Forest, para los tres algoritmos propuestos (Bag of Words, TF-IDF y Gradient Boosting), fue evidente en el intento en la seccion de `Seleccionando un posible mejor modelo` de que esta tarea es sumamente tediosa y conlleva un gasto computacional significativo por la forma en la que los algoritmos como RandomizedSearchCV o la optimización Bayesiana funcionan. Además, existen muchísimas posibles combinaciones de hiperparametros por lo que no es tan facil encontrar el óptimo.  \n",
    "\n",
    "Sin embargo, con los hiperparámetros escogidos en el pipeline y utilizando RandomizedSearchCV NO se llegó a un mejor resultado que el utilizado originalmente, pues sin hacer uso de RandomizedSearchCV la puntuación F1 del modelo de TF-IDF fue de 0.98, mientras que con RandomizedSearchCV fue de 0.95 para los datos de prueba. Claramente, se pudieron haber escogido mejores hiperparámetros para probar, pero esto va más alla del alcance de este proyecto, además se llegó a valores aceptables de precision, recuperación (recall) y puntuación F1.\n",
    "\n",
    "Asi pues, comparando los tres modelos escogidos en sus metricas de precision, recall (recuperación) y puntuación F1:"
   ],
   "metadata": {
    "collapsed": false
   }
  },
  {
   "cell_type": "code",
   "execution_count": 101,
   "outputs": [
    {
     "data": {
      "text/plain": "              Modelo  Precisión    Recall  F1 Score\n0                BoW   0.976667  0.976667  0.976667\n1             TF-IDF   0.980000  0.980000  0.980000\n2  Gradient Boosting   0.957778  0.957778  0.957778",
      "text/html": "<div>\n<style scoped>\n    .dataframe tbody tr th:only-of-type {\n        vertical-align: middle;\n    }\n\n    .dataframe tbody tr th {\n        vertical-align: top;\n    }\n\n    .dataframe thead th {\n        text-align: right;\n    }\n</style>\n<table border=\"1\" class=\"dataframe\">\n  <thead>\n    <tr style=\"text-align: right;\">\n      <th></th>\n      <th>Modelo</th>\n      <th>Precisión</th>\n      <th>Recall</th>\n      <th>F1 Score</th>\n    </tr>\n  </thead>\n  <tbody>\n    <tr>\n      <th>0</th>\n      <td>BoW</td>\n      <td>0.976667</td>\n      <td>0.976667</td>\n      <td>0.976667</td>\n    </tr>\n    <tr>\n      <th>1</th>\n      <td>TF-IDF</td>\n      <td>0.980000</td>\n      <td>0.980000</td>\n      <td>0.980000</td>\n    </tr>\n    <tr>\n      <th>2</th>\n      <td>Gradient Boosting</td>\n      <td>0.957778</td>\n      <td>0.957778</td>\n      <td>0.957778</td>\n    </tr>\n  </tbody>\n</table>\n</div>"
     },
     "execution_count": 101,
     "metadata": {},
     "output_type": "execute_result"
    }
   ],
   "source": [
    "# Crear un diccionario con los nombres de los modelos y sus valores de F1\n",
    "data = {\n",
    "    'Modelo': ['BoW', 'TF-IDF', 'Gradient Boosting'],\n",
    "    'Precisión': [ precision_score(y_test, y_test_bow_predict, average='micro' ), precision_score(y_test, y_test_tfidf_predict, average='micro'), precision_score(y_test, y_test_gb_predict, average='micro' )],\n",
    "    'Recall': [recall_score(y_test, y_test_bow_predict, average='micro'), recall_score(y_test, y_test_tfidf_predict, average='micro'), recall_score(y_test, y_test_gb_predict, average='micro')],\n",
    "    'F1 Score': [f1_score(y_test, y_test_bow_predict, average='micro'), f1_score(y_test, y_test_tfidf_predict, average='micro'), f1_score(y_test, y_test_gb_predict, average='micro')]\n",
    "}\n",
    "df = pd.DataFrame(data)\n",
    "df"
   ],
   "metadata": {
    "collapsed": false,
    "ExecuteTime": {
     "end_time": "2023-10-15T09:22:52.479851Z",
     "start_time": "2023-10-15T09:22:52.414470Z"
    }
   }
  },
  {
   "cell_type": "markdown",
   "source": [
    "Por tanto, el más adecuado para realizar el analisis de clasificacion, de acuerdo a cada una de las metricas es TF-IDF."
   ],
   "metadata": {
    "collapsed": false
   }
  },
  {
   "cell_type": "markdown",
   "metadata": {},
   "source": []
  }
 ],
 "metadata": {
  "colab": {
   "provenance": []
  },
  "kernelspec": {
   "display_name": "Python 3 (ipykernel)",
   "language": "python",
   "name": "python3"
  },
  "language_info": {
   "codemirror_mode": {
    "name": "ipython",
    "version": 3
   },
   "file_extension": ".py",
   "mimetype": "text/x-python",
   "name": "python",
   "nbconvert_exporter": "python",
   "pygments_lexer": "ipython3",
   "version": "3.11.5"
  }
 },
 "nbformat": 4,
 "nbformat_minor": 0
}
