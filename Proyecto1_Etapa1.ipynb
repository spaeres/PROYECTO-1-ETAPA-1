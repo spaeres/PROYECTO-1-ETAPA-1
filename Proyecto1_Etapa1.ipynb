{
 "nbformat": 4,
 "nbformat_minor": 0,
 "metadata": {
  "colab": {
   "provenance": []
  },
  "kernelspec": {
   "name": "python3",
   "language": "python",
   "display_name": "Python 3 (ipykernel)"
  },
  "language_info": {
   "name": "python"
  }
 },
 "cells": [
  {
   "cell_type": "markdown",
   "source": [
    "# PROYECTO1-ETAPA1\n",
    "\n",
    "**INTEGRANTES**\n",
    "- Juan Sebastian Sanchez Delgado - 202013577\n",
    "- Miguel Angel Cardenas - 202010998\n",
    "- Santiago Paeres Gonzalez - 201425176"
   ],
   "metadata": {
    "id": "ObqoiJVTyPar"
   }
  },
  {
   "cell_type": "markdown",
   "source": [
    "## 1. Entendimiento y preparacion de los datos\n"
   ],
   "metadata": {
    "id": "8b5-Rgp1ynwk"
   }
  },
  {
   "cell_type": "code",
   "execution_count": 2,
   "metadata": {
    "id": "elqXMaxmyCm1",
    "ExecuteTime": {
     "end_time": "2023-10-09T08:22:56.365978Z",
     "start_time": "2023-10-09T08:22:45.242428Z"
    }
   },
   "outputs": [],
   "source": [
    "import numpy as np\n",
    "import pandas as pd\n",
    "\n",
    "import nltk\n",
    "from nltk.corpus import stopwords\n",
    "from nltk.tokenize import word_tokenize\n",
    "\n",
    "from sklearn.ensemble import RandomForestClassifier\n",
    "from sklearn.feature_extraction.text import CountVectorizer, TfidfVectorizer\n",
    "from sklearn.metrics import (\n",
    "    ConfusionMatrixDisplay, RocCurveDisplay,\n",
    "    roc_auc_score, precision_score, recall_score, f1_score\n",
    ")\n",
    "from sklearn.model_selection import train_test_split, RandomizedSearchCV\n",
    "from sklearn.pipeline import Pipeline"
   ]
  },
  {
   "cell_type": "code",
   "source": [
    "import warnings\n",
    "warnings.filterwarnings(\"ignore\")"
   ],
   "metadata": {
    "id": "qp6v4bT80h5P",
    "ExecuteTime": {
     "end_time": "2023-10-09T08:22:56.395012Z",
     "start_time": "2023-10-09T08:22:56.369919Z"
    }
   },
   "execution_count": 3,
   "outputs": []
  },
  {
   "cell_type": "code",
   "source": [
    "# Descargando stopwords\n",
    "nltk.download(\"punkt\")\n",
    "nltk.download(\"stopwords\")\n",
    "stop_words = stopwords.words(\"spanish\")"
   ],
   "metadata": {
    "colab": {
     "base_uri": "https://localhost:8080/"
    },
    "id": "4HXd-yb50nt3",
    "outputId": "3270ed29-dcbf-43e4-91d3-36f2cf01d0cd",
    "ExecuteTime": {
     "end_time": "2023-10-09T08:22:56.606524Z",
     "start_time": "2023-10-09T08:22:56.379516Z"
    }
   },
   "execution_count": 4,
   "outputs": [
    {
     "name": "stderr",
     "output_type": "stream",
     "text": [
      "[nltk_data] Downloading package punkt to\n",
      "[nltk_data]     /Users/santiagopaeres/nltk_data...\n",
      "[nltk_data]   Package punkt is already up-to-date!\n",
      "[nltk_data] Downloading package stopwords to\n",
      "[nltk_data]     /Users/santiagopaeres/nltk_data...\n",
      "[nltk_data]   Package stopwords is already up-to-date!\n"
     ]
    }
   ]
  },
  {
   "cell_type": "code",
   "source": [
    "df_ods = pd.read_csv(\"./cat_345.csv\", sep=';', encoding = 'utf8')"
   ],
   "metadata": {
    "id": "FWr4o45k1PDc",
    "ExecuteTime": {
     "end_time": "2023-10-09T08:22:56.705929Z",
     "start_time": "2023-10-09T08:22:56.607958Z"
    }
   },
   "execution_count": 5,
   "outputs": []
  },
  {
   "cell_type": "code",
   "source": [
    "df_ods.shape"
   ],
   "metadata": {
    "colab": {
     "base_uri": "https://localhost:8080/"
    },
    "id": "L3fXJzsI5pJ_",
    "outputId": "6365d7e6-52e3-45e3-b1c3-8d048c5822fd",
    "ExecuteTime": {
     "end_time": "2023-10-09T08:22:56.723739Z",
     "start_time": "2023-10-09T08:22:56.709816Z"
    }
   },
   "execution_count": 6,
   "outputs": [
    {
     "data": {
      "text/plain": "(3000, 2)"
     },
     "execution_count": 6,
     "metadata": {},
     "output_type": "execute_result"
    }
   ]
  },
  {
   "cell_type": "code",
   "source": [
    "df_ods.dtypes"
   ],
   "metadata": {
    "colab": {
     "base_uri": "https://localhost:8080/"
    },
    "id": "WqysF8ERFDrh",
    "outputId": "aa3e7052-85f6-49a9-fa49-aaf6be37c918",
    "ExecuteTime": {
     "end_time": "2023-10-09T08:22:56.734912Z",
     "start_time": "2023-10-09T08:22:56.719357Z"
    }
   },
   "execution_count": 7,
   "outputs": [
    {
     "data": {
      "text/plain": "Textos_espanol    object\nsdg                int64\ndtype: object"
     },
     "execution_count": 7,
     "metadata": {},
     "output_type": "execute_result"
    }
   ]
  },
  {
   "cell_type": "code",
   "source": [
    "df_ods.sample(5)"
   ],
   "metadata": {
    "colab": {
     "base_uri": "https://localhost:8080/",
     "height": 206
    },
    "id": "u1r4W_z96VdK",
    "outputId": "6b83e625-233b-4144-e4ad-3329340a1530",
    "ExecuteTime": {
     "end_time": "2023-10-09T08:22:56.800121Z",
     "start_time": "2023-10-09T08:22:56.727970Z"
    }
   },
   "execution_count": 8,
   "outputs": [
    {
     "data": {
      "text/plain": "                                         Textos_espanol  sdg\n1638  Sobre la base de la importante base de conocim...    4\n1361  Sin embargo, cuando los docentes se enfrentan ...    4\n1026  Desde 2006, el gobierno ha revisado progresiva...    4\n2923  Los servicios estÃ¡ndar incluyen, entre otros:...    5\n1634  Los centros de AEPI de calidad responden a la ...    4",
      "text/html": "<div>\n<style scoped>\n    .dataframe tbody tr th:only-of-type {\n        vertical-align: middle;\n    }\n\n    .dataframe tbody tr th {\n        vertical-align: top;\n    }\n\n    .dataframe thead th {\n        text-align: right;\n    }\n</style>\n<table border=\"1\" class=\"dataframe\">\n  <thead>\n    <tr style=\"text-align: right;\">\n      <th></th>\n      <th>Textos_espanol</th>\n      <th>sdg</th>\n    </tr>\n  </thead>\n  <tbody>\n    <tr>\n      <th>1638</th>\n      <td>Sobre la base de la importante base de conocim...</td>\n      <td>4</td>\n    </tr>\n    <tr>\n      <th>1361</th>\n      <td>Sin embargo, cuando los docentes se enfrentan ...</td>\n      <td>4</td>\n    </tr>\n    <tr>\n      <th>1026</th>\n      <td>Desde 2006, el gobierno ha revisado progresiva...</td>\n      <td>4</td>\n    </tr>\n    <tr>\n      <th>2923</th>\n      <td>Los servicios estÃ¡ndar incluyen, entre otros:...</td>\n      <td>5</td>\n    </tr>\n    <tr>\n      <th>1634</th>\n      <td>Los centros de AEPI de calidad responden a la ...</td>\n      <td>4</td>\n    </tr>\n  </tbody>\n</table>\n</div>"
     },
     "execution_count": 8,
     "metadata": {},
     "output_type": "execute_result"
    }
   ]
  },
  {
   "cell_type": "markdown",
   "source": [
    "### 1.1 Completitud"
   ],
   "metadata": {
    "id": "Ro4BqScgzX7S"
   }
  },
  {
   "cell_type": "code",
   "source": [
    "# Se muestra la proporcion de registros con valores nulos con respecto a la totalidad de registros\n",
    "df_ods.isnull().sum() / df_ods.shape[0]"
   ],
   "metadata": {
    "colab": {
     "base_uri": "https://localhost:8080/"
    },
    "id": "sY72_CZF7k2S",
    "outputId": "2f700c2d-a860-4464-f269-3c964616a7c8",
    "ExecuteTime": {
     "end_time": "2023-10-09T08:22:56.801143Z",
     "start_time": "2023-10-09T08:22:56.738703Z"
    }
   },
   "execution_count": 9,
   "outputs": [
    {
     "data": {
      "text/plain": "Textos_espanol    0.0\nsdg               0.0\ndtype: float64"
     },
     "execution_count": 9,
     "metadata": {},
     "output_type": "execute_result"
    }
   ]
  },
  {
   "cell_type": "code",
   "source": [
    "# Cálculo de porcentaje de valores nulos por columna\n",
    "((df_ods.isnull().sum()/df_ods.shape[0])).sort_values(ascending=False)"
   ],
   "metadata": {
    "colab": {
     "base_uri": "https://localhost:8080/"
    },
    "id": "nlREVvgq8SxJ",
    "outputId": "10c1b98f-0cb7-4df0-f499-4619e0308e02",
    "ExecuteTime": {
     "end_time": "2023-10-09T08:22:56.819463Z",
     "start_time": "2023-10-09T08:22:56.747714Z"
    }
   },
   "execution_count": 10,
   "outputs": [
    {
     "data": {
      "text/plain": "Textos_espanol    0.0\nsdg               0.0\ndtype: float64"
     },
     "execution_count": 10,
     "metadata": {},
     "output_type": "execute_result"
    }
   ]
  },
  {
   "cell_type": "markdown",
   "source": [
    "### 1.2 Unicidad"
   ],
   "metadata": {
    "id": "TSWDC9ZezfEi"
   }
  },
  {
   "cell_type": "code",
   "source": [
    "# Se revisa el numero de filas duplicadas\n",
    "df_ods.duplicated(keep = False).sum()"
   ],
   "metadata": {
    "colab": {
     "base_uri": "https://localhost:8080/"
    },
    "id": "gVBtywpK897B",
    "outputId": "3bd88b43-3438-4e2d-e0da-a7ec124b0d91",
    "ExecuteTime": {
     "end_time": "2023-10-09T08:22:56.820466Z",
     "start_time": "2023-10-09T08:22:56.762949Z"
    }
   },
   "execution_count": 11,
   "outputs": [
    {
     "data": {
      "text/plain": "0"
     },
     "execution_count": 11,
     "metadata": {},
     "output_type": "execute_result"
    }
   ]
  },
  {
   "cell_type": "markdown",
   "source": [
    "### 1.3 Consistencia"
   ],
   "metadata": {
    "id": "8eNt1aNIzkFp"
   }
  },
  {
   "cell_type": "code",
   "source": [
    "df_ods[\"Textos_espanol\"] = df_ods[\"Textos_espanol\"].astype(str)"
   ],
   "metadata": {
    "id": "ZeCQhcqf-oz8",
    "ExecuteTime": {
     "end_time": "2023-10-09T08:22:56.820728Z",
     "start_time": "2023-10-09T08:22:56.776373Z"
    }
   },
   "execution_count": 12,
   "outputs": []
  },
  {
   "cell_type": "markdown",
   "source": [
    "### 1.4 Validez"
   ],
   "metadata": {
    "id": "QyvxHZwJzncw"
   }
  },
  {
   "cell_type": "code",
   "source": [
    "df_ods['sdg'].value_counts()"
   ],
   "metadata": {
    "colab": {
     "base_uri": "https://localhost:8080/"
    },
    "id": "xlnqsB6d9h3H",
    "outputId": "0828ee36-2f7b-41f1-fa50-fdd2fc6e63b9",
    "ExecuteTime": {
     "end_time": "2023-10-09T08:22:56.842910Z",
     "start_time": "2023-10-09T08:22:56.785599Z"
    }
   },
   "execution_count": 13,
   "outputs": [
    {
     "data": {
      "text/plain": "sdg\n3    1000\n4    1000\n5    1000\nName: count, dtype: int64"
     },
     "execution_count": 13,
     "metadata": {},
     "output_type": "execute_result"
    }
   ]
  },
  {
   "cell_type": "code",
   "source": [
    "df_ods['Textos_espanol'].value_counts()"
   ],
   "metadata": {
    "colab": {
     "base_uri": "https://localhost:8080/"
    },
    "id": "q5EIKs2v_IIn",
    "outputId": "ef0feb5f-0473-43af-fe80-2413ef6598c7",
    "ExecuteTime": {
     "end_time": "2023-10-09T08:22:56.937087Z",
     "start_time": "2023-10-09T08:22:56.790699Z"
    }
   },
   "execution_count": 14,
   "outputs": [
    {
     "data": {
      "text/plain": "Textos_espanol\nPor ejemplo, el nÃºmero de consultas externas de especialistas es de 319 por cada mil derechohabientes en el SP, en comparaciÃ³n con 338 y 620 por cada mil derechohabientes en el IMSS y el ISSSTE, respectivamente. Si bien algunas de estas diferencias pueden reflejar una necesidad desigual (como la poblaciÃ³n ligeramente mayor del ISSSTE), otras no pueden justificarse de esta manera. El nÃºmero de recetas que no pudieron ser surtidas en su totalidad por un farmacÃ©utico debido a la falta de existencias es de 33% dentro del SP en comparaciÃ³n con 14% dentro del IMSS segÃºn los datos de la encuesta (aunque las propias cifras de los institutos de la SS sugieren tasas mÃ¡s altas de recetas surtidas). Ambas cifras se encuentran entre las mÃ¡s altas de la OCDE. El gasto de bolsillo no se ha reducido significativamente en la última década, a pesar de los esfuerzos para lograr la cobertura sanitaria universal a través de la reforma del SP.                                                                                                                                                                                                                                                                                                                                                                                                                                        1\nPonencia presentada en el Taller FAO-FIDA-OIT sobre \"Lagunas, tendencias e investigación actual en las dimensiones de género del empleo agrícola y rural: Differentiated Pathways out of Poverty'Roma, 31 de marzo - 2 de abril de 2009. D. Sahn (1997), \"Gender and Education Impacts on Employment and Earnings inWest Africa: Evidence from Guinea\", Economic Development and Cultural Change, pp. Evidence from Cote-d'Ivoire\", Oxford Bulletin of Economics and Statistics, pp.                                                                                                                                                                                                                                                                                                                                                                                                                                                                                                                                                                                                                                                                                                                                                                                                                                                                                                                                    1\nDe hecho, la educación, medida por años de escolaridad, se correlaciona positivamente con la intensidad de capital en la manufactura (Qu y Cai, 2011). Dado que la mayor parte de la fuerza laboral en China está compuesta por graduados de secundaria y preparatoria, existe un amplio margen para invertir en educación y capacitación para impulsar la productividad laboral. La productividad laboral sería un 23% más alta si los graduados de la escuela secundaria básica tuvieran educación secundaria superior y se duplicaría si los graduados de la escuela secundaria superior tuvieran formación universitaria. Sin embargo, el logro de la educación superior por sí solo puede no ser suficiente. Para adaptarse a la estructura cambiante de la industria, se necesita un amplio conjunto de habilidades y amplios conocimientos generales, que faciliten la adquisición de nuevas habilidades.                                                                                                                                                                                                                                                                                                                                                                                                                                                                                                        1\nEsto se estableció en la Declaración de los Derechos Humanos de las Naciones Unidas de 1948 (artículo 26) y se repitió en la Convención de las Naciones Unidas sobre los Derechos del Niño de 1989 (artículo 28). El informe de la Comisión de Respeto y Comprensión de la Commonwealth, presidida por Amartya Sen, ha llamado más la atención sobre este asunto (Sen, 2007). La educación básica también es ampliamente aceptada en la literatura internacional y el discurso político como esencial para el desarrollo y la reducción de la pobreza (ver, por ejemplo, Lee, 2004, Cohen et al.,                                                                                                                                                                                                                                                                                                                                                                                                                                                                                                                                                                                                                                                                                                                                                                                                                       1\nLa prueba de habilidades básicas en línea para TIC cubre las habilidades básicas que los docentes necesitan para cumplir con su rol profesional más amplio en las escuelas en lugar del conocimiento de la materia requerido para enseñar. La prueba requiere que demuestren la capacidad de realizar cambios en las diapositivas en el software de presentación usando un navegador web, usar el correo electrónico y varias funciones dentro del correo electrónico, usar un editor de texto y correo electrónico, actualizar una hoja de cálculo y descargar recursos de Internet y regístrese para recibir un boletín. Todos los docentes en formación deben aprobar esta prueba en línea de competencia en TIC antes de que se les pueda otorgar el estatus de docente calificado. El “Plan de estudios nacional de formación inicial de profesores en el uso de las TIC en la enseñanza de asignaturas”, que se introdujo en los institutos de formación de profesores en 1998 en Inglaterra, constaba de más de cien declaraciones de competencia en TIC y se extendía a 17 páginas impresas, pero se encontró que era demasiado burocrático y difícil de evaluar en la práctica, de ahí el paso a una formulación más sucinta de las competencias en TIC que se requiere que posean los docentes en formación (informe de país24 dedicado a Inglaterra, última actualización y revisión en octubre de 2007).    1\n                                                                                                                                                                                                                                                                                                                                                                                                                                                                                                                                                                                                                                                                                                                                                                                                                                                                                                                                                                                                                                                                                                                                                                                                                                                                                                                                                                                                                       ..\nLa segunda sección se centra en las variaciones dentro de los países y a lo largo del tiempo, y explora cómo los cambios en la proporción de alumnos por docente, el tamaño de la clase, la remuneración de los docentes y la autonomía escolar para seleccionar docentes se relacionan con las tendencias de desempeño en todos los países y economías participantes de PISA. La última sección se centra en las variaciones dentro de los países y explora cómo las calificaciones y la experiencia de los docentes, la rotación de docentes y el apoyo al aprendizaje profesional de los docentes se relacionan con los resultados a nivel escolar. El uso de dichos datos por parte de la OCDE es sin perjuicio del estado de los Altos del Golán, Jerusalén Este y los asentamientos israelíes en Cisjordania según los términos del derecho internacional.                                                                                                                                                                                                                                                                                                                                                                                                                                                                                                                                                        1\nOtros proveedores incluyen universidades, que brindan cursos a maestros que buscan avanzar en su carrera, organismos del gobierno central como el Instituto de Ciencias de la Educación (IES) y organizaciones no gubernamentales (ONG). También es clave para seguir profesionalizando la función docente y potenciar el prestigio y el atractivo de la profesión. En la encuesta TALIS 2013, solo el 35 % de los docentes de Rumanía afirmaron sentir que su profesión es valorada por la sociedad (OCDE, 2014c).                                                                                                                                                                                                                                                                                                                                                                                                                                                                                                                                                                                                                                                                                                                                                                                                                                                                                                     1\nLos modelos de crecimiento miden la mejora observando \"cómo\" un centro ha mejorado el rendimiento de los alumnos independientemente del nivel de logro (Figlio y Loeb, 2011). Dentro de cada modelo, los profesores están motivados para centrar su atención en diferentes grupos de alumnos. En los modelos de estatus, los estudiantes de bajo rendimiento reciben mayor atención para llevarlos a niveles de competencia, en los modelos de crecimiento, los profesores son recompensados por mejorar los resultados de los estudiantes para cualquier nivel de estudiante. Por lo tanto, en los sistemas de modelos de crecimiento es menos probable que los profesores excluyan a los alumnos de bajo rendimiento, ya que se mide cualquier mejora en los resultados.                                                                                                                                                                                                                                                                                                                                                                                                                                                                                                                                                                                                                                              1\nSe han adoptado medidas para garantizar que todos los alumnos finalicen la escuela secundaria inferior con las habilidades básicas adecuadas, brindar una educación inclusiva y significativa para todos y alentar a los gobiernos y escuelas locales a establecer sus propios objetivos en consonancia con los objetivos nacionales. Dentro de este marco, el Ministerio de Educación de Noruega está buscando enfoques más específicos para fortalecer la calidad de la educación secundaria inferior. Estos se centran en la necesidad de adaptar la enseñanza y el aprendizaje a la motivación de los estudiantes en edades específicas de la adolescencia, de garantizar entornos escolares adecuados que satisfagan sus necesidades y de apoyar transiciones efectivas de un nivel al siguiente.                                                                                                                                                                                                                                                                                                                                                                                                                                                                                                                                                                                                                  1\nEsto ha sido reconocido por los comitÃ©s en la atenciÃ³n prestada a la salud reproductiva de la mujer, el aborto, la anticoncepciÃ³n, el matrimonio precoz y el embarazo en la adolescencia. AsÃ, se reconoce que el control sobre su propia reproducciÃ³n es fundamental para que las mujeres puedan participar en igualdad de condiciones en la sociedad. AsÃ, las Directrices para la presentaciÃ³n de informes sobre el artÃculo 6, el derecho a la vida, exigen a los Estados que proporcionen informaciÃ³n sobre las tasas de natalidad y las muertes de mujeres relacionadas con el embarazo y el parto, asÃ como sobre las medidas adoptadas para ayudar a las mujeres a evitar embarazos no deseados y garantizar que no tengan que someterse a abortos clandestinos que pongan en peligro su vida (PIDCP 2012).                                                                                                                                                                                                                                                                                                                                                                                                                                                                                                                                                                                               1\nName: count, Length: 3000, dtype: int64"
     },
     "execution_count": 14,
     "metadata": {},
     "output_type": "execute_result"
    }
   ]
  },
  {
   "cell_type": "code",
   "source": [
    "df_ods.sample(20)"
   ],
   "metadata": {
    "colab": {
     "base_uri": "https://localhost:8080/",
     "height": 677
    },
    "id": "cD-hFooO9kPZ",
    "outputId": "cc650019-9702-451f-e66c-55539f491663",
    "ExecuteTime": {
     "end_time": "2023-10-09T08:22:56.980527Z",
     "start_time": "2023-10-09T08:22:56.818330Z"
    }
   },
   "execution_count": 15,
   "outputs": [
    {
     "data": {
      "text/plain": "                                         Textos_espanol  sdg\n561   Al hacerlo, las etiquetas deben ser explícitas...    3\n1595  Además, el documento trata de plantear varios ...    4\n105   La relación coste-beneficio reveló que por cad...    3\n279   Mientras que la tasa de empleo de las personas...    3\n1464  Estos atributos requeridos también se amplían ...    4\n632   Identificación de posibles innovaciones en el ...    3\n2223  Hace un llamado a los gobiernos para que “gara...    5\n1590  Una enmienda a la Ley de Educación Escolar (20...    4\n1314  Ofrecer más oportunidades de aprendizaje colab...    4\n1861  Además, la competencia de un estudiante, en sí...    4\n2323  Asia Report 138, Kabul/Bruselas, 2007. Por eje...    5\n1560  Los expertos saben por investigaciones anterio...    4\n2513  No obstante, ha ido en aumento (del 22,5% en 2...    5\n2398  Las normas sociales y la relativa debilidad de...    5\n437   Por otro lado, el 37% de los adultos daneses i...    3\n2642  La información sobre el logro educativo por gé...    5\n506   AdemÃ¡s de las medidas previstas por el Gobier...    3\n1980  La Iniciativa del Clúster de Educación Técnica...    4\n19    En Noruega, una revisión de los servicios comu...    3\n1632  Algunas de estas colaboraciones regionales est...    4",
      "text/html": "<div>\n<style scoped>\n    .dataframe tbody tr th:only-of-type {\n        vertical-align: middle;\n    }\n\n    .dataframe tbody tr th {\n        vertical-align: top;\n    }\n\n    .dataframe thead th {\n        text-align: right;\n    }\n</style>\n<table border=\"1\" class=\"dataframe\">\n  <thead>\n    <tr style=\"text-align: right;\">\n      <th></th>\n      <th>Textos_espanol</th>\n      <th>sdg</th>\n    </tr>\n  </thead>\n  <tbody>\n    <tr>\n      <th>561</th>\n      <td>Al hacerlo, las etiquetas deben ser explícitas...</td>\n      <td>3</td>\n    </tr>\n    <tr>\n      <th>1595</th>\n      <td>Además, el documento trata de plantear varios ...</td>\n      <td>4</td>\n    </tr>\n    <tr>\n      <th>105</th>\n      <td>La relación coste-beneficio reveló que por cad...</td>\n      <td>3</td>\n    </tr>\n    <tr>\n      <th>279</th>\n      <td>Mientras que la tasa de empleo de las personas...</td>\n      <td>3</td>\n    </tr>\n    <tr>\n      <th>1464</th>\n      <td>Estos atributos requeridos también se amplían ...</td>\n      <td>4</td>\n    </tr>\n    <tr>\n      <th>632</th>\n      <td>Identificación de posibles innovaciones en el ...</td>\n      <td>3</td>\n    </tr>\n    <tr>\n      <th>2223</th>\n      <td>Hace un llamado a los gobiernos para que “gara...</td>\n      <td>5</td>\n    </tr>\n    <tr>\n      <th>1590</th>\n      <td>Una enmienda a la Ley de Educación Escolar (20...</td>\n      <td>4</td>\n    </tr>\n    <tr>\n      <th>1314</th>\n      <td>Ofrecer más oportunidades de aprendizaje colab...</td>\n      <td>4</td>\n    </tr>\n    <tr>\n      <th>1861</th>\n      <td>Además, la competencia de un estudiante, en sí...</td>\n      <td>4</td>\n    </tr>\n    <tr>\n      <th>2323</th>\n      <td>Asia Report 138, Kabul/Bruselas, 2007. Por eje...</td>\n      <td>5</td>\n    </tr>\n    <tr>\n      <th>1560</th>\n      <td>Los expertos saben por investigaciones anterio...</td>\n      <td>4</td>\n    </tr>\n    <tr>\n      <th>2513</th>\n      <td>No obstante, ha ido en aumento (del 22,5% en 2...</td>\n      <td>5</td>\n    </tr>\n    <tr>\n      <th>2398</th>\n      <td>Las normas sociales y la relativa debilidad de...</td>\n      <td>5</td>\n    </tr>\n    <tr>\n      <th>437</th>\n      <td>Por otro lado, el 37% de los adultos daneses i...</td>\n      <td>3</td>\n    </tr>\n    <tr>\n      <th>2642</th>\n      <td>La información sobre el logro educativo por gé...</td>\n      <td>5</td>\n    </tr>\n    <tr>\n      <th>506</th>\n      <td>AdemÃ¡s de las medidas previstas por el Gobier...</td>\n      <td>3</td>\n    </tr>\n    <tr>\n      <th>1980</th>\n      <td>La Iniciativa del Clúster de Educación Técnica...</td>\n      <td>4</td>\n    </tr>\n    <tr>\n      <th>19</th>\n      <td>En Noruega, una revisión de los servicios comu...</td>\n      <td>3</td>\n    </tr>\n    <tr>\n      <th>1632</th>\n      <td>Algunas de estas colaboraciones regionales est...</td>\n      <td>4</td>\n    </tr>\n  </tbody>\n</table>\n</div>"
     },
     "execution_count": 15,
     "metadata": {},
     "output_type": "execute_result"
    }
   ]
  },
  {
   "cell_type": "code",
   "source": [
    "df_ods[df_ods['Textos_espanol'].str.contains('Ã')]"
   ],
   "metadata": {
    "colab": {
     "base_uri": "https://localhost:8080/",
     "height": 424
    },
    "id": "3v6Zn69E_zED",
    "outputId": "fe3de3e1-1ac6-4430-f7e4-39a71007bb7d",
    "ExecuteTime": {
     "end_time": "2023-10-09T08:22:57.000100Z",
     "start_time": "2023-10-09T08:22:56.839739Z"
    }
   },
   "execution_count": 16,
   "outputs": [
    {
     "data": {
      "text/plain": "                                         Textos_espanol  sdg\n0     Por ejemplo, el nÃºmero de consultas externas ...    3\n10    Dos encuestados seÃ±alaron que no existe un or...    3\n26    También promueve mejoras en la prevención, el ...    3\n30    La falta de programas completos de acreditació...    3\n46    Dado el aumento de enfermedades crónicas como ...    3\n...                                                 ...  ...\n2984  Las actividades empresariales siguen viéndose ...    5\n2990  La Agenda Nacional de Jordania 2006-15 estable...    5\n2991  En la mayoría de los países de la CAO, los fun...    5\n2996  Por el contrario, el porcentaje de hogares en ...    5\n2999  Esto ha sido reconocido por los comitÃ©s en la...    5\n\n[254 rows x 2 columns]",
      "text/html": "<div>\n<style scoped>\n    .dataframe tbody tr th:only-of-type {\n        vertical-align: middle;\n    }\n\n    .dataframe tbody tr th {\n        vertical-align: top;\n    }\n\n    .dataframe thead th {\n        text-align: right;\n    }\n</style>\n<table border=\"1\" class=\"dataframe\">\n  <thead>\n    <tr style=\"text-align: right;\">\n      <th></th>\n      <th>Textos_espanol</th>\n      <th>sdg</th>\n    </tr>\n  </thead>\n  <tbody>\n    <tr>\n      <th>0</th>\n      <td>Por ejemplo, el nÃºmero de consultas externas ...</td>\n      <td>3</td>\n    </tr>\n    <tr>\n      <th>10</th>\n      <td>Dos encuestados seÃ±alaron que no existe un or...</td>\n      <td>3</td>\n    </tr>\n    <tr>\n      <th>26</th>\n      <td>También promueve mejoras en la prevención, el ...</td>\n      <td>3</td>\n    </tr>\n    <tr>\n      <th>30</th>\n      <td>La falta de programas completos de acreditació...</td>\n      <td>3</td>\n    </tr>\n    <tr>\n      <th>46</th>\n      <td>Dado el aumento de enfermedades crónicas como ...</td>\n      <td>3</td>\n    </tr>\n    <tr>\n      <th>...</th>\n      <td>...</td>\n      <td>...</td>\n    </tr>\n    <tr>\n      <th>2984</th>\n      <td>Las actividades empresariales siguen viéndose ...</td>\n      <td>5</td>\n    </tr>\n    <tr>\n      <th>2990</th>\n      <td>La Agenda Nacional de Jordania 2006-15 estable...</td>\n      <td>5</td>\n    </tr>\n    <tr>\n      <th>2991</th>\n      <td>En la mayoría de los países de la CAO, los fun...</td>\n      <td>5</td>\n    </tr>\n    <tr>\n      <th>2996</th>\n      <td>Por el contrario, el porcentaje de hogares en ...</td>\n      <td>5</td>\n    </tr>\n    <tr>\n      <th>2999</th>\n      <td>Esto ha sido reconocido por los comitÃ©s en la...</td>\n      <td>5</td>\n    </tr>\n  </tbody>\n</table>\n<p>254 rows × 2 columns</p>\n</div>"
     },
     "execution_count": 16,
     "metadata": {},
     "output_type": "execute_result"
    }
   ]
  },
  {
   "cell_type": "code",
   "source": [
    "# Remplaza lo caracteres erroneos con su equivalencia pero en UTF-8\n",
    "df_ods['Textos_espanol'] = df_ods['Textos_espanol'].str.replace('Ã¡', 'á')\n",
    "df_ods['Textos_espanol'] = df_ods['Textos_espanol'].str.replace('Ã©', 'é')\n",
    "df_ods['Textos_espanol'] = df_ods['Textos_espanol'].str.replace('Ã³', 'ó')\n",
    "df_ods['Textos_espanol'] = df_ods['Textos_espanol'].str.replace('Ãº', 'ú')\n",
    "df_ods['Textos_espanol'] = df_ods['Textos_espanol'].str.replace('Ã±', 'ñ')\n",
    "df_ods['Textos_espanol'] = df_ods['Textos_espanol'].str.replace('Ã', 'í')"
   ],
   "metadata": {
    "id": "gBxOPmTXGqv2",
    "ExecuteTime": {
     "end_time": "2023-10-09T08:22:57.071082Z",
     "start_time": "2023-10-09T08:22:56.857289Z"
    }
   },
   "execution_count": 17,
   "outputs": []
  },
  {
   "cell_type": "code",
   "source": [
    "df_ods[df_ods['Textos_espanol'].str.contains('Ã')]"
   ],
   "metadata": {
    "colab": {
     "base_uri": "https://localhost:8080/",
     "height": 53
    },
    "id": "Wi_Eg6Z-JnQ_",
    "outputId": "a9eab142-6ba8-4dfb-a13b-fc61ce955d14",
    "ExecuteTime": {
     "end_time": "2023-10-09T08:22:57.087163Z",
     "start_time": "2023-10-09T08:22:56.872574Z"
    }
   },
   "execution_count": 18,
   "outputs": [
    {
     "data": {
      "text/plain": "Empty DataFrame\nColumns: [Textos_espanol, sdg]\nIndex: []",
      "text/html": "<div>\n<style scoped>\n    .dataframe tbody tr th:only-of-type {\n        vertical-align: middle;\n    }\n\n    .dataframe tbody tr th {\n        vertical-align: top;\n    }\n\n    .dataframe thead th {\n        text-align: right;\n    }\n</style>\n<table border=\"1\" class=\"dataframe\">\n  <thead>\n    <tr style=\"text-align: right;\">\n      <th></th>\n      <th>Textos_espanol</th>\n      <th>sdg</th>\n    </tr>\n  </thead>\n  <tbody>\n  </tbody>\n</table>\n</div>"
     },
     "execution_count": 18,
     "metadata": {},
     "output_type": "execute_result"
    }
   ]
  },
  {
   "cell_type": "code",
   "source": [
    "df_ods.sample(10)"
   ],
   "metadata": {
    "colab": {
     "base_uri": "https://localhost:8080/",
     "height": 363
    },
    "id": "qfK4mZVIJnaa",
    "outputId": "036d2a49-0adf-44f5-fa83-4b818d7a7806",
    "ExecuteTime": {
     "end_time": "2023-10-09T08:22:57.088665Z",
     "start_time": "2023-10-09T08:22:56.888283Z"
    }
   },
   "execution_count": 19,
   "outputs": [
    {
     "data": {
      "text/plain": "                                         Textos_espanol  sdg\n2709  No obstante, también se incluyen variables esp...    5\n2176  La Ley Agraria de México de 1971 otorgó a las ...    5\n2231  Sin embargo, este tipo de trabajo sin duda par...    5\n1238  En PISA 2012, el desempeño de los estudiantes ...    4\n2280  El análisis se basa en la bibliografía existen...    5\n1321  En 2016, se asignó una financiación adicional ...    4\n2222  En consecuencia, la inversión gubernamental en...    5\n1193  Al hacerlo, también ayuda a las escuelas a ret...    4\n2511  También es vital para la capacidad de las muje...    5\n724   Entre 1985 y 2014, los habitantes de zonas urb...    3",
      "text/html": "<div>\n<style scoped>\n    .dataframe tbody tr th:only-of-type {\n        vertical-align: middle;\n    }\n\n    .dataframe tbody tr th {\n        vertical-align: top;\n    }\n\n    .dataframe thead th {\n        text-align: right;\n    }\n</style>\n<table border=\"1\" class=\"dataframe\">\n  <thead>\n    <tr style=\"text-align: right;\">\n      <th></th>\n      <th>Textos_espanol</th>\n      <th>sdg</th>\n    </tr>\n  </thead>\n  <tbody>\n    <tr>\n      <th>2709</th>\n      <td>No obstante, también se incluyen variables esp...</td>\n      <td>5</td>\n    </tr>\n    <tr>\n      <th>2176</th>\n      <td>La Ley Agraria de México de 1971 otorgó a las ...</td>\n      <td>5</td>\n    </tr>\n    <tr>\n      <th>2231</th>\n      <td>Sin embargo, este tipo de trabajo sin duda par...</td>\n      <td>5</td>\n    </tr>\n    <tr>\n      <th>1238</th>\n      <td>En PISA 2012, el desempeño de los estudiantes ...</td>\n      <td>4</td>\n    </tr>\n    <tr>\n      <th>2280</th>\n      <td>El análisis se basa en la bibliografía existen...</td>\n      <td>5</td>\n    </tr>\n    <tr>\n      <th>1321</th>\n      <td>En 2016, se asignó una financiación adicional ...</td>\n      <td>4</td>\n    </tr>\n    <tr>\n      <th>2222</th>\n      <td>En consecuencia, la inversión gubernamental en...</td>\n      <td>5</td>\n    </tr>\n    <tr>\n      <th>1193</th>\n      <td>Al hacerlo, también ayuda a las escuelas a ret...</td>\n      <td>4</td>\n    </tr>\n    <tr>\n      <th>2511</th>\n      <td>También es vital para la capacidad de las muje...</td>\n      <td>5</td>\n    </tr>\n    <tr>\n      <th>724</th>\n      <td>Entre 1985 y 2014, los habitantes de zonas urb...</td>\n      <td>3</td>\n    </tr>\n  </tbody>\n</table>\n</div>"
     },
     "execution_count": 19,
     "metadata": {},
     "output_type": "execute_result"
    }
   ]
  },
  {
   "cell_type": "markdown",
   "source": [
    "### 1.5 Transformacion"
   ],
   "metadata": {
    "id": "VV7A-iRhzuFe"
   }
  },
  {
   "cell_type": "code",
   "source": [
    "# Se dividen los datos para entrenamiento y prueba\n",
    "X_train, X_test, y_train, y_test = train_test_split(df_ods[\"Textos_espanol\"], df_ods[\"sdg\"], test_size=0.3, stratify=df_ods[\"sdg\"], random_state=1)"
   ],
   "metadata": {
    "id": "QBC2sNaj0o6-",
    "ExecuteTime": {
     "end_time": "2023-10-09T08:22:57.091019Z",
     "start_time": "2023-10-09T08:22:56.893724Z"
    }
   },
   "execution_count": 20,
   "outputs": []
  },
  {
   "cell_type": "code",
   "source": [
    "X_train.shape, X_test.shape"
   ],
   "metadata": {
    "colab": {
     "base_uri": "https://localhost:8080/"
    },
    "id": "voSRAhWn17NG",
    "outputId": "1ca4c9aa-50ec-4742-d8e1-285027db9a4e",
    "ExecuteTime": {
     "end_time": "2023-10-09T08:22:57.096810Z",
     "start_time": "2023-10-09T08:22:56.904428Z"
    }
   },
   "execution_count": 21,
   "outputs": [
    {
     "data": {
      "text/plain": "((2100,), (900,))"
     },
     "execution_count": 21,
     "metadata": {},
     "output_type": "execute_result"
    }
   ]
  },
  {
   "cell_type": "code",
   "source": [
    "pd.Series(y_train).value_counts(normalize=True)"
   ],
   "metadata": {
    "colab": {
     "base_uri": "https://localhost:8080/"
    },
    "id": "V4u-znhD18E0",
    "outputId": "3a32174b-7d5b-4aec-b154-966178c47c56",
    "ExecuteTime": {
     "end_time": "2023-10-09T08:22:57.097445Z",
     "start_time": "2023-10-09T08:22:56.909024Z"
    }
   },
   "execution_count": 22,
   "outputs": [
    {
     "data": {
      "text/plain": "sdg\n4    0.333333\n3    0.333333\n5    0.333333\nName: proportion, dtype: float64"
     },
     "execution_count": 22,
     "metadata": {},
     "output_type": "execute_result"
    }
   ]
  },
  {
   "cell_type": "code",
   "source": [
    "pd.Series(y_test).value_counts(normalize=True)"
   ],
   "metadata": {
    "colab": {
     "base_uri": "https://localhost:8080/"
    },
    "id": "P13mqnXP1-Rj",
    "outputId": "0c9916ff-f596-4557-a981-c13dfac0cbaf",
    "ExecuteTime": {
     "end_time": "2023-10-09T08:22:57.098112Z",
     "start_time": "2023-10-09T08:22:56.920962Z"
    }
   },
   "execution_count": 23,
   "outputs": [
    {
     "data": {
      "text/plain": "sdg\n3    0.333333\n4    0.333333\n5    0.333333\nName: proportion, dtype: float64"
     },
     "execution_count": 23,
     "metadata": {},
     "output_type": "execute_result"
    }
   ]
  },
  {
   "cell_type": "code",
   "source": [
    "bow = CountVectorizer(tokenizer=word_tokenize, stop_words=stop_words, lowercase=True)"
   ],
   "metadata": {
    "id": "vFfbSRXa4HWw",
    "ExecuteTime": {
     "end_time": "2023-10-09T08:22:57.098315Z",
     "start_time": "2023-10-09T08:22:56.928479Z"
    }
   },
   "execution_count": 24,
   "outputs": []
  },
  {
   "cell_type": "code",
   "source": [
    "X_bow = bow.fit_transform(X_train)"
   ],
   "metadata": {
    "id": "H0fJddNd4LRg",
    "ExecuteTime": {
     "end_time": "2023-10-09T08:22:58.347921Z",
     "start_time": "2023-10-09T08:22:56.932894Z"
    }
   },
   "execution_count": 25,
   "outputs": []
  },
  {
   "cell_type": "code",
   "source": [
    "print(\"Vocabulary size:\", len(bow.vocabulary_))"
   ],
   "metadata": {
    "colab": {
     "base_uri": "https://localhost:8080/"
    },
    "id": "3QBPF-Rs4LUe",
    "outputId": "82f0ee10-4aaf-49d8-ce9b-bd654ae3ffdc",
    "ExecuteTime": {
     "end_time": "2023-10-09T08:22:58.355692Z",
     "start_time": "2023-10-09T08:22:58.348427Z"
    }
   },
   "execution_count": 26,
   "outputs": [
    {
     "name": "stdout",
     "output_type": "stream",
     "text": [
      "Vocabulary size: 15134\n"
     ]
    }
   ]
  },
  {
   "cell_type": "code",
   "source": [
    "tfidf = TfidfVectorizer(tokenizer=word_tokenize, stop_words=stop_words, lowercase=True)"
   ],
   "metadata": {
    "id": "8xHCRTEM4LXG",
    "ExecuteTime": {
     "end_time": "2023-10-09T08:22:58.359132Z",
     "start_time": "2023-10-09T08:22:58.355048Z"
    }
   },
   "execution_count": 27,
   "outputs": []
  },
  {
   "cell_type": "code",
   "source": [
    "X_tfidf = tfidf.fit_transform(X_train)"
   ],
   "metadata": {
    "id": "Sw1Jjg2w5OWf",
    "ExecuteTime": {
     "end_time": "2023-10-09T08:22:59.632315Z",
     "start_time": "2023-10-09T08:22:58.363726Z"
    }
   },
   "execution_count": 28,
   "outputs": []
  },
  {
   "cell_type": "code",
   "source": [
    "print(\"Vocabulary size:\", len(tfidf.vocabulary_))"
   ],
   "metadata": {
    "colab": {
     "base_uri": "https://localhost:8080/"
    },
    "id": "I_X4xeTK5OYs",
    "outputId": "a64086b0-560a-4d87-f168-cbed56d48d2d",
    "ExecuteTime": {
     "end_time": "2023-10-09T08:22:59.647288Z",
     "start_time": "2023-10-09T08:22:59.640785Z"
    }
   },
   "execution_count": 29,
   "outputs": [
    {
     "name": "stdout",
     "output_type": "stream",
     "text": [
      "Vocabulary size: 15134\n"
     ]
    }
   ]
  },
  {
   "cell_type": "markdown",
   "source": [
    "## 2. Modelado y evaluacion"
   ],
   "metadata": {
    "id": "MAxntBpyytvF"
   }
  },
  {
   "cell_type": "markdown",
   "source": [
    "### 2.1 Entrenando Modelo con BoW y Random Forest classifier (Juan Sebastian Sanchez Delgado)"
   ],
   "metadata": {
    "id": "NDyZBuqDRg81"
   }
  },
  {
   "cell_type": "code",
   "source": [
    "bow_model = RandomForestClassifier(random_state=2)"
   ],
   "metadata": {
    "id": "rWLJ7JxnzM07",
    "ExecuteTime": {
     "end_time": "2023-10-09T08:22:59.666703Z",
     "start_time": "2023-10-09T08:22:59.646969Z"
    }
   },
   "execution_count": 30,
   "outputs": []
  },
  {
   "cell_type": "code",
   "source": [
    "bow_model.fit(X_bow, y_train)"
   ],
   "metadata": {
    "colab": {
     "base_uri": "https://localhost:8080/",
     "height": 75
    },
    "id": "zL-qOKBp5laL",
    "outputId": "864cb117-e3e0-47a4-aa08-59822f0b0126",
    "ExecuteTime": {
     "end_time": "2023-10-09T08:23:00.469896Z",
     "start_time": "2023-10-09T08:22:59.651265Z"
    }
   },
   "execution_count": 31,
   "outputs": [
    {
     "data": {
      "text/plain": "RandomForestClassifier(random_state=2)"
     },
     "execution_count": 31,
     "metadata": {},
     "output_type": "execute_result"
    }
   ]
  },
  {
   "cell_type": "code",
   "source": [
    "# Se muestra la importancia de algunas palabras para determinar que tan relevante es para tomar una decision para el modelo\n",
    "pd.Series(bow_model.feature_importances_, index=bow.vocabulary_).sort_values().tail(20).plot.barh(figsize=(15, 8))"
   ],
   "metadata": {
    "colab": {
     "base_uri": "https://localhost:8080/",
     "height": 556
    },
    "id": "CGELXhhz5wIY",
    "outputId": "e46d7132-8813-4b07-a2ab-b0d2eba3d539",
    "ExecuteTime": {
     "end_time": "2023-10-09T08:23:01.560233Z",
     "start_time": "2023-10-09T08:23:00.470399Z"
    }
   },
   "execution_count": 32,
   "outputs": [
    {
     "data": {
      "text/plain": "<Axes: >"
     },
     "execution_count": 32,
     "metadata": {},
     "output_type": "execute_result"
    },
    {
     "data": {
      "text/plain": "<Figure size 1500x800 with 1 Axes>",
      "image/png": "[encoded data removed]"
     },
     "metadata": {},
     "output_type": "display_data"
    }
   ]
  },
  {
   "cell_type": "code",
   "source": [
    "bow_estimators = bow_model.estimators_\n",
    "print(\"Numero de arboles de decision:\", len(bow_estimators))\n",
    "print(\"Profundidad de los arboles (mean):\", np.mean([tree.get_depth() for tree in bow_estimators]))"
   ],
   "metadata": {
    "colab": {
     "base_uri": "https://localhost:8080/"
    },
    "id": "L2-Fnvi66l-r",
    "outputId": "21b049ba-b617-4b35-e315-d35baf7736d4",
    "ExecuteTime": {
     "end_time": "2023-10-09T08:23:01.567745Z",
     "start_time": "2023-10-09T08:23:01.559122Z"
    }
   },
   "execution_count": 33,
   "outputs": [
    {
     "name": "stdout",
     "output_type": "stream",
     "text": [
      "Numero de arboles de decision: 100\n",
      "Profundidad de los arboles (mean): 97.14\n"
     ]
    }
   ]
  },
  {
   "cell_type": "code",
   "source": [
    "y_train_bow_predict = bow_model.predict(X_bow)\n",
    "y_test_bow_predict = bow_model.predict(bow.transform(X_test))"
   ],
   "metadata": {
    "id": "CjGea2Y46sqQ",
    "ExecuteTime": {
     "end_time": "2023-10-09T08:23:02.260148Z",
     "start_time": "2023-10-09T08:23:01.565758Z"
    }
   },
   "execution_count": 34,
   "outputs": []
  },
  {
   "cell_type": "code",
   "source": [
    "ConfusionMatrixDisplay.from_predictions(y_train, y_train_bow_predict)"
   ],
   "metadata": {
    "colab": {
     "base_uri": "https://localhost:8080/",
     "height": 473
    },
    "id": "Aa0CI6s_7Dp1",
    "outputId": "082cd932-5b6a-4e41-e1f8-6a501917236d",
    "ExecuteTime": {
     "end_time": "2023-10-09T08:23:02.483166Z",
     "start_time": "2023-10-09T08:23:02.260618Z"
    }
   },
   "execution_count": 35,
   "outputs": [
    {
     "data": {
      "text/plain": "<sklearn.metrics._plot.confusion_matrix.ConfusionMatrixDisplay at 0x7fe9f51cf040>"
     },
     "execution_count": 35,
     "metadata": {},
     "output_type": "execute_result"
    },
    {
     "data": {
      "text/plain": "<Figure size 640x480 with 2 Axes>",
      "image/png": "[encoded data removed]"
     },
     "metadata": {},
     "output_type": "display_data"
    }
   ]
  },
  {
   "cell_type": "code",
   "source": [
    "ConfusionMatrixDisplay.from_predictions(y_test, y_test_bow_predict)"
   ],
   "metadata": {
    "colab": {
     "base_uri": "https://localhost:8080/",
     "height": 467
    },
    "id": "YoyIVh7s7Qbu",
    "outputId": "5c3b3777-aefb-474f-9d06-3594ea546737",
    "ExecuteTime": {
     "end_time": "2023-10-09T08:23:02.686506Z",
     "start_time": "2023-10-09T08:23:02.483561Z"
    }
   },
   "execution_count": 36,
   "outputs": [
    {
     "data": {
      "text/plain": "<sklearn.metrics._plot.confusion_matrix.ConfusionMatrixDisplay at 0x7fe9d868d9a0>"
     },
     "execution_count": 36,
     "metadata": {},
     "output_type": "execute_result"
    },
    {
     "data": {
      "text/plain": "<Figure size 640x480 with 2 Axes>",
      "image/png": "[encoded data removed]"
     },
     "metadata": {},
     "output_type": "display_data"
    }
   ]
  },
  {
   "cell_type": "code",
   "source": [
    "print(\"Precision:\", precision_score(y_train, y_train_bow_predict, average='micro'))\n",
    "print(\"Recall:\", recall_score(y_train, y_train_bow_predict, average='micro'))\n",
    "print(\"F1:\", f1_score(y_train, y_train_bow_predict, average='micro'))"
   ],
   "metadata": {
    "colab": {
     "base_uri": "https://localhost:8080/"
    },
    "id": "RLlg0KN_7ZiK",
    "outputId": "a4e9847e-b03e-4da6-91f0-14e8f16bc37f",
    "ExecuteTime": {
     "end_time": "2023-10-09T08:23:02.698622Z",
     "start_time": "2023-10-09T08:23:02.686806Z"
    }
   },
   "execution_count": 37,
   "outputs": [
    {
     "name": "stdout",
     "output_type": "stream",
     "text": [
      "Precision: 1.0\n",
      "Recall: 1.0\n",
      "F1: 1.0\n"
     ]
    }
   ]
  },
  {
   "cell_type": "code",
   "source": [
    "print(\"Precision:\", precision_score(y_test, y_test_bow_predict, average='micro' ))\n",
    "print(\"Recall:\", recall_score(y_test, y_test_bow_predict, average='micro'))\n",
    "print(\"F1:\", f1_score(y_test, y_test_bow_predict, average='micro'))"
   ],
   "metadata": {
    "colab": {
     "base_uri": "https://localhost:8080/"
    },
    "id": "kHRi-7cd7kSJ",
    "outputId": "e3212d0a-91f6-44c5-ab07-4a831c484eda",
    "ExecuteTime": {
     "end_time": "2023-10-09T08:23:02.755626Z",
     "start_time": "2023-10-09T08:23:02.695762Z"
    }
   },
   "execution_count": 38,
   "outputs": [
    {
     "name": "stdout",
     "output_type": "stream",
     "text": [
      "Precision: 0.9766666666666667\n",
      "Recall: 0.9766666666666667\n",
      "F1: 0.9766666666666667\n"
     ]
    }
   ]
  },
  {
   "cell_type": "markdown",
   "source": [
    "### 2.2 Entrenando modelo con TF-IDF (Santiago Paeres Gonzalez)"
   ],
   "metadata": {
    "id": "6C9Jt1DD0JfD"
   }
  },
  {
   "cell_type": "code",
   "execution_count": 39,
   "outputs": [],
   "source": [
    "tfidf_model = RandomForestClassifier(random_state=3)"
   ],
   "metadata": {
    "collapsed": false,
    "ExecuteTime": {
     "end_time": "2023-10-09T08:23:02.770456Z",
     "start_time": "2023-10-09T08:23:02.707005Z"
    }
   }
  },
  {
   "cell_type": "code",
   "execution_count": 40,
   "outputs": [
    {
     "data": {
      "text/plain": "RandomForestClassifier(random_state=3)"
     },
     "execution_count": 40,
     "metadata": {},
     "output_type": "execute_result"
    }
   ],
   "source": [
    "tfidf_model.fit(X_tfidf, y_train)"
   ],
   "metadata": {
    "collapsed": false,
    "ExecuteTime": {
     "end_time": "2023-10-09T08:23:03.510632Z",
     "start_time": "2023-10-09T08:23:02.711909Z"
    }
   }
  },
  {
   "cell_type": "code",
   "execution_count": 41,
   "outputs": [
    {
     "data": {
      "text/plain": "<Axes: >"
     },
     "execution_count": 41,
     "metadata": {},
     "output_type": "execute_result"
    },
    {
     "data": {
      "text/plain": "<Figure size 1500x1000 with 1 Axes>",
      "image/png": "[encoded data removed]"
     },
     "metadata": {},
     "output_type": "display_data"
    }
   ],
   "source": [
    "pd.Series(tfidf_model.feature_importances_, index=tfidf.vocabulary_).sort_values().tail(20).plot.barh(figsize=(15, 10))"
   ],
   "metadata": {
    "collapsed": false,
    "ExecuteTime": {
     "end_time": "2023-10-09T08:23:03.881468Z",
     "start_time": "2023-10-09T08:23:03.511784Z"
    }
   }
  },
  {
   "cell_type": "code",
   "execution_count": 42,
   "outputs": [
    {
     "name": "stdout",
     "output_type": "stream",
     "text": [
      "Number of trees: 100\n",
      "Trees depth (mean): 97.28\n"
     ]
    }
   ],
   "source": [
    "tfidf_estimators = tfidf_model.estimators_\n",
    "print(\"Number of trees:\", len(tfidf_estimators))\n",
    "print(\"Trees depth (mean):\", np.mean([tree.get_depth() for tree in tfidf_estimators]))"
   ],
   "metadata": {
    "collapsed": false,
    "ExecuteTime": {
     "end_time": "2023-10-09T08:23:03.882168Z",
     "start_time": "2023-10-09T08:23:03.875756Z"
    }
   }
  },
  {
   "cell_type": "code",
   "execution_count": 43,
   "outputs": [],
   "source": [
    "y_train_tfidf_predict = tfidf_model.predict(X_tfidf)\n",
    "y_test_tfidf_predict = tfidf_model.predict(tfidf.transform(X_test))"
   ],
   "metadata": {
    "collapsed": false,
    "ExecuteTime": {
     "end_time": "2023-10-09T08:23:04.553030Z",
     "start_time": "2023-10-09T08:23:03.881089Z"
    }
   }
  },
  {
   "cell_type": "code",
   "execution_count": 44,
   "outputs": [
    {
     "data": {
      "text/plain": "<sklearn.metrics._plot.confusion_matrix.ConfusionMatrixDisplay at 0x7fe9d833fdc0>"
     },
     "execution_count": 44,
     "metadata": {},
     "output_type": "execute_result"
    },
    {
     "data": {
      "text/plain": "<Figure size 640x480 with 2 Axes>",
      "image/png": "[encoded data removed]"
     },
     "metadata": {},
     "output_type": "display_data"
    }
   ],
   "source": [
    "ConfusionMatrixDisplay.from_predictions(y_train, y_train_tfidf_predict)"
   ],
   "metadata": {
    "collapsed": false,
    "ExecuteTime": {
     "end_time": "2023-10-09T08:23:04.795479Z",
     "start_time": "2023-10-09T08:23:04.554588Z"
    }
   }
  },
  {
   "cell_type": "code",
   "execution_count": 45,
   "outputs": [
    {
     "data": {
      "text/plain": "<sklearn.metrics._plot.confusion_matrix.ConfusionMatrixDisplay at 0x7fe9d903ce20>"
     },
     "execution_count": 45,
     "metadata": {},
     "output_type": "execute_result"
    },
    {
     "data": {
      "text/plain": "<Figure size 640x480 with 2 Axes>",
      "image/png": "[encoded data removed]"
     },
     "metadata": {},
     "output_type": "display_data"
    }
   ],
   "source": [
    "ConfusionMatrixDisplay.from_predictions(y_test, y_test_tfidf_predict)"
   ],
   "metadata": {
    "collapsed": false,
    "ExecuteTime": {
     "end_time": "2023-10-09T08:23:05.030539Z",
     "start_time": "2023-10-09T08:23:04.794374Z"
    }
   }
  },
  {
   "cell_type": "code",
   "execution_count": 46,
   "outputs": [
    {
     "name": "stdout",
     "output_type": "stream",
     "text": [
      "Precision: 1.0\n",
      "Recall: 1.0\n",
      "F1: 1.0\n"
     ]
    }
   ],
   "source": [
    "print(\"Precision:\", precision_score(y_train, y_train_tfidf_predict, average='micro'))\n",
    "print(\"Recall:\", recall_score(y_train, y_train_tfidf_predict, average='micro'))\n",
    "print(\"F1:\", f1_score(y_train, y_train_tfidf_predict, average='micro'))"
   ],
   "metadata": {
    "collapsed": false,
    "ExecuteTime": {
     "end_time": "2023-10-09T08:23:05.046837Z",
     "start_time": "2023-10-09T08:23:05.031414Z"
    }
   }
  },
  {
   "cell_type": "code",
   "execution_count": 47,
   "outputs": [
    {
     "name": "stdout",
     "output_type": "stream",
     "text": [
      "Precision: 0.9644444444444444\n",
      "Recall: 0.9644444444444444\n",
      "F1: 0.9644444444444444\n"
     ]
    }
   ],
   "source": [
    "print(\"Precision:\", precision_score(y_test, y_test_tfidf_predict, average='micro'))\n",
    "print(\"Recall:\", recall_score(y_test, y_test_tfidf_predict, average='micro'))\n",
    "print(\"F1:\", f1_score(y_test, y_test_tfidf_predict, average='micro'))"
   ],
   "metadata": {
    "collapsed": false,
    "ExecuteTime": {
     "end_time": "2023-10-09T08:23:05.113955Z",
     "start_time": "2023-10-09T08:23:05.044039Z"
    }
   }
  },
  {
   "cell_type": "markdown",
   "source": [
    "### Model selection"
   ],
   "metadata": {
    "collapsed": false
   }
  },
  {
   "cell_type": "code",
   "execution_count": 75,
   "outputs": [],
   "source": [
    "pipeline = Pipeline(steps = [\n",
    "    (\"vectorizer\", CountVectorizer(tokenizer=word_tokenize, stop_words=stop_words, lowercase=True)),\n",
    "    (\"classifier\", RandomForestClassifier(random_state=4))\n",
    "])"
   ],
   "metadata": {
    "collapsed": false,
    "ExecuteTime": {
     "end_time": "2023-10-09T09:59:26.669984Z",
     "start_time": "2023-10-09T09:59:26.638456Z"
    }
   }
  },
  {
   "cell_type": "code",
   "execution_count": 76,
   "outputs": [],
   "source": [
    "param_grid = {\n",
    "    \"vectorizer\": [CountVectorizer(tokenizer=word_tokenize, stop_words=stop_words), TfidfVectorizer(tokenizer=word_tokenize, stop_words=stop_words)],\n",
    "    \"vectorizer__lowercase\": [True, False],\n",
    "    \"classifier__n_estimators\": [30, 50, 100],\n",
    "    \"classifier__criterion\": ['gini', 'entropy'],\n",
    "    \"classifier__max_depth\": [25, 50, 75, 100]\n",
    "}"
   ],
   "metadata": {
    "collapsed": false,
    "ExecuteTime": {
     "end_time": "2023-10-09T09:59:27.397953Z",
     "start_time": "2023-10-09T09:59:27.371669Z"
    }
   }
  },
  {
   "cell_type": "code",
   "execution_count": 77,
   "outputs": [],
   "source": [
    "search = RandomizedSearchCV(pipeline, param_grid, n_iter=15, scoring=[\"precision\", \"recall\", \"f1\"], refit=\"f1\", cv=30, return_train_score=True, verbose=1, random_state=5)"
   ],
   "metadata": {
    "collapsed": false,
    "ExecuteTime": {
     "end_time": "2023-10-09T09:59:41.025876Z",
     "start_time": "2023-10-09T09:59:41.000993Z"
    }
   }
  },
  {
   "cell_type": "code",
   "execution_count": 78,
   "outputs": [
    {
     "name": "stdout",
     "output_type": "stream",
     "text": [
      "Fitting 30 folds for each of 15 candidates, totalling 450 fits\n"
     ]
    },
    {
     "data": {
      "text/plain": "RandomizedSearchCV(cv=30,\n                   estimator=Pipeline(steps=[('vectorizer',\n                                              CountVectorizer(stop_words=['de',\n                                                                          'la',\n                                                                          'que',\n                                                                          'el',\n                                                                          'en',\n                                                                          'y',\n                                                                          'a',\n                                                                          'los',\n                                                                          'del',\n                                                                          'se',\n                                                                          'las',\n                                                                          'por',\n                                                                          'un',\n                                                                          'para',\n                                                                          'con',\n                                                                          'no',\n                                                                          'una',\n                                                                          'su',\n                                                                          'al',\n                                                                          'lo',\n                                                                          'como',\n                                                                          'más',\n                                                                          'pero',\n                                                                          'sus',\n                                                                          'le',\n                                                                          'ya',\n                                                                          'o',\n                                                                          'este',\n                                                                          'sí',\n                                                                          'porque', ...],\n                                                              tokenizer=<function word_tokenize at 0x7fe9f35191f0>)),\n                                             ('classifier',\n                                              RandomForestClassi...\n                                                                                   'la',\n                                                                                   'que',\n                                                                                   'el',\n                                                                                   'en',\n                                                                                   'y',\n                                                                                   'a',\n                                                                                   'los',\n                                                                                   'del',\n                                                                                   'se',\n                                                                                   'las',\n                                                                                   'por',\n                                                                                   'un',\n                                                                                   'para',\n                                                                                   'con',\n                                                                                   'no',\n                                                                                   'una',\n                                                                                   'su',\n                                                                                   'al',\n                                                                                   'lo',\n                                                                                   'como',\n                                                                                   'más',\n                                                                                   'pero',\n                                                                                   'sus',\n                                                                                   'le',\n                                                                                   'ya',\n                                                                                   'o',\n                                                                                   'este',\n                                                                                   'sí',\n                                                                                   'porque', ...],\n                                                                       tokenizer=<function word_tokenize at 0x7fe9f35191f0>)],\n                                        'vectorizer__lowercase': [True, False]},\n                   random_state=5, refit='f1', return_train_score=True,\n                   scoring=['precision', 'recall', 'f1'], verbose=1)"
     },
     "execution_count": 78,
     "metadata": {},
     "output_type": "execute_result"
    }
   ],
   "source": [
    "search.fit(X_train, y_train)"
   ],
   "metadata": {
    "collapsed": false,
    "ExecuteTime": {
     "end_time": "2023-10-09T10:34:15.392429Z",
     "start_time": "2023-10-09T09:59:41.768013Z"
    }
   }
  },
  {
   "cell_type": "code",
   "execution_count": 81,
   "outputs": [
    {
     "data": {
      "text/plain": "{'vectorizer__lowercase': True,\n 'vectorizer': TfidfVectorizer(stop_words=['de', 'la', 'que', 'el', 'en', 'y', 'a', 'los',\n                             'del', 'se', 'las', 'por', 'un', 'para', 'con',\n                             'no', 'una', 'su', 'al', 'lo', 'como', 'más',\n                             'pero', 'sus', 'le', 'ya', 'o', 'este', 'sí',\n                             'porque', ...],\n                 tokenizer=<function word_tokenize at 0x7fe9f35191f0>),\n 'classifier__n_estimators': 50,\n 'classifier__max_depth': 100,\n 'classifier__criterion': 'gini'}"
     },
     "execution_count": 81,
     "metadata": {},
     "output_type": "execute_result"
    }
   ],
   "source": [
    "search.best_params_"
   ],
   "metadata": {
    "collapsed": false,
    "ExecuteTime": {
     "end_time": "2023-10-09T10:38:01.108009Z",
     "start_time": "2023-10-09T10:38:01.084805Z"
    }
   }
  },
  {
   "cell_type": "code",
   "execution_count": 74,
   "outputs": [
    {
     "data": {
      "text/plain": "nan"
     },
     "execution_count": 74,
     "metadata": {},
     "output_type": "execute_result"
    }
   ],
   "source": [
    "search.best_score_"
   ],
   "metadata": {
    "collapsed": false,
    "ExecuteTime": {
     "end_time": "2023-10-09T09:59:11.043345Z",
     "start_time": "2023-10-09T09:59:11.021918Z"
    }
   }
  },
  {
   "cell_type": "code",
   "execution_count": 82,
   "outputs": [],
   "source": [
    "y_train_search_predict = search.best_estimator_.predict(X_train)\n",
    "y_test_search_predict = search.best_estimator_.predict(X_test)"
   ],
   "metadata": {
    "collapsed": false,
    "ExecuteTime": {
     "end_time": "2023-10-09T10:39:28.435478Z",
     "start_time": "2023-10-09T10:39:25.850800Z"
    }
   }
  },
  {
   "cell_type": "code",
   "execution_count": 83,
   "outputs": [
    {
     "name": "stdout",
     "output_type": "stream",
     "text": [
      "Precision: 1.0\n",
      "Recall: 1.0\n",
      "F1: 1.0\n"
     ]
    }
   ],
   "source": [
    "print(\"Precision:\", precision_score(y_train, y_train_search_predict, average='micro'))\n",
    "print(\"Recall:\", recall_score(y_train, y_train_search_predict, average='micro'))\n",
    "print(\"F1:\", f1_score(y_train, y_train_search_predict, average='micro'))"
   ],
   "metadata": {
    "collapsed": false,
    "ExecuteTime": {
     "end_time": "2023-10-09T10:39:28.436778Z",
     "start_time": "2023-10-09T10:39:28.425633Z"
    }
   }
  },
  {
   "cell_type": "code",
   "execution_count": 84,
   "outputs": [
    {
     "name": "stdout",
     "output_type": "stream",
     "text": [
      "Precision: 0.9644444444444444\n",
      "Recall: 0.9644444444444444\n",
      "F1: 0.9644444444444444\n"
     ]
    }
   ],
   "source": [
    "print(\"Precision:\", precision_score(y_test, y_test_search_predict, average='micro'))\n",
    "print(\"Recall:\", recall_score(y_test, y_test_search_predict, average='micro'))\n",
    "print(\"F1:\", f1_score(y_test, y_test_search_predict, average='micro'))"
   ],
   "metadata": {
    "collapsed": false,
    "ExecuteTime": {
     "end_time": "2023-10-09T10:39:28.456031Z",
     "start_time": "2023-10-09T10:39:28.436649Z"
    }
   }
  },
  {
   "cell_type": "markdown",
   "source": [
    "### 2.3 Algoritmo 3"
   ],
   "metadata": {
    "id": "Fjw9wN28RyBs"
   }
  },
  {
   "cell_type": "markdown",
   "source": [
    "## 3. Resultados"
   ],
   "metadata": {
    "id": "Ta6GsY_7zPFX"
   }
  }
 ]
}
