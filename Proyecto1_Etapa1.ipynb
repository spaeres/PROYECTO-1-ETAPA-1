{
 "cells": [
  {
   "cell_type": "markdown",
   "metadata": {
    "id": "ObqoiJVTyPar"
   },
   "source": [
    "# PROYECTO1-ETAPA1\n",
    "\n",
    "**INTEGRANTES**\n",
    "- Juan Sebastian Sanchez Delgado - 202013577\n",
    "- Miguel Angel Cardenas - 202010998\n",
    "- Santiago Paeres Gonzalez - 201425176"
   ]
  },
  {
   "cell_type": "markdown",
   "metadata": {
    "id": "8b5-Rgp1ynwk"
   },
   "source": [
    "## 1. Entendimiento y preparacion de los datos\n"
   ]
  },
  {
   "cell_type": "code",
   "execution_count": 1,
   "metadata": {
    "ExecuteTime": {
     "end_time": "2023-10-09T08:22:56.365978Z",
     "start_time": "2023-10-09T08:22:45.242428Z"
    },
    "id": "elqXMaxmyCm1"
   },
   "outputs": [],
   "source": [
    "import numpy as np\n",
    "import pandas as pd\n",
    "\n",
    "import nltk\n",
    "from nltk.corpus import stopwords\n",
    "from nltk.tokenize import word_tokenize\n",
    "\n",
    "from sklearn.ensemble import RandomForestClassifier, GradientBoostingClassifier\n",
    "from sklearn.feature_extraction.text import CountVectorizer, TfidfVectorizer\n",
    "from sklearn.metrics import (\n",
    "    ConfusionMatrixDisplay, RocCurveDisplay,\n",
    "    roc_auc_score, precision_score, recall_score, f1_score\n",
    ")\n",
    "from sklearn.model_selection import train_test_split, RandomizedSearchCV\n",
    "from sklearn.pipeline import Pipeline"
   ]
  },
  {
   "cell_type": "code",
   "execution_count": 2,
   "metadata": {
    "ExecuteTime": {
     "end_time": "2023-10-09T08:22:56.395012Z",
     "start_time": "2023-10-09T08:22:56.369919Z"
    },
    "id": "qp6v4bT80h5P"
   },
   "outputs": [],
   "source": [
    "import warnings\n",
    "warnings.filterwarnings(\"ignore\")"
   ]
  },
  {
   "cell_type": "code",
   "execution_count": 4,
   "metadata": {
    "ExecuteTime": {
     "end_time": "2023-10-09T08:22:56.606524Z",
     "start_time": "2023-10-09T08:22:56.379516Z"
    },
    "colab": {
     "base_uri": "https://localhost:8080/"
    },
    "id": "4HXd-yb50nt3",
    "outputId": "3270ed29-dcbf-43e4-91d3-36f2cf01d0cd"
   },
   "outputs": [
    {
     "name": "stderr",
     "output_type": "stream",
     "text": [
      "[nltk_data] Downloading package punkt to\n",
      "[nltk_data]     C:\\Users\\mcard\\AppData\\Roaming\\nltk_data...\n",
      "[nltk_data]   Package punkt is already up-to-date!\n",
      "[nltk_data] Downloading package stopwords to\n",
      "[nltk_data]     C:\\Users\\mcard\\AppData\\Roaming\\nltk_data...\n",
      "[nltk_data]   Package stopwords is already up-to-date!\n"
     ]
    }
   ],
   "source": [
    "# Descargando stopwords\n",
    "nltk.download(\"punkt\")\n",
    "nltk.download(\"stopwords\")\n",
    "stop_words = stopwords.words(\"spanish\")"
   ]
  },
  {
   "cell_type": "code",
   "execution_count": 5,
   "metadata": {
    "ExecuteTime": {
     "end_time": "2023-10-09T08:22:56.705929Z",
     "start_time": "2023-10-09T08:22:56.607958Z"
    },
    "id": "FWr4o45k1PDc"
   },
   "outputs": [],
   "source": [
    "df_ods = pd.read_csv(\"./cat_345.csv\", sep=';', encoding = 'utf8')"
   ]
  },
  {
   "cell_type": "code",
   "execution_count": 6,
   "metadata": {
    "ExecuteTime": {
     "end_time": "2023-10-09T08:22:56.723739Z",
     "start_time": "2023-10-09T08:22:56.709816Z"
    },
    "colab": {
     "base_uri": "https://localhost:8080/"
    },
    "id": "L3fXJzsI5pJ_",
    "outputId": "6365d7e6-52e3-45e3-b1c3-8d048c5822fd"
   },
   "outputs": [
    {
     "data": {
      "text/plain": [
       "(3000, 2)"
      ]
     },
     "execution_count": 6,
     "metadata": {},
     "output_type": "execute_result"
    }
   ],
   "source": [
    "df_ods.shape"
   ]
  },
  {
   "cell_type": "code",
   "execution_count": 7,
   "metadata": {
    "ExecuteTime": {
     "end_time": "2023-10-09T08:22:56.734912Z",
     "start_time": "2023-10-09T08:22:56.719357Z"
    },
    "colab": {
     "base_uri": "https://localhost:8080/"
    },
    "id": "WqysF8ERFDrh",
    "outputId": "aa3e7052-85f6-49a9-fa49-aaf6be37c918"
   },
   "outputs": [
    {
     "data": {
      "text/plain": [
       "Textos_espanol    object\n",
       "sdg                int64\n",
       "dtype: object"
      ]
     },
     "execution_count": 7,
     "metadata": {},
     "output_type": "execute_result"
    }
   ],
   "source": [
    "df_ods.dtypes"
   ]
  },
  {
   "cell_type": "code",
   "execution_count": 8,
   "metadata": {
    "ExecuteTime": {
     "end_time": "2023-10-09T08:22:56.800121Z",
     "start_time": "2023-10-09T08:22:56.727970Z"
    },
    "colab": {
     "base_uri": "https://localhost:8080/",
     "height": 206
    },
    "id": "u1r4W_z96VdK",
    "outputId": "6b83e625-233b-4144-e4ad-3329340a1530"
   },
   "outputs": [
    {
     "data": {
      "text/html": [
       "<div>\n",
       "<style scoped>\n",
       "    .dataframe tbody tr th:only-of-type {\n",
       "        vertical-align: middle;\n",
       "    }\n",
       "\n",
       "    .dataframe tbody tr th {\n",
       "        vertical-align: top;\n",
       "    }\n",
       "\n",
       "    .dataframe thead th {\n",
       "        text-align: right;\n",
       "    }\n",
       "</style>\n",
       "<table border=\"1\" class=\"dataframe\">\n",
       "  <thead>\n",
       "    <tr style=\"text-align: right;\">\n",
       "      <th></th>\n",
       "      <th>Textos_espanol</th>\n",
       "      <th>sdg</th>\n",
       "    </tr>\n",
       "  </thead>\n",
       "  <tbody>\n",
       "    <tr>\n",
       "      <th>769</th>\n",
       "      <td>Como se muestra, la población islandesa ha exp...</td>\n",
       "      <td>3</td>\n",
       "    </tr>\n",
       "    <tr>\n",
       "      <th>2073</th>\n",
       "      <td>Si bien muchas de ellas prevÃ©n la igualdad de...</td>\n",
       "      <td>5</td>\n",
       "    </tr>\n",
       "    <tr>\n",
       "      <th>97</th>\n",
       "      <td>Anteriormente denominado Instituto de Salud Pú...</td>\n",
       "      <td>3</td>\n",
       "    </tr>\n",
       "    <tr>\n",
       "      <th>925</th>\n",
       "      <td>Ciencias Sociales y Medicina, 68(8), 1396-1406...</td>\n",
       "      <td>3</td>\n",
       "    </tr>\n",
       "    <tr>\n",
       "      <th>890</th>\n",
       "      <td>Sin embargo, la Colaboración Nacional para la ...</td>\n",
       "      <td>3</td>\n",
       "    </tr>\n",
       "  </tbody>\n",
       "</table>\n",
       "</div>"
      ],
      "text/plain": [
       "                                         Textos_espanol  sdg\n",
       "769   Como se muestra, la población islandesa ha exp...    3\n",
       "2073  Si bien muchas de ellas prevÃ©n la igualdad de...    5\n",
       "97    Anteriormente denominado Instituto de Salud Pú...    3\n",
       "925   Ciencias Sociales y Medicina, 68(8), 1396-1406...    3\n",
       "890   Sin embargo, la Colaboración Nacional para la ...    3"
      ]
     },
     "execution_count": 8,
     "metadata": {},
     "output_type": "execute_result"
    }
   ],
   "source": [
    "df_ods.sample(5)"
   ]
  },
  {
   "cell_type": "markdown",
   "metadata": {
    "id": "Ro4BqScgzX7S"
   },
   "source": [
    "### 1.1 Completitud"
   ]
  },
  {
   "cell_type": "code",
   "execution_count": 9,
   "metadata": {
    "ExecuteTime": {
     "end_time": "2023-10-09T08:22:56.801143Z",
     "start_time": "2023-10-09T08:22:56.738703Z"
    },
    "colab": {
     "base_uri": "https://localhost:8080/"
    },
    "id": "sY72_CZF7k2S",
    "outputId": "2f700c2d-a860-4464-f269-3c964616a7c8"
   },
   "outputs": [
    {
     "data": {
      "text/plain": [
       "Textos_espanol    0.0\n",
       "sdg               0.0\n",
       "dtype: float64"
      ]
     },
     "execution_count": 9,
     "metadata": {},
     "output_type": "execute_result"
    }
   ],
   "source": [
    "# Se muestra la proporcion de registros con valores nulos con respecto a la totalidad de registros\n",
    "df_ods.isnull().sum() / df_ods.shape[0]"
   ]
  },
  {
   "cell_type": "code",
   "execution_count": 10,
   "metadata": {
    "ExecuteTime": {
     "end_time": "2023-10-09T08:22:56.819463Z",
     "start_time": "2023-10-09T08:22:56.747714Z"
    },
    "colab": {
     "base_uri": "https://localhost:8080/"
    },
    "id": "nlREVvgq8SxJ",
    "outputId": "10c1b98f-0cb7-4df0-f499-4619e0308e02"
   },
   "outputs": [
    {
     "data": {
      "text/plain": [
       "Textos_espanol    0.0\n",
       "sdg               0.0\n",
       "dtype: float64"
      ]
     },
     "execution_count": 10,
     "metadata": {},
     "output_type": "execute_result"
    }
   ],
   "source": [
    "# Cálculo de porcentaje de valores nulos por columna\n",
    "((df_ods.isnull().sum()/df_ods.shape[0])).sort_values(ascending=False)"
   ]
  },
  {
   "cell_type": "markdown",
   "metadata": {
    "id": "TSWDC9ZezfEi"
   },
   "source": [
    "### 1.2 Unicidad"
   ]
  },
  {
   "cell_type": "code",
   "execution_count": 11,
   "metadata": {
    "ExecuteTime": {
     "end_time": "2023-10-09T08:22:56.820466Z",
     "start_time": "2023-10-09T08:22:56.762949Z"
    },
    "colab": {
     "base_uri": "https://localhost:8080/"
    },
    "id": "gVBtywpK897B",
    "outputId": "3bd88b43-3438-4e2d-e0da-a7ec124b0d91"
   },
   "outputs": [
    {
     "data": {
      "text/plain": [
       "0"
      ]
     },
     "execution_count": 11,
     "metadata": {},
     "output_type": "execute_result"
    }
   ],
   "source": [
    "# Se revisa el numero de filas duplicadas\n",
    "df_ods.duplicated(keep = False).sum()"
   ]
  },
  {
   "cell_type": "markdown",
   "metadata": {
    "id": "8eNt1aNIzkFp"
   },
   "source": [
    "### 1.3 Consistencia"
   ]
  },
  {
   "cell_type": "code",
   "execution_count": 12,
   "metadata": {
    "ExecuteTime": {
     "end_time": "2023-10-09T08:22:56.820728Z",
     "start_time": "2023-10-09T08:22:56.776373Z"
    },
    "id": "ZeCQhcqf-oz8"
   },
   "outputs": [],
   "source": [
    "df_ods[\"Textos_espanol\"] = df_ods[\"Textos_espanol\"].astype(str)"
   ]
  },
  {
   "cell_type": "markdown",
   "metadata": {
    "id": "QyvxHZwJzncw"
   },
   "source": [
    "### 1.4 Validez"
   ]
  },
  {
   "cell_type": "code",
   "execution_count": 13,
   "metadata": {
    "ExecuteTime": {
     "end_time": "2023-10-09T08:22:56.842910Z",
     "start_time": "2023-10-09T08:22:56.785599Z"
    },
    "colab": {
     "base_uri": "https://localhost:8080/"
    },
    "id": "xlnqsB6d9h3H",
    "outputId": "0828ee36-2f7b-41f1-fa50-fdd2fc6e63b9"
   },
   "outputs": [
    {
     "data": {
      "text/plain": [
       "sdg\n",
       "3    1000\n",
       "4    1000\n",
       "5    1000\n",
       "Name: count, dtype: int64"
      ]
     },
     "execution_count": 13,
     "metadata": {},
     "output_type": "execute_result"
    }
   ],
   "source": [
    "df_ods['sdg'].value_counts()"
   ]
  },
  {
   "cell_type": "code",
   "execution_count": 14,
   "metadata": {
    "ExecuteTime": {
     "end_time": "2023-10-09T08:22:56.937087Z",
     "start_time": "2023-10-09T08:22:56.790699Z"
    },
    "colab": {
     "base_uri": "https://localhost:8080/"
    },
    "id": "q5EIKs2v_IIn",
    "outputId": "ef0feb5f-0473-43af-fe80-2413ef6598c7"
   },
   "outputs": [
    {
     "data": {
      "text/plain": [
       "Textos_espanol\n",
       "Por ejemplo, el nÃºmero de consultas externas de especialistas es de 319 por cada mil derechohabientes en el SP, en comparaciÃ³n con 338 y 620 por cada mil derechohabientes en el IMSS y el ISSSTE, respectivamente. Si bien algunas de estas diferencias pueden reflejar una necesidad desigual (como la poblaciÃ³n ligeramente mayor del ISSSTE), otras no pueden justificarse de esta manera. El nÃºmero de recetas que no pudieron ser surtidas en su totalidad por un farmacÃ©utico debido a la falta de existencias es de 33% dentro del SP en comparaciÃ³n con 14% dentro del IMSS segÃºn los datos de la encuesta (aunque las propias cifras de los institutos de la SS sugieren tasas mÃ¡s altas de recetas surtidas). Ambas cifras se encuentran entre las mÃ¡s altas de la OCDE. El gasto de bolsillo no se ha reducido significativamente en la última década, a pesar de los esfuerzos para lograr la cobertura sanitaria universal a través de la reforma del SP.                                                                                                                                                                                                                                                                                                                                                                                                                                        1\n",
       "Ponencia presentada en el Taller FAO-FIDA-OIT sobre \"Lagunas, tendencias e investigación actual en las dimensiones de género del empleo agrícola y rural: Differentiated Pathways out of Poverty'Roma, 31 de marzo - 2 de abril de 2009. D. Sahn (1997), \"Gender and Education Impacts on Employment and Earnings inWest Africa: Evidence from Guinea\", Economic Development and Cultural Change, pp. Evidence from Cote-d'Ivoire\", Oxford Bulletin of Economics and Statistics, pp.                                                                                                                                                                                                                                                                                                                                                                                                                                                                                                                                                                                                                                                                                                                                                                                                                                                                                                                                    1\n",
       "De hecho, la educación, medida por años de escolaridad, se correlaciona positivamente con la intensidad de capital en la manufactura (Qu y Cai, 2011). Dado que la mayor parte de la fuerza laboral en China está compuesta por graduados de secundaria y preparatoria, existe un amplio margen para invertir en educación y capacitación para impulsar la productividad laboral. La productividad laboral sería un 23% más alta si los graduados de la escuela secundaria básica tuvieran educación secundaria superior y se duplicaría si los graduados de la escuela secundaria superior tuvieran formación universitaria. Sin embargo, el logro de la educación superior por sí solo puede no ser suficiente. Para adaptarse a la estructura cambiante de la industria, se necesita un amplio conjunto de habilidades y amplios conocimientos generales, que faciliten la adquisición de nuevas habilidades.                                                                                                                                                                                                                                                                                                                                                                                                                                                                                                        1\n",
       "Esto se estableció en la Declaración de los Derechos Humanos de las Naciones Unidas de 1948 (artículo 26) y se repitió en la Convención de las Naciones Unidas sobre los Derechos del Niño de 1989 (artículo 28). El informe de la Comisión de Respeto y Comprensión de la Commonwealth, presidida por Amartya Sen, ha llamado más la atención sobre este asunto (Sen, 2007). La educación básica también es ampliamente aceptada en la literatura internacional y el discurso político como esencial para el desarrollo y la reducción de la pobreza (ver, por ejemplo, Lee, 2004, Cohen et al.,                                                                                                                                                                                                                                                                                                                                                                                                                                                                                                                                                                                                                                                                                                                                                                                                                       1\n",
       "La prueba de habilidades básicas en línea para TIC cubre las habilidades básicas que los docentes necesitan para cumplir con su rol profesional más amplio en las escuelas en lugar del conocimiento de la materia requerido para enseñar. La prueba requiere que demuestren la capacidad de realizar cambios en las diapositivas en el software de presentación usando un navegador web, usar el correo electrónico y varias funciones dentro del correo electrónico, usar un editor de texto y correo electrónico, actualizar una hoja de cálculo y descargar recursos de Internet y regístrese para recibir un boletín. Todos los docentes en formación deben aprobar esta prueba en línea de competencia en TIC antes de que se les pueda otorgar el estatus de docente calificado. El “Plan de estudios nacional de formación inicial de profesores en el uso de las TIC en la enseñanza de asignaturas”, que se introdujo en los institutos de formación de profesores en 1998 en Inglaterra, constaba de más de cien declaraciones de competencia en TIC y se extendía a 17 páginas impresas, pero se encontró que era demasiado burocrático y difícil de evaluar en la práctica, de ahí el paso a una formulación más sucinta de las competencias en TIC que se requiere que posean los docentes en formación (informe de país24 dedicado a Inglaterra, última actualización y revisión en octubre de 2007).    1\n",
       "                                                                                                                                                                                                                                                                                                                                                                                                                                                                                                                                                                                                                                                                                                                                                                                                                                                                                                                                                                                                                                                                                                                                                                                                                                                                                                                                                                                                                       ..\n",
       "La segunda sección se centra en las variaciones dentro de los países y a lo largo del tiempo, y explora cómo los cambios en la proporción de alumnos por docente, el tamaño de la clase, la remuneración de los docentes y la autonomía escolar para seleccionar docentes se relacionan con las tendencias de desempeño en todos los países y economías participantes de PISA. La última sección se centra en las variaciones dentro de los países y explora cómo las calificaciones y la experiencia de los docentes, la rotación de docentes y el apoyo al aprendizaje profesional de los docentes se relacionan con los resultados a nivel escolar. El uso de dichos datos por parte de la OCDE es sin perjuicio del estado de los Altos del Golán, Jerusalén Este y los asentamientos israelíes en Cisjordania según los términos del derecho internacional.                                                                                                                                                                                                                                                                                                                                                                                                                                                                                                                                                        1\n",
       "Otros proveedores incluyen universidades, que brindan cursos a maestros que buscan avanzar en su carrera, organismos del gobierno central como el Instituto de Ciencias de la Educación (IES) y organizaciones no gubernamentales (ONG). También es clave para seguir profesionalizando la función docente y potenciar el prestigio y el atractivo de la profesión. En la encuesta TALIS 2013, solo el 35 % de los docentes de Rumanía afirmaron sentir que su profesión es valorada por la sociedad (OCDE, 2014c).                                                                                                                                                                                                                                                                                                                                                                                                                                                                                                                                                                                                                                                                                                                                                                                                                                                                                                     1\n",
       "Los modelos de crecimiento miden la mejora observando \"cómo\" un centro ha mejorado el rendimiento de los alumnos independientemente del nivel de logro (Figlio y Loeb, 2011). Dentro de cada modelo, los profesores están motivados para centrar su atención en diferentes grupos de alumnos. En los modelos de estatus, los estudiantes de bajo rendimiento reciben mayor atención para llevarlos a niveles de competencia, en los modelos de crecimiento, los profesores son recompensados por mejorar los resultados de los estudiantes para cualquier nivel de estudiante. Por lo tanto, en los sistemas de modelos de crecimiento es menos probable que los profesores excluyan a los alumnos de bajo rendimiento, ya que se mide cualquier mejora en los resultados.                                                                                                                                                                                                                                                                                                                                                                                                                                                                                                                                                                                                                                              1\n",
       "Se han adoptado medidas para garantizar que todos los alumnos finalicen la escuela secundaria inferior con las habilidades básicas adecuadas, brindar una educación inclusiva y significativa para todos y alentar a los gobiernos y escuelas locales a establecer sus propios objetivos en consonancia con los objetivos nacionales. Dentro de este marco, el Ministerio de Educación de Noruega está buscando enfoques más específicos para fortalecer la calidad de la educación secundaria inferior. Estos se centran en la necesidad de adaptar la enseñanza y el aprendizaje a la motivación de los estudiantes en edades específicas de la adolescencia, de garantizar entornos escolares adecuados que satisfagan sus necesidades y de apoyar transiciones efectivas de un nivel al siguiente.                                                                                                                                                                                                                                                                                                                                                                                                                                                                                                                                                                                                                  1\n",
       "Esto ha sido reconocido por los comitÃ©s en la atenciÃ³n prestada a la salud reproductiva de la mujer, el aborto, la anticoncepciÃ³n, el matrimonio precoz y el embarazo en la adolescencia. AsÃ, se reconoce que el control sobre su propia reproducciÃ³n es fundamental para que las mujeres puedan participar en igualdad de condiciones en la sociedad. AsÃ, las Directrices para la presentaciÃ³n de informes sobre el artÃculo 6, el derecho a la vida, exigen a los Estados que proporcionen informaciÃ³n sobre las tasas de natalidad y las muertes de mujeres relacionadas con el embarazo y el parto, asÃ como sobre las medidas adoptadas para ayudar a las mujeres a evitar embarazos no deseados y garantizar que no tengan que someterse a abortos clandestinos que pongan en peligro su vida (PIDCP 2012).                                                                                                                                                                                                                                                                                                                                                                                                                                                                                                                                                                                               1\n",
       "Name: count, Length: 3000, dtype: int64"
      ]
     },
     "execution_count": 14,
     "metadata": {},
     "output_type": "execute_result"
    }
   ],
   "source": [
    "df_ods['Textos_espanol'].value_counts()"
   ]
  },
  {
   "cell_type": "code",
   "execution_count": 15,
   "metadata": {
    "ExecuteTime": {
     "end_time": "2023-10-09T08:22:56.980527Z",
     "start_time": "2023-10-09T08:22:56.818330Z"
    },
    "colab": {
     "base_uri": "https://localhost:8080/",
     "height": 677
    },
    "id": "cD-hFooO9kPZ",
    "outputId": "cc650019-9702-451f-e66c-55539f491663"
   },
   "outputs": [
    {
     "data": {
      "text/html": [
       "<div>\n",
       "<style scoped>\n",
       "    .dataframe tbody tr th:only-of-type {\n",
       "        vertical-align: middle;\n",
       "    }\n",
       "\n",
       "    .dataframe tbody tr th {\n",
       "        vertical-align: top;\n",
       "    }\n",
       "\n",
       "    .dataframe thead th {\n",
       "        text-align: right;\n",
       "    }\n",
       "</style>\n",
       "<table border=\"1\" class=\"dataframe\">\n",
       "  <thead>\n",
       "    <tr style=\"text-align: right;\">\n",
       "      <th></th>\n",
       "      <th>Textos_espanol</th>\n",
       "      <th>sdg</th>\n",
       "    </tr>\n",
       "  </thead>\n",
       "  <tbody>\n",
       "    <tr>\n",
       "      <th>1667</th>\n",
       "      <td>El objetivo es colaborar más estrechamente con...</td>\n",
       "      <td>4</td>\n",
       "    </tr>\n",
       "    <tr>\n",
       "      <th>920</th>\n",
       "      <td>Por lo tanto, la proporción de pacientes que v...</td>\n",
       "      <td>3</td>\n",
       "    </tr>\n",
       "    <tr>\n",
       "      <th>1339</th>\n",
       "      <td>Para garantizar la calidad de la EAPI, el pers...</td>\n",
       "      <td>4</td>\n",
       "    </tr>\n",
       "    <tr>\n",
       "      <th>2090</th>\n",
       "      <td>Garantizar la libertad de las mujeres para par...</td>\n",
       "      <td>5</td>\n",
       "    </tr>\n",
       "    <tr>\n",
       "      <th>577</th>\n",
       "      <td>También es motivo de preocupación la suspensió...</td>\n",
       "      <td>3</td>\n",
       "    </tr>\n",
       "    <tr>\n",
       "      <th>35</th>\n",
       "      <td>También consideramos cómo se puede desarrollar...</td>\n",
       "      <td>3</td>\n",
       "    </tr>\n",
       "    <tr>\n",
       "      <th>2675</th>\n",
       "      <td>Sin embargo, las diferencias de ingresos no so...</td>\n",
       "      <td>5</td>\n",
       "    </tr>\n",
       "    <tr>\n",
       "      <th>444</th>\n",
       "      <td>La promoción y el suministro y distribución fi...</td>\n",
       "      <td>3</td>\n",
       "    </tr>\n",
       "    <tr>\n",
       "      <th>586</th>\n",
       "      <td>Nota: Porcentaje estimado de adultos (de 15 a ...</td>\n",
       "      <td>3</td>\n",
       "    </tr>\n",
       "    <tr>\n",
       "      <th>486</th>\n",
       "      <td>Los intentos de planificación entre gobiernos ...</td>\n",
       "      <td>3</td>\n",
       "    </tr>\n",
       "    <tr>\n",
       "      <th>2206</th>\n",
       "      <td>Para el 2016, un total de 626 000 beneficiario...</td>\n",
       "      <td>5</td>\n",
       "    </tr>\n",
       "    <tr>\n",
       "      <th>2774</th>\n",
       "      <td>También se necesitan mayores esfuerzos para qu...</td>\n",
       "      <td>5</td>\n",
       "    </tr>\n",
       "    <tr>\n",
       "      <th>441</th>\n",
       "      <td>Las tasas de mortalidad prematura (grupo de ed...</td>\n",
       "      <td>3</td>\n",
       "    </tr>\n",
       "    <tr>\n",
       "      <th>199</th>\n",
       "      <td>Para cubrirlos, el 87% de la población tiene u...</td>\n",
       "      <td>3</td>\n",
       "    </tr>\n",
       "    <tr>\n",
       "      <th>2652</th>\n",
       "      <td>Los Estados, en particular los países de orige...</td>\n",
       "      <td>5</td>\n",
       "    </tr>\n",
       "    <tr>\n",
       "      <th>1412</th>\n",
       "      <td>Los ministros de Educación y Asuntos Culturale...</td>\n",
       "      <td>4</td>\n",
       "    </tr>\n",
       "    <tr>\n",
       "      <th>2302</th>\n",
       "      <td>La consecuencia es que, más que en otros paíse...</td>\n",
       "      <td>5</td>\n",
       "    </tr>\n",
       "    <tr>\n",
       "      <th>815</th>\n",
       "      <td>Estas son estructuras nuevas y será esencial g...</td>\n",
       "      <td>3</td>\n",
       "    </tr>\n",
       "    <tr>\n",
       "      <th>1100</th>\n",
       "      <td>Esto implica cambios de contenidos, enfoques, ...</td>\n",
       "      <td>4</td>\n",
       "    </tr>\n",
       "    <tr>\n",
       "      <th>2568</th>\n",
       "      <td>Además, el progreso ha sido muy desigual entre...</td>\n",
       "      <td>5</td>\n",
       "    </tr>\n",
       "  </tbody>\n",
       "</table>\n",
       "</div>"
      ],
      "text/plain": [
       "                                         Textos_espanol  sdg\n",
       "1667  El objetivo es colaborar más estrechamente con...    4\n",
       "920   Por lo tanto, la proporción de pacientes que v...    3\n",
       "1339  Para garantizar la calidad de la EAPI, el pers...    4\n",
       "2090  Garantizar la libertad de las mujeres para par...    5\n",
       "577   También es motivo de preocupación la suspensió...    3\n",
       "35    También consideramos cómo se puede desarrollar...    3\n",
       "2675  Sin embargo, las diferencias de ingresos no so...    5\n",
       "444   La promoción y el suministro y distribución fi...    3\n",
       "586   Nota: Porcentaje estimado de adultos (de 15 a ...    3\n",
       "486   Los intentos de planificación entre gobiernos ...    3\n",
       "2206  Para el 2016, un total de 626 000 beneficiario...    5\n",
       "2774  También se necesitan mayores esfuerzos para qu...    5\n",
       "441   Las tasas de mortalidad prematura (grupo de ed...    3\n",
       "199   Para cubrirlos, el 87% de la población tiene u...    3\n",
       "2652  Los Estados, en particular los países de orige...    5\n",
       "1412  Los ministros de Educación y Asuntos Culturale...    4\n",
       "2302  La consecuencia es que, más que en otros paíse...    5\n",
       "815   Estas son estructuras nuevas y será esencial g...    3\n",
       "1100  Esto implica cambios de contenidos, enfoques, ...    4\n",
       "2568  Además, el progreso ha sido muy desigual entre...    5"
      ]
     },
     "execution_count": 15,
     "metadata": {},
     "output_type": "execute_result"
    }
   ],
   "source": [
    "df_ods.sample(20)"
   ]
  },
  {
   "cell_type": "code",
   "execution_count": 16,
   "metadata": {
    "ExecuteTime": {
     "end_time": "2023-10-09T08:22:57.000100Z",
     "start_time": "2023-10-09T08:22:56.839739Z"
    },
    "colab": {
     "base_uri": "https://localhost:8080/",
     "height": 424
    },
    "id": "3v6Zn69E_zED",
    "outputId": "fe3de3e1-1ac6-4430-f7e4-39a71007bb7d"
   },
   "outputs": [
    {
     "data": {
      "text/html": [
       "<div>\n",
       "<style scoped>\n",
       "    .dataframe tbody tr th:only-of-type {\n",
       "        vertical-align: middle;\n",
       "    }\n",
       "\n",
       "    .dataframe tbody tr th {\n",
       "        vertical-align: top;\n",
       "    }\n",
       "\n",
       "    .dataframe thead th {\n",
       "        text-align: right;\n",
       "    }\n",
       "</style>\n",
       "<table border=\"1\" class=\"dataframe\">\n",
       "  <thead>\n",
       "    <tr style=\"text-align: right;\">\n",
       "      <th></th>\n",
       "      <th>Textos_espanol</th>\n",
       "      <th>sdg</th>\n",
       "    </tr>\n",
       "  </thead>\n",
       "  <tbody>\n",
       "    <tr>\n",
       "      <th>0</th>\n",
       "      <td>Por ejemplo, el nÃºmero de consultas externas ...</td>\n",
       "      <td>3</td>\n",
       "    </tr>\n",
       "    <tr>\n",
       "      <th>10</th>\n",
       "      <td>Dos encuestados seÃ±alaron que no existe un or...</td>\n",
       "      <td>3</td>\n",
       "    </tr>\n",
       "    <tr>\n",
       "      <th>26</th>\n",
       "      <td>También promueve mejoras en la prevención, el ...</td>\n",
       "      <td>3</td>\n",
       "    </tr>\n",
       "    <tr>\n",
       "      <th>30</th>\n",
       "      <td>La falta de programas completos de acreditació...</td>\n",
       "      <td>3</td>\n",
       "    </tr>\n",
       "    <tr>\n",
       "      <th>46</th>\n",
       "      <td>Dado el aumento de enfermedades crónicas como ...</td>\n",
       "      <td>3</td>\n",
       "    </tr>\n",
       "    <tr>\n",
       "      <th>...</th>\n",
       "      <td>...</td>\n",
       "      <td>...</td>\n",
       "    </tr>\n",
       "    <tr>\n",
       "      <th>2984</th>\n",
       "      <td>Las actividades empresariales siguen viéndose ...</td>\n",
       "      <td>5</td>\n",
       "    </tr>\n",
       "    <tr>\n",
       "      <th>2990</th>\n",
       "      <td>La Agenda Nacional de Jordania 2006-15 estable...</td>\n",
       "      <td>5</td>\n",
       "    </tr>\n",
       "    <tr>\n",
       "      <th>2991</th>\n",
       "      <td>En la mayoría de los países de la CAO, los fun...</td>\n",
       "      <td>5</td>\n",
       "    </tr>\n",
       "    <tr>\n",
       "      <th>2996</th>\n",
       "      <td>Por el contrario, el porcentaje de hogares en ...</td>\n",
       "      <td>5</td>\n",
       "    </tr>\n",
       "    <tr>\n",
       "      <th>2999</th>\n",
       "      <td>Esto ha sido reconocido por los comitÃ©s en la...</td>\n",
       "      <td>5</td>\n",
       "    </tr>\n",
       "  </tbody>\n",
       "</table>\n",
       "<p>254 rows × 2 columns</p>\n",
       "</div>"
      ],
      "text/plain": [
       "                                         Textos_espanol  sdg\n",
       "0     Por ejemplo, el nÃºmero de consultas externas ...    3\n",
       "10    Dos encuestados seÃ±alaron que no existe un or...    3\n",
       "26    También promueve mejoras en la prevención, el ...    3\n",
       "30    La falta de programas completos de acreditació...    3\n",
       "46    Dado el aumento de enfermedades crónicas como ...    3\n",
       "...                                                 ...  ...\n",
       "2984  Las actividades empresariales siguen viéndose ...    5\n",
       "2990  La Agenda Nacional de Jordania 2006-15 estable...    5\n",
       "2991  En la mayoría de los países de la CAO, los fun...    5\n",
       "2996  Por el contrario, el porcentaje de hogares en ...    5\n",
       "2999  Esto ha sido reconocido por los comitÃ©s en la...    5\n",
       "\n",
       "[254 rows x 2 columns]"
      ]
     },
     "execution_count": 16,
     "metadata": {},
     "output_type": "execute_result"
    }
   ],
   "source": [
    "df_ods[df_ods['Textos_espanol'].str.contains('Ã')]"
   ]
  },
  {
   "cell_type": "code",
   "execution_count": 17,
   "metadata": {
    "ExecuteTime": {
     "end_time": "2023-10-09T08:22:57.071082Z",
     "start_time": "2023-10-09T08:22:56.857289Z"
    },
    "id": "gBxOPmTXGqv2"
   },
   "outputs": [],
   "source": [
    "# Remplaza lo caracteres erroneos con su equivalencia pero en UTF-8\n",
    "df_ods['Textos_espanol'] = df_ods['Textos_espanol'].str.replace('Ã¡', 'á')\n",
    "df_ods['Textos_espanol'] = df_ods['Textos_espanol'].str.replace('Ã©', 'é')\n",
    "df_ods['Textos_espanol'] = df_ods['Textos_espanol'].str.replace('Ã³', 'ó')\n",
    "df_ods['Textos_espanol'] = df_ods['Textos_espanol'].str.replace('Ãº', 'ú')\n",
    "df_ods['Textos_espanol'] = df_ods['Textos_espanol'].str.replace('Ã±', 'ñ')\n",
    "df_ods['Textos_espanol'] = df_ods['Textos_espanol'].str.replace('Ã', 'í')"
   ]
  },
  {
   "cell_type": "code",
   "execution_count": 18,
   "metadata": {
    "ExecuteTime": {
     "end_time": "2023-10-09T08:22:57.087163Z",
     "start_time": "2023-10-09T08:22:56.872574Z"
    },
    "colab": {
     "base_uri": "https://localhost:8080/",
     "height": 53
    },
    "id": "Wi_Eg6Z-JnQ_",
    "outputId": "a9eab142-6ba8-4dfb-a13b-fc61ce955d14"
   },
   "outputs": [
    {
     "data": {
      "text/html": [
       "<div>\n",
       "<style scoped>\n",
       "    .dataframe tbody tr th:only-of-type {\n",
       "        vertical-align: middle;\n",
       "    }\n",
       "\n",
       "    .dataframe tbody tr th {\n",
       "        vertical-align: top;\n",
       "    }\n",
       "\n",
       "    .dataframe thead th {\n",
       "        text-align: right;\n",
       "    }\n",
       "</style>\n",
       "<table border=\"1\" class=\"dataframe\">\n",
       "  <thead>\n",
       "    <tr style=\"text-align: right;\">\n",
       "      <th></th>\n",
       "      <th>Textos_espanol</th>\n",
       "      <th>sdg</th>\n",
       "    </tr>\n",
       "  </thead>\n",
       "  <tbody>\n",
       "  </tbody>\n",
       "</table>\n",
       "</div>"
      ],
      "text/plain": [
       "Empty DataFrame\n",
       "Columns: [Textos_espanol, sdg]\n",
       "Index: []"
      ]
     },
     "execution_count": 18,
     "metadata": {},
     "output_type": "execute_result"
    }
   ],
   "source": [
    "df_ods[df_ods['Textos_espanol'].str.contains('Ã')]"
   ]
  },
  {
   "cell_type": "code",
   "execution_count": 19,
   "metadata": {
    "ExecuteTime": {
     "end_time": "2023-10-09T08:22:57.088665Z",
     "start_time": "2023-10-09T08:22:56.888283Z"
    },
    "colab": {
     "base_uri": "https://localhost:8080/",
     "height": 363
    },
    "id": "qfK4mZVIJnaa",
    "outputId": "036d2a49-0adf-44f5-fa83-4b818d7a7806"
   },
   "outputs": [
    {
     "data": {
      "text/html": [
       "<div>\n",
       "<style scoped>\n",
       "    .dataframe tbody tr th:only-of-type {\n",
       "        vertical-align: middle;\n",
       "    }\n",
       "\n",
       "    .dataframe tbody tr th {\n",
       "        vertical-align: top;\n",
       "    }\n",
       "\n",
       "    .dataframe thead th {\n",
       "        text-align: right;\n",
       "    }\n",
       "</style>\n",
       "<table border=\"1\" class=\"dataframe\">\n",
       "  <thead>\n",
       "    <tr style=\"text-align: right;\">\n",
       "      <th></th>\n",
       "      <th>Textos_espanol</th>\n",
       "      <th>sdg</th>\n",
       "    </tr>\n",
       "  </thead>\n",
       "  <tbody>\n",
       "    <tr>\n",
       "      <th>1007</th>\n",
       "      <td>Hay una disponibilidad cada vez mayor de datos...</td>\n",
       "      <td>4</td>\n",
       "    </tr>\n",
       "    <tr>\n",
       "      <th>962</th>\n",
       "      <td>El objetivo es mejorar la salud reproductiva y...</td>\n",
       "      <td>3</td>\n",
       "    </tr>\n",
       "    <tr>\n",
       "      <th>1222</th>\n",
       "      <td>Por lo tanto, los docentes y el liderazgo admi...</td>\n",
       "      <td>4</td>\n",
       "    </tr>\n",
       "    <tr>\n",
       "      <th>1940</th>\n",
       "      <td>Sin embargo, la participación y los logros en ...</td>\n",
       "      <td>4</td>\n",
       "    </tr>\n",
       "    <tr>\n",
       "      <th>1947</th>\n",
       "      <td>Como tal, la educación juega un papel cívico i...</td>\n",
       "      <td>4</td>\n",
       "    </tr>\n",
       "    <tr>\n",
       "      <th>2951</th>\n",
       "      <td>En muchos casos, las consecuencias económicas ...</td>\n",
       "      <td>5</td>\n",
       "    </tr>\n",
       "    <tr>\n",
       "      <th>1801</th>\n",
       "      <td>Los aumentos recientes han puesto los salarios...</td>\n",
       "      <td>4</td>\n",
       "    </tr>\n",
       "    <tr>\n",
       "      <th>2304</th>\n",
       "      <td>En el caso de las mujeres se observan tendenci...</td>\n",
       "      <td>5</td>\n",
       "    </tr>\n",
       "    <tr>\n",
       "      <th>2876</th>\n",
       "      <td>La sección C analiza por qué la igualdad de gé...</td>\n",
       "      <td>5</td>\n",
       "    </tr>\n",
       "    <tr>\n",
       "      <th>318</th>\n",
       "      <td>Además, como se ha comentado en la sección ant...</td>\n",
       "      <td>3</td>\n",
       "    </tr>\n",
       "  </tbody>\n",
       "</table>\n",
       "</div>"
      ],
      "text/plain": [
       "                                         Textos_espanol  sdg\n",
       "1007  Hay una disponibilidad cada vez mayor de datos...    4\n",
       "962   El objetivo es mejorar la salud reproductiva y...    3\n",
       "1222  Por lo tanto, los docentes y el liderazgo admi...    4\n",
       "1940  Sin embargo, la participación y los logros en ...    4\n",
       "1947  Como tal, la educación juega un papel cívico i...    4\n",
       "2951  En muchos casos, las consecuencias económicas ...    5\n",
       "1801  Los aumentos recientes han puesto los salarios...    4\n",
       "2304  En el caso de las mujeres se observan tendenci...    5\n",
       "2876  La sección C analiza por qué la igualdad de gé...    5\n",
       "318   Además, como se ha comentado en la sección ant...    3"
      ]
     },
     "execution_count": 19,
     "metadata": {},
     "output_type": "execute_result"
    }
   ],
   "source": [
    "df_ods.sample(10)"
   ]
  },
  {
   "cell_type": "markdown",
   "metadata": {
    "id": "VV7A-iRhzuFe"
   },
   "source": [
    "### 1.5 Transformacion"
   ]
  },
  {
   "cell_type": "code",
   "execution_count": 20,
   "metadata": {
    "ExecuteTime": {
     "end_time": "2023-10-09T08:22:57.091019Z",
     "start_time": "2023-10-09T08:22:56.893724Z"
    },
    "id": "QBC2sNaj0o6-"
   },
   "outputs": [],
   "source": [
    "# Se dividen los datos para entrenamiento y prueba\n",
    "X_train, X_test, y_train, y_test = train_test_split(df_ods[\"Textos_espanol\"], df_ods[\"sdg\"], test_size=0.3, stratify=df_ods[\"sdg\"], random_state=1)"
   ]
  },
  {
   "cell_type": "code",
   "execution_count": 21,
   "metadata": {
    "ExecuteTime": {
     "end_time": "2023-10-09T08:22:57.096810Z",
     "start_time": "2023-10-09T08:22:56.904428Z"
    },
    "colab": {
     "base_uri": "https://localhost:8080/"
    },
    "id": "voSRAhWn17NG",
    "outputId": "1ca4c9aa-50ec-4742-d8e1-285027db9a4e"
   },
   "outputs": [
    {
     "data": {
      "text/plain": [
       "((2100,), (900,))"
      ]
     },
     "execution_count": 21,
     "metadata": {},
     "output_type": "execute_result"
    }
   ],
   "source": [
    "X_train.shape, X_test.shape"
   ]
  },
  {
   "cell_type": "code",
   "execution_count": 22,
   "metadata": {
    "ExecuteTime": {
     "end_time": "2023-10-09T08:22:57.097445Z",
     "start_time": "2023-10-09T08:22:56.909024Z"
    },
    "colab": {
     "base_uri": "https://localhost:8080/"
    },
    "id": "V4u-znhD18E0",
    "outputId": "3a32174b-7d5b-4aec-b154-966178c47c56"
   },
   "outputs": [
    {
     "data": {
      "text/plain": [
       "sdg\n",
       "4    0.333333\n",
       "3    0.333333\n",
       "5    0.333333\n",
       "Name: proportion, dtype: float64"
      ]
     },
     "execution_count": 22,
     "metadata": {},
     "output_type": "execute_result"
    }
   ],
   "source": [
    "pd.Series(y_train).value_counts(normalize=True)"
   ]
  },
  {
   "cell_type": "code",
   "execution_count": 23,
   "metadata": {
    "ExecuteTime": {
     "end_time": "2023-10-09T08:22:57.098112Z",
     "start_time": "2023-10-09T08:22:56.920962Z"
    },
    "colab": {
     "base_uri": "https://localhost:8080/"
    },
    "id": "P13mqnXP1-Rj",
    "outputId": "0c9916ff-f596-4557-a981-c13dfac0cbaf"
   },
   "outputs": [
    {
     "data": {
      "text/plain": [
       "sdg\n",
       "3    0.333333\n",
       "4    0.333333\n",
       "5    0.333333\n",
       "Name: proportion, dtype: float64"
      ]
     },
     "execution_count": 23,
     "metadata": {},
     "output_type": "execute_result"
    }
   ],
   "source": [
    "pd.Series(y_test).value_counts(normalize=True)"
   ]
  },
  {
   "cell_type": "code",
   "execution_count": 24,
   "metadata": {
    "ExecuteTime": {
     "end_time": "2023-10-09T08:22:57.098315Z",
     "start_time": "2023-10-09T08:22:56.928479Z"
    },
    "id": "vFfbSRXa4HWw"
   },
   "outputs": [],
   "source": [
    "bow = CountVectorizer(tokenizer=word_tokenize, stop_words=stop_words, lowercase=True)"
   ]
  },
  {
   "cell_type": "code",
   "execution_count": 25,
   "metadata": {
    "ExecuteTime": {
     "end_time": "2023-10-09T08:22:58.347921Z",
     "start_time": "2023-10-09T08:22:56.932894Z"
    },
    "id": "H0fJddNd4LRg"
   },
   "outputs": [],
   "source": [
    "X_bow = bow.fit_transform(X_train)"
   ]
  },
  {
   "cell_type": "code",
   "execution_count": 26,
   "metadata": {
    "ExecuteTime": {
     "end_time": "2023-10-09T08:22:58.355692Z",
     "start_time": "2023-10-09T08:22:58.348427Z"
    },
    "colab": {
     "base_uri": "https://localhost:8080/"
    },
    "id": "3QBPF-Rs4LUe",
    "outputId": "82f0ee10-4aaf-49d8-ce9b-bd654ae3ffdc"
   },
   "outputs": [
    {
     "name": "stdout",
     "output_type": "stream",
     "text": [
      "Vocabulary size: 15134\n"
     ]
    }
   ],
   "source": [
    "print(\"Vocabulary size:\", len(bow.vocabulary_))"
   ]
  },
  {
   "cell_type": "code",
   "execution_count": 27,
   "metadata": {
    "ExecuteTime": {
     "end_time": "2023-10-09T08:22:58.359132Z",
     "start_time": "2023-10-09T08:22:58.355048Z"
    },
    "id": "8xHCRTEM4LXG"
   },
   "outputs": [],
   "source": [
    "tfidf = TfidfVectorizer(tokenizer=word_tokenize, stop_words=stop_words, lowercase=True)"
   ]
  },
  {
   "cell_type": "code",
   "execution_count": 28,
   "metadata": {
    "ExecuteTime": {
     "end_time": "2023-10-09T08:22:59.632315Z",
     "start_time": "2023-10-09T08:22:58.363726Z"
    },
    "id": "Sw1Jjg2w5OWf"
   },
   "outputs": [],
   "source": [
    "X_tfidf = tfidf.fit_transform(X_train)"
   ]
  },
  {
   "cell_type": "code",
   "execution_count": 29,
   "metadata": {
    "ExecuteTime": {
     "end_time": "2023-10-09T08:22:59.647288Z",
     "start_time": "2023-10-09T08:22:59.640785Z"
    },
    "colab": {
     "base_uri": "https://localhost:8080/"
    },
    "id": "I_X4xeTK5OYs",
    "outputId": "a64086b0-560a-4d87-f168-cbed56d48d2d"
   },
   "outputs": [
    {
     "name": "stdout",
     "output_type": "stream",
     "text": [
      "Vocabulary size: 15134\n"
     ]
    }
   ],
   "source": [
    "print(\"Vocabulary size:\", len(tfidf.vocabulary_))"
   ]
  },
  {
   "cell_type": "markdown",
   "metadata": {
    "id": "MAxntBpyytvF"
   },
   "source": [
    "## 2. Modelado y evaluacion"
   ]
  },
  {
   "cell_type": "markdown",
   "metadata": {
    "id": "NDyZBuqDRg81"
   },
   "source": [
    "### 2.1 Entrenando Modelo con BoW y Random Forest classifier (Juan Sebastian Sanchez Delgado)"
   ]
  },
  {
   "cell_type": "code",
   "execution_count": 30,
   "metadata": {
    "ExecuteTime": {
     "end_time": "2023-10-09T08:22:59.666703Z",
     "start_time": "2023-10-09T08:22:59.646969Z"
    },
    "id": "rWLJ7JxnzM07"
   },
   "outputs": [],
   "source": [
    "bow_model = RandomForestClassifier(random_state=2)"
   ]
  },
  {
   "cell_type": "code",
   "execution_count": 31,
   "metadata": {
    "ExecuteTime": {
     "end_time": "2023-10-09T08:23:00.469896Z",
     "start_time": "2023-10-09T08:22:59.651265Z"
    },
    "colab": {
     "base_uri": "https://localhost:8080/",
     "height": 75
    },
    "id": "zL-qOKBp5laL",
    "outputId": "864cb117-e3e0-47a4-aa08-59822f0b0126"
   },
   "outputs": [
    {
     "data": {
      "text/html": [
       "<style>#sk-container-id-1 {color: black;}#sk-container-id-1 pre{padding: 0;}#sk-container-id-1 div.sk-toggleable {background-color: white;}#sk-container-id-1 label.sk-toggleable__label {cursor: pointer;display: block;width: 100%;margin-bottom: 0;padding: 0.3em;box-sizing: border-box;text-align: center;}#sk-container-id-1 label.sk-toggleable__label-arrow:before {content: \"▸\";float: left;margin-right: 0.25em;color: #696969;}#sk-container-id-1 label.sk-toggleable__label-arrow:hover:before {color: black;}#sk-container-id-1 div.sk-estimator:hover label.sk-toggleable__label-arrow:before {color: black;}#sk-container-id-1 div.sk-toggleable__content {max-height: 0;max-width: 0;overflow: hidden;text-align: left;background-color: #f0f8ff;}#sk-container-id-1 div.sk-toggleable__content pre {margin: 0.2em;color: black;border-radius: 0.25em;background-color: #f0f8ff;}#sk-container-id-1 input.sk-toggleable__control:checked~div.sk-toggleable__content {max-height: 200px;max-width: 100%;overflow: auto;}#sk-container-id-1 input.sk-toggleable__control:checked~label.sk-toggleable__label-arrow:before {content: \"▾\";}#sk-container-id-1 div.sk-estimator input.sk-toggleable__control:checked~label.sk-toggleable__label {background-color: #d4ebff;}#sk-container-id-1 div.sk-label input.sk-toggleable__control:checked~label.sk-toggleable__label {background-color: #d4ebff;}#sk-container-id-1 input.sk-hidden--visually {border: 0;clip: rect(1px 1px 1px 1px);clip: rect(1px, 1px, 1px, 1px);height: 1px;margin: -1px;overflow: hidden;padding: 0;position: absolute;width: 1px;}#sk-container-id-1 div.sk-estimator {font-family: monospace;background-color: #f0f8ff;border: 1px dotted black;border-radius: 0.25em;box-sizing: border-box;margin-bottom: 0.5em;}#sk-container-id-1 div.sk-estimator:hover {background-color: #d4ebff;}#sk-container-id-1 div.sk-parallel-item::after {content: \"\";width: 100%;border-bottom: 1px solid gray;flex-grow: 1;}#sk-container-id-1 div.sk-label:hover label.sk-toggleable__label {background-color: #d4ebff;}#sk-container-id-1 div.sk-serial::before {content: \"\";position: absolute;border-left: 1px solid gray;box-sizing: border-box;top: 0;bottom: 0;left: 50%;z-index: 0;}#sk-container-id-1 div.sk-serial {display: flex;flex-direction: column;align-items: center;background-color: white;padding-right: 0.2em;padding-left: 0.2em;position: relative;}#sk-container-id-1 div.sk-item {position: relative;z-index: 1;}#sk-container-id-1 div.sk-parallel {display: flex;align-items: stretch;justify-content: center;background-color: white;position: relative;}#sk-container-id-1 div.sk-item::before, #sk-container-id-1 div.sk-parallel-item::before {content: \"\";position: absolute;border-left: 1px solid gray;box-sizing: border-box;top: 0;bottom: 0;left: 50%;z-index: -1;}#sk-container-id-1 div.sk-parallel-item {display: flex;flex-direction: column;z-index: 1;position: relative;background-color: white;}#sk-container-id-1 div.sk-parallel-item:first-child::after {align-self: flex-end;width: 50%;}#sk-container-id-1 div.sk-parallel-item:last-child::after {align-self: flex-start;width: 50%;}#sk-container-id-1 div.sk-parallel-item:only-child::after {width: 0;}#sk-container-id-1 div.sk-dashed-wrapped {border: 1px dashed gray;margin: 0 0.4em 0.5em 0.4em;box-sizing: border-box;padding-bottom: 0.4em;background-color: white;}#sk-container-id-1 div.sk-label label {font-family: monospace;font-weight: bold;display: inline-block;line-height: 1.2em;}#sk-container-id-1 div.sk-label-container {text-align: center;}#sk-container-id-1 div.sk-container {/* jupyter's `normalize.less` sets `[hidden] { display: none; }` but bootstrap.min.css set `[hidden] { display: none !important; }` so we also need the `!important` here to be able to override the default hidden behavior on the sphinx rendered scikit-learn.org. See: https://github.com/scikit-learn/scikit-learn/issues/21755 */display: inline-block !important;position: relative;}#sk-container-id-1 div.sk-text-repr-fallback {display: none;}</style><div id=\"sk-container-id-1\" class=\"sk-top-container\"><div class=\"sk-text-repr-fallback\"><pre>RandomForestClassifier(random_state=2)</pre><b>In a Jupyter environment, please rerun this cell to show the HTML representation or trust the notebook. <br />On GitHub, the HTML representation is unable to render, please try loading this page with nbviewer.org.</b></div><div class=\"sk-container\" hidden><div class=\"sk-item\"><div class=\"sk-estimator sk-toggleable\"><input class=\"sk-toggleable__control sk-hidden--visually\" id=\"sk-estimator-id-1\" type=\"checkbox\" checked><label for=\"sk-estimator-id-1\" class=\"sk-toggleable__label sk-toggleable__label-arrow\">RandomForestClassifier</label><div class=\"sk-toggleable__content\"><pre>RandomForestClassifier(random_state=2)</pre></div></div></div></div></div>"
      ],
      "text/plain": [
       "RandomForestClassifier(random_state=2)"
      ]
     },
     "execution_count": 31,
     "metadata": {},
     "output_type": "execute_result"
    }
   ],
   "source": [
    "bow_model.fit(X_bow, y_train)"
   ]
  },
  {
   "cell_type": "code",
   "execution_count": 32,
   "metadata": {
    "ExecuteTime": {
     "end_time": "2023-10-09T08:23:01.560233Z",
     "start_time": "2023-10-09T08:23:00.470399Z"
    },
    "colab": {
     "base_uri": "https://localhost:8080/",
     "height": 556
    },
    "id": "CGELXhhz5wIY",
    "outputId": "e46d7132-8813-4b07-a2ab-b0d2eba3d539"
   },
   "outputs": [
    {
     "data": {
      "text/plain": [
       "<Axes: >"
      ]
     },
     "execution_count": 32,
     "metadata": {},
     "output_type": "execute_result"
    },
    {
     "data": {
      "image/png": "[encoded data removed]",
      "text/plain": [
       "<Figure size 1500x800 with 1 Axes>"
      ]
     },
     "metadata": {},
     "output_type": "display_data"
    }
   ],
   "source": [
    "# Se muestra la importancia de algunas palabras para determinar que tan relevante es para tomar una decision para el modelo\n",
    "pd.Series(bow_model.feature_importances_, index=bow.vocabulary_).sort_values().tail(20).plot.barh(figsize=(15, 8))"
   ]
  },
  {
   "cell_type": "code",
   "execution_count": 33,
   "metadata": {
    "ExecuteTime": {
     "end_time": "2023-10-09T08:23:01.567745Z",
     "start_time": "2023-10-09T08:23:01.559122Z"
    },
    "colab": {
     "base_uri": "https://localhost:8080/"
    },
    "id": "L2-Fnvi66l-r",
    "outputId": "21b049ba-b617-4b35-e315-d35baf7736d4"
   },
   "outputs": [
    {
     "name": "stdout",
     "output_type": "stream",
     "text": [
      "Numero de arboles de decision: 100\n",
      "Profundidad de los arboles (mean): 97.14\n"
     ]
    }
   ],
   "source": [
    "bow_estimators = bow_model.estimators_\n",
    "print(\"Numero de arboles de decision:\", len(bow_estimators))\n",
    "print(\"Profundidad de los arboles (mean):\", np.mean([tree.get_depth() for tree in bow_estimators]))"
   ]
  },
  {
   "cell_type": "code",
   "execution_count": 34,
   "metadata": {
    "ExecuteTime": {
     "end_time": "2023-10-09T08:23:02.260148Z",
     "start_time": "2023-10-09T08:23:01.565758Z"
    },
    "id": "CjGea2Y46sqQ"
   },
   "outputs": [],
   "source": [
    "y_train_bow_predict = bow_model.predict(X_bow)\n",
    "y_test_bow_predict = bow_model.predict(bow.transform(X_test))"
   ]
  },
  {
   "cell_type": "code",
   "execution_count": 35,
   "metadata": {
    "ExecuteTime": {
     "end_time": "2023-10-09T08:23:02.483166Z",
     "start_time": "2023-10-09T08:23:02.260618Z"
    },
    "colab": {
     "base_uri": "https://localhost:8080/",
     "height": 473
    },
    "id": "Aa0CI6s_7Dp1",
    "outputId": "082cd932-5b6a-4e41-e1f8-6a501917236d"
   },
   "outputs": [
    {
     "data": {
      "text/plain": [
       "<sklearn.metrics._plot.confusion_matrix.ConfusionMatrixDisplay at 0x1b6fa6fe350>"
      ]
     },
     "execution_count": 35,
     "metadata": {},
     "output_type": "execute_result"
    },
    {
     "data": {
      "image/png": "[encoded data removed]",
      "text/plain": [
       "<Figure size 640x480 with 2 Axes>"
      ]
     },
     "metadata": {},
     "output_type": "display_data"
    }
   ],
   "source": [
    "ConfusionMatrixDisplay.from_predictions(y_train, y_train_bow_predict)"
   ]
  },
  {
   "cell_type": "code",
   "execution_count": 36,
   "metadata": {
    "ExecuteTime": {
     "end_time": "2023-10-09T08:23:02.686506Z",
     "start_time": "2023-10-09T08:23:02.483561Z"
    },
    "colab": {
     "base_uri": "https://localhost:8080/",
     "height": 467
    },
    "id": "YoyIVh7s7Qbu",
    "outputId": "5c3b3777-aefb-474f-9d06-3594ea546737"
   },
   "outputs": [
    {
     "data": {
      "text/plain": [
       "<sklearn.metrics._plot.confusion_matrix.ConfusionMatrixDisplay at 0x1b6fa4cf450>"
      ]
     },
     "execution_count": 36,
     "metadata": {},
     "output_type": "execute_result"
    },
    {
     "data": {
      "image/png": "[encoded data removed]",
      "text/plain": [
       "<Figure size 640x480 with 2 Axes>"
      ]
     },
     "metadata": {},
     "output_type": "display_data"
    }
   ],
   "source": [
    "ConfusionMatrixDisplay.from_predictions(y_test, y_test_bow_predict)"
   ]
  },
  {
   "cell_type": "code",
   "execution_count": 37,
   "metadata": {
    "ExecuteTime": {
     "end_time": "2023-10-09T08:23:02.698622Z",
     "start_time": "2023-10-09T08:23:02.686806Z"
    },
    "colab": {
     "base_uri": "https://localhost:8080/"
    },
    "id": "RLlg0KN_7ZiK",
    "outputId": "a4e9847e-b03e-4da6-91f0-14e8f16bc37f"
   },
   "outputs": [
    {
     "name": "stdout",
     "output_type": "stream",
     "text": [
      "Precision: 1.0\n",
      "Recall: 1.0\n",
      "F1: 1.0\n"
     ]
    }
   ],
   "source": [
    "print(\"Precision:\", precision_score(y_train, y_train_bow_predict, average='micro'))\n",
    "print(\"Recall:\", recall_score(y_train, y_train_bow_predict, average='micro'))\n",
    "print(\"F1:\", f1_score(y_train, y_train_bow_predict, average='micro'))"
   ]
  },
  {
   "cell_type": "code",
   "execution_count": 38,
   "metadata": {
    "ExecuteTime": {
     "end_time": "2023-10-09T08:23:02.755626Z",
     "start_time": "2023-10-09T08:23:02.695762Z"
    },
    "colab": {
     "base_uri": "https://localhost:8080/"
    },
    "id": "kHRi-7cd7kSJ",
    "outputId": "e3212d0a-91f6-44c5-ab07-4a831c484eda"
   },
   "outputs": [
    {
     "name": "stdout",
     "output_type": "stream",
     "text": [
      "Precision: 0.9766666666666667\n",
      "Recall: 0.9766666666666667\n",
      "F1: 0.9766666666666667\n"
     ]
    }
   ],
   "source": [
    "print(\"Precision:\", precision_score(y_test, y_test_bow_predict, average='micro' ))\n",
    "print(\"Recall:\", recall_score(y_test, y_test_bow_predict, average='micro'))\n",
    "print(\"F1:\", f1_score(y_test, y_test_bow_predict, average='micro'))"
   ]
  },
  {
   "cell_type": "markdown",
   "metadata": {
    "id": "6C9Jt1DD0JfD"
   },
   "source": [
    "### 2.2 Entrenando modelo con TF-IDF (Santiago Paeres Gonzalez)"
   ]
  },
  {
   "cell_type": "code",
   "execution_count": 38,
   "metadata": {
    "ExecuteTime": {
     "end_time": "2023-10-09T08:23:02.770456Z",
     "start_time": "2023-10-09T08:23:02.707005Z"
    },
    "collapsed": false
   },
   "outputs": [],
   "source": [
    "tfidf_model = RandomForestClassifier(random_state=3)"
   ]
  },
  {
   "cell_type": "code",
   "execution_count": 39,
   "metadata": {
    "ExecuteTime": {
     "end_time": "2023-10-09T08:23:03.510632Z",
     "start_time": "2023-10-09T08:23:02.711909Z"
    },
    "collapsed": false
   },
   "outputs": [
    {
     "data": {
      "text/html": [
       "<style>#sk-container-id-2 {color: black;}#sk-container-id-2 pre{padding: 0;}#sk-container-id-2 div.sk-toggleable {background-color: white;}#sk-container-id-2 label.sk-toggleable__label {cursor: pointer;display: block;width: 100%;margin-bottom: 0;padding: 0.3em;box-sizing: border-box;text-align: center;}#sk-container-id-2 label.sk-toggleable__label-arrow:before {content: \"▸\";float: left;margin-right: 0.25em;color: #696969;}#sk-container-id-2 label.sk-toggleable__label-arrow:hover:before {color: black;}#sk-container-id-2 div.sk-estimator:hover label.sk-toggleable__label-arrow:before {color: black;}#sk-container-id-2 div.sk-toggleable__content {max-height: 0;max-width: 0;overflow: hidden;text-align: left;background-color: #f0f8ff;}#sk-container-id-2 div.sk-toggleable__content pre {margin: 0.2em;color: black;border-radius: 0.25em;background-color: #f0f8ff;}#sk-container-id-2 input.sk-toggleable__control:checked~div.sk-toggleable__content {max-height: 200px;max-width: 100%;overflow: auto;}#sk-container-id-2 input.sk-toggleable__control:checked~label.sk-toggleable__label-arrow:before {content: \"▾\";}#sk-container-id-2 div.sk-estimator input.sk-toggleable__control:checked~label.sk-toggleable__label {background-color: #d4ebff;}#sk-container-id-2 div.sk-label input.sk-toggleable__control:checked~label.sk-toggleable__label {background-color: #d4ebff;}#sk-container-id-2 input.sk-hidden--visually {border: 0;clip: rect(1px 1px 1px 1px);clip: rect(1px, 1px, 1px, 1px);height: 1px;margin: -1px;overflow: hidden;padding: 0;position: absolute;width: 1px;}#sk-container-id-2 div.sk-estimator {font-family: monospace;background-color: #f0f8ff;border: 1px dotted black;border-radius: 0.25em;box-sizing: border-box;margin-bottom: 0.5em;}#sk-container-id-2 div.sk-estimator:hover {background-color: #d4ebff;}#sk-container-id-2 div.sk-parallel-item::after {content: \"\";width: 100%;border-bottom: 1px solid gray;flex-grow: 1;}#sk-container-id-2 div.sk-label:hover label.sk-toggleable__label {background-color: #d4ebff;}#sk-container-id-2 div.sk-serial::before {content: \"\";position: absolute;border-left: 1px solid gray;box-sizing: border-box;top: 0;bottom: 0;left: 50%;z-index: 0;}#sk-container-id-2 div.sk-serial {display: flex;flex-direction: column;align-items: center;background-color: white;padding-right: 0.2em;padding-left: 0.2em;position: relative;}#sk-container-id-2 div.sk-item {position: relative;z-index: 1;}#sk-container-id-2 div.sk-parallel {display: flex;align-items: stretch;justify-content: center;background-color: white;position: relative;}#sk-container-id-2 div.sk-item::before, #sk-container-id-2 div.sk-parallel-item::before {content: \"\";position: absolute;border-left: 1px solid gray;box-sizing: border-box;top: 0;bottom: 0;left: 50%;z-index: -1;}#sk-container-id-2 div.sk-parallel-item {display: flex;flex-direction: column;z-index: 1;position: relative;background-color: white;}#sk-container-id-2 div.sk-parallel-item:first-child::after {align-self: flex-end;width: 50%;}#sk-container-id-2 div.sk-parallel-item:last-child::after {align-self: flex-start;width: 50%;}#sk-container-id-2 div.sk-parallel-item:only-child::after {width: 0;}#sk-container-id-2 div.sk-dashed-wrapped {border: 1px dashed gray;margin: 0 0.4em 0.5em 0.4em;box-sizing: border-box;padding-bottom: 0.4em;background-color: white;}#sk-container-id-2 div.sk-label label {font-family: monospace;font-weight: bold;display: inline-block;line-height: 1.2em;}#sk-container-id-2 div.sk-label-container {text-align: center;}#sk-container-id-2 div.sk-container {/* jupyter's `normalize.less` sets `[hidden] { display: none; }` but bootstrap.min.css set `[hidden] { display: none !important; }` so we also need the `!important` here to be able to override the default hidden behavior on the sphinx rendered scikit-learn.org. See: https://github.com/scikit-learn/scikit-learn/issues/21755 */display: inline-block !important;position: relative;}#sk-container-id-2 div.sk-text-repr-fallback {display: none;}</style><div id=\"sk-container-id-2\" class=\"sk-top-container\"><div class=\"sk-text-repr-fallback\"><pre>RandomForestClassifier(random_state=3)</pre><b>In a Jupyter environment, please rerun this cell to show the HTML representation or trust the notebook. <br />On GitHub, the HTML representation is unable to render, please try loading this page with nbviewer.org.</b></div><div class=\"sk-container\" hidden><div class=\"sk-item\"><div class=\"sk-estimator sk-toggleable\"><input class=\"sk-toggleable__control sk-hidden--visually\" id=\"sk-estimator-id-2\" type=\"checkbox\" checked><label for=\"sk-estimator-id-2\" class=\"sk-toggleable__label sk-toggleable__label-arrow\">RandomForestClassifier</label><div class=\"sk-toggleable__content\"><pre>RandomForestClassifier(random_state=3)</pre></div></div></div></div></div>"
      ],
      "text/plain": [
       "RandomForestClassifier(random_state=3)"
      ]
     },
     "execution_count": 39,
     "metadata": {},
     "output_type": "execute_result"
    }
   ],
   "source": [
    "tfidf_model.fit(X_tfidf, y_train)"
   ]
  },
  {
   "cell_type": "code",
   "execution_count": 40,
   "metadata": {
    "ExecuteTime": {
     "end_time": "2023-10-09T08:23:03.881468Z",
     "start_time": "2023-10-09T08:23:03.511784Z"
    },
    "collapsed": false
   },
   "outputs": [
    {
     "data": {
      "text/plain": [
       "<Axes: >"
      ]
     },
     "execution_count": 40,
     "metadata": {},
     "output_type": "execute_result"
    },
    {
     "data": {
      "image/png": "[encoded data removed]",
      "text/plain": [
       "<Figure size 1500x1000 with 1 Axes>"
      ]
     },
     "metadata": {},
     "output_type": "display_data"
    }
   ],
   "source": [
    "pd.Series(tfidf_model.feature_importances_, index=tfidf.vocabulary_).sort_values().tail(20).plot.barh(figsize=(15, 10))"
   ]
  },
  {
   "cell_type": "code",
   "execution_count": 41,
   "metadata": {
    "ExecuteTime": {
     "end_time": "2023-10-09T08:23:03.882168Z",
     "start_time": "2023-10-09T08:23:03.875756Z"
    },
    "collapsed": false
   },
   "outputs": [
    {
     "name": "stdout",
     "output_type": "stream",
     "text": [
      "Number of trees: 100\n",
      "Trees depth (mean): 97.28\n"
     ]
    }
   ],
   "source": [
    "tfidf_estimators = tfidf_model.estimators_\n",
    "print(\"Number of trees:\", len(tfidf_estimators))\n",
    "print(\"Trees depth (mean):\", np.mean([tree.get_depth() for tree in tfidf_estimators]))"
   ]
  },
  {
   "cell_type": "code",
   "execution_count": 42,
   "metadata": {
    "ExecuteTime": {
     "end_time": "2023-10-09T08:23:04.553030Z",
     "start_time": "2023-10-09T08:23:03.881089Z"
    },
    "collapsed": false
   },
   "outputs": [],
   "source": [
    "y_train_tfidf_predict = tfidf_model.predict(X_tfidf)\n",
    "y_test_tfidf_predict = tfidf_model.predict(tfidf.transform(X_test))"
   ]
  },
  {
   "cell_type": "code",
   "execution_count": 43,
   "metadata": {
    "ExecuteTime": {
     "end_time": "2023-10-09T08:23:04.795479Z",
     "start_time": "2023-10-09T08:23:04.554588Z"
    },
    "collapsed": false
   },
   "outputs": [
    {
     "data": {
      "text/plain": [
       "<sklearn.metrics._plot.confusion_matrix.ConfusionMatrixDisplay at 0x17fea8b6210>"
      ]
     },
     "execution_count": 43,
     "metadata": {},
     "output_type": "execute_result"
    },
    {
     "data": {
      "image/png": "[encoded data removed]",
      "text/plain": [
       "<Figure size 640x480 with 2 Axes>"
      ]
     },
     "metadata": {},
     "output_type": "display_data"
    }
   ],
   "source": [
    "ConfusionMatrixDisplay.from_predictions(y_train, y_train_tfidf_predict)"
   ]
  },
  {
   "cell_type": "code",
   "execution_count": 44,
   "metadata": {
    "ExecuteTime": {
     "end_time": "2023-10-09T08:23:05.030539Z",
     "start_time": "2023-10-09T08:23:04.794374Z"
    },
    "collapsed": false
   },
   "outputs": [
    {
     "data": {
      "text/plain": [
       "<sklearn.metrics._plot.confusion_matrix.ConfusionMatrixDisplay at 0x17fea96de50>"
      ]
     },
     "execution_count": 44,
     "metadata": {},
     "output_type": "execute_result"
    },
    {
     "data": {
      "image/png": "[encoded data removed]",
      "text/plain": [
       "<Figure size 640x480 with 2 Axes>"
      ]
     },
     "metadata": {},
     "output_type": "display_data"
    }
   ],
   "source": [
    "ConfusionMatrixDisplay.from_predictions(y_test, y_test_tfidf_predict)"
   ]
  },
  {
   "cell_type": "code",
   "execution_count": 45,
   "metadata": {
    "ExecuteTime": {
     "end_time": "2023-10-09T08:23:05.046837Z",
     "start_time": "2023-10-09T08:23:05.031414Z"
    },
    "collapsed": false
   },
   "outputs": [
    {
     "name": "stdout",
     "output_type": "stream",
     "text": [
      "Precision: 1.0\n",
      "Recall: 1.0\n",
      "F1: 1.0\n"
     ]
    }
   ],
   "source": [
    "print(\"Precision:\", precision_score(y_train, y_train_tfidf_predict, average='micro'))\n",
    "print(\"Recall:\", recall_score(y_train, y_train_tfidf_predict, average='micro'))\n",
    "print(\"F1:\", f1_score(y_train, y_train_tfidf_predict, average='micro'))"
   ]
  },
  {
   "cell_type": "code",
   "execution_count": 46,
   "metadata": {
    "ExecuteTime": {
     "end_time": "2023-10-09T08:23:05.113955Z",
     "start_time": "2023-10-09T08:23:05.044039Z"
    },
    "collapsed": false
   },
   "outputs": [
    {
     "name": "stdout",
     "output_type": "stream",
     "text": [
      "Precision: 0.9644444444444444\n",
      "Recall: 0.9644444444444444\n",
      "F1: 0.9644444444444444\n"
     ]
    }
   ],
   "source": [
    "print(\"Precision:\", precision_score(y_test, y_test_tfidf_predict, average='micro'))\n",
    "print(\"Recall:\", recall_score(y_test, y_test_tfidf_predict, average='micro'))\n",
    "print(\"F1:\", f1_score(y_test, y_test_tfidf_predict, average='micro'))"
   ]
  },
  {
   "cell_type": "markdown",
   "metadata": {
    "collapsed": false
   },
   "source": [
    "### Model selection"
   ]
  },
  {
   "cell_type": "code",
   "execution_count": 47,
   "metadata": {
    "ExecuteTime": {
     "end_time": "2023-10-09T09:59:26.669984Z",
     "start_time": "2023-10-09T09:59:26.638456Z"
    },
    "collapsed": false
   },
   "outputs": [],
   "source": [
    "pipeline = Pipeline(steps = [\n",
    "    (\"vectorizer\", CountVectorizer(tokenizer=word_tokenize, stop_words=stop_words, lowercase=True)),\n",
    "    (\"classifier\", RandomForestClassifier(random_state=4))\n",
    "])"
   ]
  },
  {
   "cell_type": "code",
   "execution_count": 48,
   "metadata": {
    "ExecuteTime": {
     "end_time": "2023-10-09T09:59:27.397953Z",
     "start_time": "2023-10-09T09:59:27.371669Z"
    },
    "collapsed": false
   },
   "outputs": [],
   "source": [
    "param_grid = {\n",
    "    \"vectorizer\": [CountVectorizer(tokenizer=word_tokenize, stop_words=stop_words), TfidfVectorizer(tokenizer=word_tokenize, stop_words=stop_words)],\n",
    "    \"vectorizer__lowercase\": [True, False],\n",
    "    \"classifier__n_estimators\": [30, 50, 100],\n",
    "    \"classifier__criterion\": ['gini', 'entropy'],\n",
    "    \"classifier__max_depth\": [25, 50, 75, 100]\n",
    "}"
   ]
  },
  {
   "cell_type": "code",
   "execution_count": 49,
   "metadata": {
    "ExecuteTime": {
     "end_time": "2023-10-09T09:59:41.025876Z",
     "start_time": "2023-10-09T09:59:41.000993Z"
    },
    "collapsed": false
   },
   "outputs": [],
   "source": [
    "search = RandomizedSearchCV(pipeline, param_grid, n_iter=15, scoring=[\"precision\", \"recall\", \"f1\"], refit=\"f1\", cv=30, return_train_score=True, verbose=1, random_state=5)"
   ]
  },
  {
   "cell_type": "code",
   "execution_count": 50,
   "metadata": {
    "ExecuteTime": {
     "end_time": "2023-10-09T10:34:15.392429Z",
     "start_time": "2023-10-09T09:59:41.768013Z"
    },
    "collapsed": false
   },
   "outputs": [
    {
     "name": "stdout",
     "output_type": "stream",
     "text": [
      "Fitting 30 folds for each of 15 candidates, totalling 450 fits\n"
     ]
    },
    {
     "ename": "",
     "evalue": "",
     "output_type": "error",
     "traceback": [
      "\u001b[1;31mThe Kernel crashed while executing code in the the current cell or a previous cell. Please review the code in the cell(s) to identify a possible cause of the failure. Click <a href='https://aka.ms/vscodeJupyterKernelCrash'>here</a> for more info. View Jupyter <a href='command:jupyter.viewOutput'>log</a> for further details."
     ]
    }
   ],
   "source": [
    "search.fit(X_train, y_train)"
   ]
  },
  {
   "cell_type": "code",
   "execution_count": null,
   "metadata": {
    "ExecuteTime": {
     "end_time": "2023-10-09T10:38:01.108009Z",
     "start_time": "2023-10-09T10:38:01.084805Z"
    },
    "collapsed": false
   },
   "outputs": [
    {
     "data": {
      "text/plain": [
       "{'vectorizer__lowercase': True,\n",
       " 'vectorizer': TfidfVectorizer(stop_words=['de', 'la', 'que', 'el', 'en', 'y', 'a', 'los',\n",
       "                             'del', 'se', 'las', 'por', 'un', 'para', 'con',\n",
       "                             'no', 'una', 'su', 'al', 'lo', 'como', 'más',\n",
       "                             'pero', 'sus', 'le', 'ya', 'o', 'este', 'sí',\n",
       "                             'porque', ...],\n",
       "                 tokenizer=<function word_tokenize at 0x7fe9f35191f0>),\n",
       " 'classifier__n_estimators': 50,\n",
       " 'classifier__max_depth': 100,\n",
       " 'classifier__criterion': 'gini'}"
      ]
     },
     "execution_count": 81,
     "metadata": {},
     "output_type": "execute_result"
    }
   ],
   "source": [
    "search.best_params_"
   ]
  },
  {
   "cell_type": "code",
   "execution_count": null,
   "metadata": {
    "ExecuteTime": {
     "end_time": "2023-10-09T09:59:11.043345Z",
     "start_time": "2023-10-09T09:59:11.021918Z"
    },
    "collapsed": false
   },
   "outputs": [
    {
     "data": {
      "text/plain": [
       "nan"
      ]
     },
     "execution_count": 74,
     "metadata": {},
     "output_type": "execute_result"
    }
   ],
   "source": [
    "search.best_score_"
   ]
  },
  {
   "cell_type": "code",
   "execution_count": null,
   "metadata": {
    "ExecuteTime": {
     "end_time": "2023-10-09T10:39:28.435478Z",
     "start_time": "2023-10-09T10:39:25.850800Z"
    },
    "collapsed": false
   },
   "outputs": [],
   "source": [
    "y_train_search_predict = search.best_estimator_.predict(X_train)\n",
    "y_test_search_predict = search.best_estimator_.predict(X_test)"
   ]
  },
  {
   "cell_type": "code",
   "execution_count": null,
   "metadata": {
    "ExecuteTime": {
     "end_time": "2023-10-09T10:39:28.436778Z",
     "start_time": "2023-10-09T10:39:28.425633Z"
    },
    "collapsed": false
   },
   "outputs": [
    {
     "name": "stdout",
     "output_type": "stream",
     "text": [
      "Precision: 1.0\n",
      "Recall: 1.0\n",
      "F1: 1.0\n"
     ]
    }
   ],
   "source": [
    "print(\"Precision:\", precision_score(y_train, y_train_search_predict, average='micro'))\n",
    "print(\"Recall:\", recall_score(y_train, y_train_search_predict, average='micro'))\n",
    "print(\"F1:\", f1_score(y_train, y_train_search_predict, average='micro'))"
   ]
  },
  {
   "cell_type": "code",
   "execution_count": null,
   "metadata": {
    "ExecuteTime": {
     "end_time": "2023-10-09T10:39:28.456031Z",
     "start_time": "2023-10-09T10:39:28.436649Z"
    },
    "collapsed": false
   },
   "outputs": [
    {
     "name": "stdout",
     "output_type": "stream",
     "text": [
      "Precision: 0.9644444444444444\n",
      "Recall: 0.9644444444444444\n",
      "F1: 0.9644444444444444\n"
     ]
    }
   ],
   "source": [
    "print(\"Precision:\", precision_score(y_test, y_test_search_predict, average='micro'))\n",
    "print(\"Recall:\", recall_score(y_test, y_test_search_predict, average='micro'))\n",
    "print(\"F1:\", f1_score(y_test, y_test_search_predict, average='micro'))"
   ]
  },
  {
   "cell_type": "markdown",
   "metadata": {
    "id": "Fjw9wN28RyBs"
   },
   "source": [
    "### 2.3 Entrenando modelo con Gradient Boosting (Miguel Angel Cardenas) "
   ]
  },
  {
   "cell_type": "code",
   "execution_count": 39,
   "metadata": {},
   "outputs": [],
   "source": [
    "gb_classifier = GradientBoostingClassifier(n_estimators=100, learning_rate=0.1, random_state=42)"
   ]
  },
  {
   "cell_type": "code",
   "execution_count": 40,
   "metadata": {},
   "outputs": [
    {
     "data": {
      "text/html": [
       "<style>#sk-container-id-2 {color: black;}#sk-container-id-2 pre{padding: 0;}#sk-container-id-2 div.sk-toggleable {background-color: white;}#sk-container-id-2 label.sk-toggleable__label {cursor: pointer;display: block;width: 100%;margin-bottom: 0;padding: 0.3em;box-sizing: border-box;text-align: center;}#sk-container-id-2 label.sk-toggleable__label-arrow:before {content: \"▸\";float: left;margin-right: 0.25em;color: #696969;}#sk-container-id-2 label.sk-toggleable__label-arrow:hover:before {color: black;}#sk-container-id-2 div.sk-estimator:hover label.sk-toggleable__label-arrow:before {color: black;}#sk-container-id-2 div.sk-toggleable__content {max-height: 0;max-width: 0;overflow: hidden;text-align: left;background-color: #f0f8ff;}#sk-container-id-2 div.sk-toggleable__content pre {margin: 0.2em;color: black;border-radius: 0.25em;background-color: #f0f8ff;}#sk-container-id-2 input.sk-toggleable__control:checked~div.sk-toggleable__content {max-height: 200px;max-width: 100%;overflow: auto;}#sk-container-id-2 input.sk-toggleable__control:checked~label.sk-toggleable__label-arrow:before {content: \"▾\";}#sk-container-id-2 div.sk-estimator input.sk-toggleable__control:checked~label.sk-toggleable__label {background-color: #d4ebff;}#sk-container-id-2 div.sk-label input.sk-toggleable__control:checked~label.sk-toggleable__label {background-color: #d4ebff;}#sk-container-id-2 input.sk-hidden--visually {border: 0;clip: rect(1px 1px 1px 1px);clip: rect(1px, 1px, 1px, 1px);height: 1px;margin: -1px;overflow: hidden;padding: 0;position: absolute;width: 1px;}#sk-container-id-2 div.sk-estimator {font-family: monospace;background-color: #f0f8ff;border: 1px dotted black;border-radius: 0.25em;box-sizing: border-box;margin-bottom: 0.5em;}#sk-container-id-2 div.sk-estimator:hover {background-color: #d4ebff;}#sk-container-id-2 div.sk-parallel-item::after {content: \"\";width: 100%;border-bottom: 1px solid gray;flex-grow: 1;}#sk-container-id-2 div.sk-label:hover label.sk-toggleable__label {background-color: #d4ebff;}#sk-container-id-2 div.sk-serial::before {content: \"\";position: absolute;border-left: 1px solid gray;box-sizing: border-box;top: 0;bottom: 0;left: 50%;z-index: 0;}#sk-container-id-2 div.sk-serial {display: flex;flex-direction: column;align-items: center;background-color: white;padding-right: 0.2em;padding-left: 0.2em;position: relative;}#sk-container-id-2 div.sk-item {position: relative;z-index: 1;}#sk-container-id-2 div.sk-parallel {display: flex;align-items: stretch;justify-content: center;background-color: white;position: relative;}#sk-container-id-2 div.sk-item::before, #sk-container-id-2 div.sk-parallel-item::before {content: \"\";position: absolute;border-left: 1px solid gray;box-sizing: border-box;top: 0;bottom: 0;left: 50%;z-index: -1;}#sk-container-id-2 div.sk-parallel-item {display: flex;flex-direction: column;z-index: 1;position: relative;background-color: white;}#sk-container-id-2 div.sk-parallel-item:first-child::after {align-self: flex-end;width: 50%;}#sk-container-id-2 div.sk-parallel-item:last-child::after {align-self: flex-start;width: 50%;}#sk-container-id-2 div.sk-parallel-item:only-child::after {width: 0;}#sk-container-id-2 div.sk-dashed-wrapped {border: 1px dashed gray;margin: 0 0.4em 0.5em 0.4em;box-sizing: border-box;padding-bottom: 0.4em;background-color: white;}#sk-container-id-2 div.sk-label label {font-family: monospace;font-weight: bold;display: inline-block;line-height: 1.2em;}#sk-container-id-2 div.sk-label-container {text-align: center;}#sk-container-id-2 div.sk-container {/* jupyter's `normalize.less` sets `[hidden] { display: none; }` but bootstrap.min.css set `[hidden] { display: none !important; }` so we also need the `!important` here to be able to override the default hidden behavior on the sphinx rendered scikit-learn.org. See: https://github.com/scikit-learn/scikit-learn/issues/21755 */display: inline-block !important;position: relative;}#sk-container-id-2 div.sk-text-repr-fallback {display: none;}</style><div id=\"sk-container-id-2\" class=\"sk-top-container\"><div class=\"sk-text-repr-fallback\"><pre>GradientBoostingClassifier(random_state=42)</pre><b>In a Jupyter environment, please rerun this cell to show the HTML representation or trust the notebook. <br />On GitHub, the HTML representation is unable to render, please try loading this page with nbviewer.org.</b></div><div class=\"sk-container\" hidden><div class=\"sk-item\"><div class=\"sk-estimator sk-toggleable\"><input class=\"sk-toggleable__control sk-hidden--visually\" id=\"sk-estimator-id-2\" type=\"checkbox\" checked><label for=\"sk-estimator-id-2\" class=\"sk-toggleable__label sk-toggleable__label-arrow\">GradientBoostingClassifier</label><div class=\"sk-toggleable__content\"><pre>GradientBoostingClassifier(random_state=42)</pre></div></div></div></div></div>"
      ],
      "text/plain": [
       "GradientBoostingClassifier(random_state=42)"
      ]
     },
     "execution_count": 40,
     "metadata": {},
     "output_type": "execute_result"
    }
   ],
   "source": [
    "gb_classifier.fit(X_bow, y_train)"
   ]
  },
  {
   "cell_type": "code",
   "execution_count": 41,
   "metadata": {},
   "outputs": [
    {
     "data": {
      "text/plain": [
       "<Axes: >"
      ]
     },
     "execution_count": 41,
     "metadata": {},
     "output_type": "execute_result"
    },
    {
     "data": {
      "image/png": "[encoded data removed]",
      "text/plain": [
       "<Figure size 1500x800 with 1 Axes>"
      ]
     },
     "metadata": {},
     "output_type": "display_data"
    }
   ],
   "source": [
    "pd.Series(gb_classifier.feature_importances_, index=bow.vocabulary_).sort_values().tail(20).plot.barh(figsize=(15, 8))"
   ]
  },
  {
   "cell_type": "code",
   "execution_count": 42,
   "metadata": {},
   "outputs": [
    {
     "name": "stdout",
     "output_type": "stream",
     "text": [
      "Número de árboles de decisión: 100\n",
      "Profundidad de los árboles (media): 3.0\n"
     ]
    }
   ],
   "source": [
    "gb_estimators = gb_classifier.estimators_\n",
    "\n",
    "# Imprime el número de árboles\n",
    "print(\"Número de árboles de decisión:\", len(gb_estimators))\n",
    "\n",
    "# Calcula la profundidad promedio de los árboles\n",
    "depths = [tree[0].tree_.max_depth for tree in gb_estimators]\n",
    "print(\"Profundidad de los árboles (media):\", np.mean(depths))"
   ]
  },
  {
   "cell_type": "code",
   "execution_count": 43,
   "metadata": {},
   "outputs": [],
   "source": [
    "y_train_gb_predict = gb_classifier.predict(X_bow)\n",
    "\n",
    "# Realiza predicciones en el conjunto de prueba\n",
    "y_test_gb_predict = gb_classifier.predict(bow.transform(X_test))"
   ]
  },
  {
   "cell_type": "code",
   "execution_count": 44,
   "metadata": {},
   "outputs": [
    {
     "data": {
      "text/plain": [
       "<sklearn.metrics._plot.confusion_matrix.ConfusionMatrixDisplay at 0x1b6fc8de010>"
      ]
     },
     "execution_count": 44,
     "metadata": {},
     "output_type": "execute_result"
    },
    {
     "data": {
      "image/png": "[encoded data removed]",
      "text/plain": [
       "<Figure size 640x480 with 2 Axes>"
      ]
     },
     "metadata": {},
     "output_type": "display_data"
    }
   ],
   "source": [
    "ConfusionMatrixDisplay.from_predictions(y_train, y_train_gb_predict)"
   ]
  },
  {
   "cell_type": "code",
   "execution_count": 45,
   "metadata": {},
   "outputs": [
    {
     "data": {
      "text/plain": [
       "<sklearn.metrics._plot.confusion_matrix.ConfusionMatrixDisplay at 0x1b6fc953b50>"
      ]
     },
     "execution_count": 45,
     "metadata": {},
     "output_type": "execute_result"
    },
    {
     "data": {
      "image/png": "[encoded data removed]",
      "text/plain": [
       "<Figure size 640x480 with 2 Axes>"
      ]
     },
     "metadata": {},
     "output_type": "display_data"
    }
   ],
   "source": [
    "ConfusionMatrixDisplay.from_predictions(y_test, y_test_gb_predict)"
   ]
  },
  {
   "cell_type": "code",
   "execution_count": 46,
   "metadata": {},
   "outputs": [
    {
     "name": "stdout",
     "output_type": "stream",
     "text": [
      "Precision: 1.0\n",
      "Recall: 1.0\n",
      "F1: 1.0\n"
     ]
    }
   ],
   "source": [
    "print(\"Precision:\", precision_score(y_train, y_train_gb_predict, average='micro'))\n",
    "print(\"Recall:\", recall_score(y_train, y_train_gb_predict, average='micro'))\n",
    "print(\"F1:\", f1_score(y_train, y_train_gb_predict, average='micro'))"
   ]
  },
  {
   "cell_type": "code",
   "execution_count": 47,
   "metadata": {},
   "outputs": [
    {
     "name": "stdout",
     "output_type": "stream",
     "text": [
      "Precision: 0.9577777777777777\n",
      "Recall: 0.9577777777777777\n",
      "F1: 0.9577777777777777\n"
     ]
    }
   ],
   "source": [
    "print(\"Precision:\", precision_score(y_test, y_test_gb_predict, average='micro' ))\n",
    "print(\"Recall:\", recall_score(y_test, y_test_gb_predict, average='micro'))\n",
    "print(\"F1:\", f1_score(y_test, y_test_gb_predict, average='micro'))"
   ]
  },
  {
   "cell_type": "markdown",
   "metadata": {
    "id": "Ta6GsY_7zPFX"
   },
   "source": [
    "## 3. Resultados"
   ]
  },
  {
   "cell_type": "markdown",
   "metadata": {},
   "source": []
  }
 ],
 "metadata": {
  "colab": {
   "provenance": []
  },
  "kernelspec": {
   "display_name": "Python 3 (ipykernel)",
   "language": "python",
   "name": "python3"
  },
  "language_info": {
   "codemirror_mode": {
    "name": "ipython",
    "version": 3
   },
   "file_extension": ".py",
   "mimetype": "text/x-python",
   "name": "python",
   "nbconvert_exporter": "python",
   "pygments_lexer": "ipython3",
   "version": "3.11.5"
  }
 },
 "nbformat": 4,
 "nbformat_minor": 0
}
